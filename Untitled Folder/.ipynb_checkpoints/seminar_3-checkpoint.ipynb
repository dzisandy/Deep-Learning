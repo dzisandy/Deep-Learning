{
 "cells": [
  {
   "cell_type": "markdown",
   "metadata": {},
   "source": [
    "# Seminar 3.1: Fine-tuning CNNs\n",
    "\n",
    "This notebook reviews the process of **fine-tuning** a CNN pretrained for task A for to solve a different task B. This is also known as **transfer learning**.\n",
    "\n",
    "The rest of this notebook will guide you through the following:\n",
    "\n",
    "1. Review the target task B (telling cats from dogs on images).\n",
    "2. Download a CNN that has been pretrained to solve a far more complex task A (1000-class [ImageNet](http://image-net.org/) classification).\n",
    "3. Try classifying CNN's outputs by classical machine learning to solve task B (use CNN as a black box feature extractor).\n",
    "4. Replace CNN's last (linear) layer and train only that layer for task B (use CNN's first layers as a black box feature extractor).\n",
    "5. Train the whole network for task B."
   ]
  },
  {
   "cell_type": "markdown",
   "metadata": {},
   "source": [
    "### 1. Dogs vs Cats Dataset"
   ]
  },
  {
   "cell_type": "markdown",
   "metadata": {},
   "source": [
    "Download the dataset:"
   ]
  },
  {
   "cell_type": "code",
   "execution_count": 1,
   "metadata": {},
   "outputs": [],
   "source": [
    "import os\n",
    "from urllib.request import urlretrieve\n",
    "\n",
    "if not os.path.exists(\"dogs_vs_cats.train.zip\"):\n",
    "    urlretrieve(\n",
    "        \"https://www.dropbox.com/s/ae1lq6dsfanse76/dogs_vs_cats.train.zip?dl=1\",\n",
    "        \"dogs_vs_cats.train.zip\")\n",
    "\n",
    "if not os.path.exists(\"dogs_vs_cats\"):\n",
    "    import zipfile\n",
    "    with zipfile.ZipFile(\"dogs_vs_cats.train.zip\", 'r') as archive:\n",
    "        archive.extractall(\"dogs_vs_cats\")"
   ]
  },
  {
   "cell_type": "markdown",
   "metadata": {},
   "source": [
    "Split train/val and move to subfolders:"
   ]
  },
  {
   "cell_type": "code",
   "execution_count": 2,
   "metadata": {},
   "outputs": [],
   "source": [
    "dataset_root = \"dogs_vs_cats\"\n",
    "\n",
    "os.makedirs(os.path.join(dataset_root, \"train\", \"dog\"), exist_ok=True)\n",
    "os.makedirs(os.path.join(dataset_root, \"train\", \"cat\"), exist_ok=True)\n",
    "\n",
    "os.makedirs(os.path.join(dataset_root, \"val\", \"dog\"), exist_ok=True)\n",
    "os.makedirs(os.path.join(dataset_root, \"val\", \"cat\"), exist_ok=True)\n",
    "\n",
    "for filename in os.listdir(os.path.join(dataset_root, \"train\")):\n",
    "    if filename.endswith(\".jpg\"):\n",
    "        class_name = filename[:3] # \"dog\" or \"cat\"\n",
    "        split = \"val\" if int(filename[4:-4]) % 7 == 0 else \"train\"\n",
    "        \n",
    "        os.rename(\n",
    "            os.path.join(dataset_root, \"train\", filename),\n",
    "            os.path.join(dataset_root, split, class_name, filename))"
   ]
  },
  {
   "cell_type": "markdown",
   "metadata": {},
   "source": [
    "Explore the dataset:"
   ]
  },
  {
   "cell_type": "code",
   "execution_count": 3,
   "metadata": {},
   "outputs": [],
   "source": [
    "import torch\n",
    "import torchvision\n",
    "\n",
    "train_dataset = torchvision.datasets.ImageFolder(\n",
    "    os.path.join(dataset_root, \"train\"),\n",
    "    torchvision.transforms.ToTensor())\n",
    "\n",
    "val_dataset = torchvision.datasets.ImageFolder(\n",
    "    os.path.join(dataset_root, \"val\"),\n",
    "    transform=torchvision.transforms.ToTensor())"
   ]
  },
  {
   "cell_type": "code",
   "execution_count": 4,
   "metadata": {},
   "outputs": [
    {
     "name": "stdout",
     "output_type": "stream",
     "text": [
      "dog\n",
      "Image size: <built-in method size of Tensor object at 0x7f9633a60b88>\n"
     ]
    }
   ],
   "source": [
    "image, label = train_dataset[11000]\n",
    "print(\"cat\" if label == 0 else \"dog\")\n",
    "print(\"Image size:\", image.size)"
   ]
  },
  {
   "cell_type": "markdown",
   "metadata": {},
   "source": [
    "### 2. CNNs pretrained on the *ImageNet* dataset"
   ]
  },
  {
   "cell_type": "markdown",
   "metadata": {},
   "source": [
    "#### 2.1 The ImageNet challenge"
   ]
  },
  {
   "cell_type": "code",
   "execution_count": 5,
   "metadata": {},
   "outputs": [],
   "source": [
    "import requests\n",
    "\n",
    "# ImageNet class labels\n",
    "LABELS_URL = 'https://s3.amazonaws.com/outcome-blog/imagenet/labels.json'\n",
    "class_names = list(requests.get(LABELS_URL).json().values())\n",
    "n_classes = len(class_names)"
   ]
  },
  {
   "cell_type": "code",
   "execution_count": 6,
   "metadata": {},
   "outputs": [
    {
     "name": "stdout",
     "output_type": "stream",
     "text": [
      "Total 1000 classes; examples:\n",
      "Class 335: fox squirrel, eastern fox squirrel, Sciurus niger\n",
      "Class 704: parking meter\n",
      "Class 425: barn\n",
      "Class 590: hand-held computer, hand-held microcomputer\n",
      "Class 837: sunglasses, dark glasses, shades\n",
      "Class 931: bagel, beigel\n",
      "Class 40: American chameleon, anole, Anolis carolinensis\n",
      "Class 120: fiddler crab\n",
      "Class 929: ice lolly, lolly, lollipop, popsicle\n",
      "Class 206: curly-coated retriever\n"
     ]
    }
   ],
   "source": [
    "import random\n",
    "\n",
    "print(\"Total %d classes; examples:\" % n_classes)\n",
    "for _ in range(10):\n",
    "    class_idx = random.randint(0, len(class_names))\n",
    "    print(\"Class %d: %s\" % (class_idx, class_names[class_idx]))"
   ]
  },
  {
   "cell_type": "markdown",
   "metadata": {},
   "source": [
    "#### 2.2 Pretrained CNNs"
   ]
  },
  {
   "cell_type": "code",
   "execution_count": 7,
   "metadata": {},
   "outputs": [
    {
     "name": "stdout",
     "output_type": "stream",
     "text": [
      "Help on package torchvision.models in torchvision:\n",
      "\n",
      "NAME\n",
      "    torchvision.models\n",
      "\n",
      "PACKAGE CONTENTS\n",
      "    alexnet\n",
      "    densenet\n",
      "    inception\n",
      "    resnet\n",
      "    squeezenet\n",
      "    vgg\n",
      "\n",
      "FILE\n",
      "    /usr/local/lib/python3.6/dist-packages/torchvision/models/__init__.py\n",
      "\n",
      "\n"
     ]
    }
   ],
   "source": [
    "help(torchvision.models)"
   ]
  },
  {
   "cell_type": "markdown",
   "metadata": {
    "collapsed": true
   },
   "source": [
    "Let's use for example the [\"Inception v3\"](https://github.com/pytorch/vision/blob/master/torchvision/models/inception.py) network:\n",
    "\n",
    "![img](https://hackathonprojects.files.wordpress.com/2016/09/googlenet_diagram.png?w=650&h=192)"
   ]
  },
  {
   "cell_type": "code",
   "execution_count": 8,
   "metadata": {},
   "outputs": [],
   "source": [
    "?torchvision.models.Inception3"
   ]
  },
  {
   "cell_type": "code",
   "execution_count": 9,
   "metadata": {},
   "outputs": [],
   "source": [
    "?torchvision.models.inception_v3"
   ]
  },
  {
   "cell_type": "code",
   "execution_count": 10,
   "metadata": {},
   "outputs": [],
   "source": [
    "model = # Your code here"
   ]
  },
  {
   "cell_type": "code",
   "execution_count": 11,
   "metadata": {},
   "outputs": [],
   "source": [
    "sample_input = torch.randn(5, 3, 123, 234)\n",
    "sample_output = model(sample_input)"
   ]
  },
  {
   "cell_type": "code",
   "execution_count": 1,
   "metadata": {},
   "outputs": [],
   "source": [
    "sample_output.shape"
   ]
  },
  {
   "cell_type": "code",
   "execution_count": 2,
   "metadata": {},
   "outputs": [],
   "source": [
    "sample_output.min(), sample_output.max()"
   ]
  },
  {
   "cell_type": "markdown",
   "metadata": {},
   "source": [
    "Try to classify some images from `./sample_images/`:"
   ]
  },
  {
   "cell_type": "code",
   "execution_count": 14,
   "metadata": {},
   "outputs": [],
   "source": [
    "# See https://pytorch.org/docs/stable/torchvision/models.html\n",
    "imagenet_mean = #\n",
    "imagenet_std = #"
   ]
  },
  {
   "cell_type": "code",
   "execution_count": 15,
   "metadata": {},
   "outputs": [],
   "source": [
    "def PIL_to_pytorch(image):\n",
    "    return torch.tensor(image.getdata()).view(image.size + (3,))\n",
    "\n",
    "def predict(image):\n",
    "    \"\"\"\n",
    "        image: PIL image\n",
    "        \n",
    "        returns: ImageNet class probabilities\n",
    "    \"\"\"\n",
    "    image = PIL_to_pytorch(image)\n",
    "    \n",
    "    # Your code here"
   ]
  },
  {
   "cell_type": "code",
   "execution_count": 16,
   "metadata": {},
   "outputs": [
    {
     "data": {
      "image/png": "[encoded data removed]",
      "text/plain": [
       "<PIL.Image.Image image mode=RGB size=256x256 at 0x7F9607FBD518>"
      ]
     },
     "execution_count": 16,
     "metadata": {},
     "output_type": "execute_result"
    }
   ],
   "source": [
    "import PIL\n",
    "\n",
    "image_path = \"./sample_images/albatross.jpg\"\n",
    "\n",
    "image = PIL.Image.open(image_path).resize((224, 224))\n",
    "image"
   ]
  },
  {
   "cell_type": "code",
   "execution_count": 3,
   "metadata": {},
   "outputs": [],
   "source": [
    "probabilities = predict(image)\n",
    "\n",
    "top_probabilities, top_indices = # Your code here\n",
    "print(\"10 most probable classes are:\")\n",
    "# Your code here"
   ]
  },
  {
   "cell_type": "markdown",
   "metadata": {},
   "source": [
    "### 3. Use classical machine learning with a pretrained CNN"
   ]
  },
  {
   "cell_type": "code",
   "execution_count": 18,
   "metadata": {},
   "outputs": [],
   "source": [
    "# Remove the last layer\n",
    "# Your code here"
   ]
  },
  {
   "cell_type": "code",
   "execution_count": 19,
   "metadata": {},
   "outputs": [],
   "source": [
    "sample_input = torch.randn(5, 3, 123, 234)\n",
    "sample_embedding = model(sample_input)"
   ]
  },
  {
   "cell_type": "code",
   "execution_count": 20,
   "metadata": {},
   "outputs": [
    {
     "data": {
      "text/plain": [
       "torch.Size([5, 2048])"
      ]
     },
     "execution_count": 20,
     "metadata": {},
     "output_type": "execute_result"
    }
   ],
   "source": [
    "sample_embedding.shape"
   ]
  },
  {
   "cell_type": "code",
   "execution_count": 21,
   "metadata": {},
   "outputs": [],
   "source": [
    "train_dataset = torchvision.datasets.ImageFolder(\n",
    "    os.path.join(dataset_root, \"train\"),\n",
    "    torchvision.transforms.Compose([\n",
    "        torchvision.transforms.Resize((224, 224)),\n",
    "        torchvision.transforms.ToTensor(),\n",
    "        torchvision.transforms.Normalize(mean=imagenet_mean, std=imagenet_std)]\n",
    "    )\n",
    ")\n",
    "\n",
    "val_dataset = torchvision.datasets.ImageFolder(\n",
    "    os.path.join(dataset_root, \"val\"),\n",
    "    torchvision.transforms.Compose([\n",
    "        torchvision.transforms.Resize((224, 224)),\n",
    "        torchvision.transforms.ToTensor(),\n",
    "        torchvision.transforms.Normalize(mean=imagenet_mean, std=imagenet_std)]\n",
    "    )\n",
    ")"
   ]
  },
  {
   "cell_type": "code",
   "execution_count": 22,
   "metadata": {},
   "outputs": [],
   "source": [
    "?torch.utils.data.DataLoader"
   ]
  },
  {
   "cell_type": "code",
   "execution_count": 23,
   "metadata": {},
   "outputs": [],
   "source": [
    "batch_size = 64\n",
    "\n",
    "train_loader = torch.utils.data.DataLoader(\n",
    "    train_dataset, batch_size=batch_size, num_workers=2, shuffle=True, pin_memory=True)\n",
    "\n",
    "val_loader = torch.utils.data.DataLoader(\n",
    "    val_dataset, batch_size=batch_size, num_workers=2, shuffle=True, pin_memory=True)"
   ]
  },
  {
   "cell_type": "code",
   "execution_count": 24,
   "metadata": {},
   "outputs": [
    {
     "name": "stdout",
     "output_type": "stream",
     "text": [
      "Requirement already satisfied: tqdm in /usr/local/lib/python3.6/dist-packages (4.28.1)\n",
      "\u001b[33mYou are using pip version 18.0, however version 19.0.3 is available.\n",
      "You should consider upgrading via the 'pip install --upgrade pip' command.\u001b[0m\n"
     ]
    }
   ],
   "source": [
    "!pip install --user tqdm\n",
    "from tqdm import tqdm_notebook as tqdm"
   ]
  },
  {
   "cell_type": "code",
   "execution_count": null,
   "metadata": {},
   "outputs": [],
   "source": [
    "import numpy as np\n",
    "\n",
    "model.cuda();"
   ]
  },
  {
   "cell_type": "code",
   "execution_count": 4,
   "metadata": {},
   "outputs": [],
   "source": [
    "X_train = np.empty((len(train_dataset), sample_embedding.shape[1]), dtype=np.float32)\n",
    "y_train = np.empty(len(train_dataset), dtype=np.int64)\n",
    "\n",
    "with torch.no_grad():\n",
    "    # Your code here: precompute embeddings"
   ]
  },
  {
   "cell_type": "code",
   "execution_count": null,
   "metadata": {},
   "outputs": [],
   "source": [
    "X_val = np.empty((len(val_dataset), sample_embedding.shape[1]), dtype=np.float32)\n",
    "y_val = np.empty(len(val_dataset), dtype=np.int64)\n",
    "\n",
    "with torch.no_grad():\n",
    "    # Your code here: precompute embeddings"
   ]
  },
  {
   "cell_type": "code",
   "execution_count": 29,
   "metadata": {},
   "outputs": [
    {
     "data": {
      "text/plain": [
       "<module 'sklearn' from '/home/shrubb/.local/lib/python3.6/site-packages/sklearn/__init__.py'>"
      ]
     },
     "execution_count": 29,
     "metadata": {},
     "output_type": "execute_result"
    }
   ],
   "source": [
    "# Train a classifier on precomputed embeddings\n",
    "import sklearn\n",
    "\n",
    "sklearn.ensemble.RandomForestClassifier"
   ]
  },
  {
   "cell_type": "markdown",
   "metadata": {},
   "source": [
    "### 4. Replace the last layer and retrain it"
   ]
  },
  {
   "cell_type": "code",
   "execution_count": null,
   "metadata": {},
   "outputs": [],
   "source": []
  },
  {
   "cell_type": "markdown",
   "metadata": {},
   "source": [
    "### 5. Fine-tune the whole network"
   ]
  },
  {
   "cell_type": "code",
   "execution_count": null,
   "metadata": {},
   "outputs": [],
   "source": []
  }
 ],
 "metadata": {
  "kernelspec": {
   "display_name": "Python 3",
   "language": "python",
   "name": "python3"
  },
  "language_info": {
   "codemirror_mode": {
    "name": "ipython",
    "version": 3
   },
   "file_extension": ".py",
   "mimetype": "text/x-python",
   "name": "python",
   "nbconvert_exporter": "python",
   "pygments_lexer": "ipython3",
   "version": "3.6.7"
  }
 },
 "nbformat": 4,
 "nbformat_minor": 2
}
