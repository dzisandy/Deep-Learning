{
 "cells": [
  {
   "cell_type": "markdown",
   "metadata": {},
   "source": [
    "# Homework 1: Differentiation"
   ]
  },
  {
   "cell_type": "markdown",
   "metadata": {},
   "source": [
    "Since it easy to google every task please please please try to undestand what's going on. The \"just answer\" thing will be not counted, make sure to present derivation of your solution. It is absolutely OK if you found an answer on web then just exercise in $\\LaTeX$ copying it into here. A good way to derive solutions for these tasks is to derive it for single elements and then generalize to the resulting matrix/vector."
   ]
  },
  {
   "cell_type": "markdown",
   "metadata": {},
   "source": [
    "Useful links: \n",
    "[1](http://www.machinelearning.ru/wiki/images/2/2a/Matrix-Gauss.pdf)\n",
    "[2](http://www.atmos.washington.edu/~dennis/MatrixCalculus.pdf)\n",
    "[3](http://cal.cs.illinois.edu/~johannes/research/matrix%20calculus.pdf)"
   ]
  },
  {
   "cell_type": "markdown",
   "metadata": {},
   "source": [
    "## ex. 1"
   ]
  },
  {
   "cell_type": "markdown",
   "metadata": {},
   "source": [
    "Scalar w.r.t. vector:\n",
    "$$  \n",
    "y = c^Tx,  \\quad x \\in \\mathbb{R}^N \n",
    "$$"
   ]
  },
  {
   "cell_type": "markdown",
   "metadata": {},
   "source": [
    "$$y_i =  c_i x_i$$\n",
    "\n",
    "$$\n",
    "\\frac{dy_i}{dx_i} = c_i\n",
    "$$ \n",
    "\n",
    "$$\\frac{dy}{dx} \\in R^{1 \\times N}$$\n",
    "\n",
    "$$\n",
    "\\frac{dy}{dx} = c^T\n",
    "$$ "
   ]
  },
  {
   "cell_type": "markdown",
   "metadata": {},
   "source": [
    "## ex. 2"
   ]
  },
  {
   "cell_type": "markdown",
   "metadata": {},
   "source": [
    "Vector w.r.t. vector:\n",
    "$$ y = \\sum_{j=1}^{N} cx^T \\quad c \\in \\mathbb{R}^{M} ,x \\in \\mathbb{R}^{N}, cx^T \\in \\mathbb{R}^{M \\times N} $$ "
   ]
  },
  {
   "cell_type": "markdown",
   "metadata": {},
   "source": [
    "$$y_i =  \\sum_j^N c_i x_j = c_i \\sum_j^N x_j$$\n",
    "\n",
    "$$\n",
    "\\frac{dy_i}{dx_i} = c_i\n",
    "$$\n",
    "\n",
    "$$\\frac{dy}{dx} \\in R^{1 \\times N}$$\n",
    "\n",
    "$$\n",
    "\\frac{dy}{dx} = [c, \\cdots, c] \\in R^{M \\times N}\n",
    "$$"
   ]
  },
  {
   "cell_type": "markdown",
   "metadata": {},
   "source": [
    "## ex. 3"
   ]
  },
  {
   "cell_type": "markdown",
   "metadata": {},
   "source": [
    "Vector w.r.t. vector:\n",
    "$$  \n",
    "y = x x^T x , x \\in \\mathbb{R}^{N}\n",
    "$$\n"
   ]
  },
  {
   "cell_type": "markdown",
   "metadata": {},
   "source": [
    "$$ x^Tx = \\sum_z^N x_z^2$$\n",
    "\n",
    "$$ y_i = x_i \\sum_z^N x_z^2$$\n",
    "\n",
    "$$\\frac{dy_i}{dx_j} =  \\begin{cases}\n",
    "   2x_ix_j & i \\ne j\\\\\n",
    "   \\sum_z^N x_z^2 + 2x_ix_j & i = j\n",
    " \\end{cases}\n",
    "$$\n",
    "\n",
    "$$\n",
    "\\frac{dy}{dx} = 2xx^T + Ex^Tx\n",
    "$$\n",
    "\n",
    "$E$- identity matrix"
   ]
  },
  {
   "cell_type": "markdown",
   "metadata": {},
   "source": [
    "## ex. 4"
   ]
  },
  {
   "cell_type": "markdown",
   "metadata": {},
   "source": [
    "Derivatives for the parameters of the Dense layer:\n",
    "\n",
    "***Given :***  $$Y = XW, Y \\in \\mathbb{R}^{N \\times OUT}, X \\in \\mathbb{R}^{N \\times IN}, W \\in \\mathbb{R}^{IN \\times OUT} $$ \n",
    "\n",
    "The derivative of the hypothetic loss function w.r.t. to $Y$ is known: $\\Delta Y  \\in \\mathbb{R}^{N \\times OUT}$\n",
    "\n",
    "***Task :*** Please, derive the gradients of the loss w.r.t the weight matrix $W$: $\\Delta W  \\in \\mathbb{R}^{IN \\times OUT}$. Use the chain rule. First, please, derive each element of the $\\Delta W$, then generalize to the matrix form.\n",
    " \n",
    "Useful link: http://cs231n.stanford.edu/vecDerivs.pdf\n"
   ]
  },
  {
   "cell_type": "markdown",
   "metadata": {
    "collapsed": true
   },
   "source": [
    "$$\\Delta Y = \\frac{dL}{dY}; \\Delta W = \\frac{dL}{dW}$$\n",
    "\n",
    "$$\\Delta W = \\frac{dL}{dW} = \\frac{dL}{dY} \\frac{dY}{dW} =\\Delta Y \\frac{dY}{dW} $$\n",
    "\n",
    "$$\\Delta W_{ij} = \\sum_{i=1}^{N} \\Delta Y_{ij} \\frac{dY_{ij}}{dW_{ij}} = \\sum_{i=1}^{N} \\Delta Y_{ij} X_{ij} = \\sum_{i=1}^{N} \\Delta Y_{ij} X_{ji}^T$$\n",
    "\n",
    "$$\\Delta W = X^T\\Delta Y$$\n",
    "\n"
   ]
  }
 ],
 "metadata": {
  "kernelspec": {
   "display_name": "Python 3",
   "language": "python",
   "name": "python3"
  },
  "language_info": {
   "codemirror_mode": {
    "name": "ipython",
    "version": 3
   },
   "file_extension": ".py",
   "mimetype": "text/x-python",
   "name": "python",
   "nbconvert_exporter": "python",
   "pygments_lexer": "ipython3",
   "version": "3.6.8"
  }
 },
 "nbformat": 4,
 "nbformat_minor": 1
}
