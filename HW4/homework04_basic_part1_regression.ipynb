{
  "nbformat": 4,
  "nbformat_minor": 0,
  "metadata": {
    "colab": {
      "name": "homework04_basic_part1_regression.ipynb",
      "version": "0.3.2",
      "provenance": []
    },
    "language_info": {
      "codemirror_mode": {
        "name": "ipython",
        "version": 3
      },
      "file_extension": ".py",
      "mimetype": "text/x-python",
      "name": "python",
      "nbconvert_exporter": "python",
      "pygments_lexer": "ipython3",
      "version": "3.6.8"
    },
    "kernelspec": {
      "name": "python3",
      "display_name": "Python 3"
    },
    "accelerator": "GPU"
  },
  "cells": [
    {
      "cell_type": "markdown",
      "metadata": {
        "id": "GbDlScNFwQtv",
        "colab_type": "text"
      },
      "source": [
        "# Natural Language Processing with Deep Learning (7 points)\n",
        "\n",
        "Today we're gonna apply the newly learned DL tools for sequence processing to the task of predicting job salary.\n",
        "\n",
        "Special thanks to [Oleg Vasilev](https://github.com/Omrigan/) for the assignment core (orignally written for theano/tensorflow)."
      ]
    },
    {
      "cell_type": "code",
      "metadata": {
        "id": "IyR1d6C2wQtx",
        "colab_type": "code",
        "colab": {}
      },
      "source": [
        "import numpy as np\n",
        "import pandas as pd\n",
        "import matplotlib.pyplot as plt\n",
        "%matplotlib inline"
      ],
      "execution_count": 0,
      "outputs": []
    },
    {
      "cell_type": "markdown",
      "metadata": {
        "id": "gp2N29LuwQt4",
        "colab_type": "text"
      },
      "source": [
        "### About the challenge\n",
        "For starters, let's download the data from __[here](https://yadi.sk/d/vVEOWPFY3NruT7)__.\n",
        "\n",
        "You can also get it from the competition [page](https://www.kaggle.com/c/job-salary-prediction/data) (in that case, pick `Train_rev1.*`).\n",
        "\n",
        "\n",
        "Our task is to predict one number, __SalaryNormalized__, in the sense of minimizing __Mean Absolute Error__.\n",
        "\n",
        "<img src=\"https://storage.googleapis.com/kaggle-competitions/kaggle/3342/media/salary%20prediction%20engine%20v2.png\" width=400px>\n",
        "\n",
        "To do so, our model ca access a number of features:\n",
        "* Free text: __`Title`__ and  __`FullDescription`__\n",
        "* Categorical: __`Category`__, __`Company`__, __`LocationNormalized`__, __`ContractType`__, and __`ContractTime`__.\n",
        "\n",
        "\n",
        "You can read more [in the official description](https://www.kaggle.com/c/job-salary-prediction#description)."
      ]
    },
    {
      "cell_type": "code",
      "metadata": {
        "id": "lZKNpH5pqSOQ",
        "colab_type": "code",
        "outputId": "fcf01ccb-7771-407b-ebc7-fbe7fdd1c842",
        "colab": {
          "base_uri": "https://localhost:8080/",
          "height": 919
        }
      },
      "source": [
        "#Data loader\n",
        "'''Taken from discussion in DL chat'''\n",
        "! pip3 install wldhx.yadisk-direct\n",
        "! curl -L $(yadisk-direct https://disk.yandex.ru/d/vVEOWPFY3NruT7) -o Train_rev1.csv.zip\n",
        "!unzip Train_rev1.csv.zip"
      ],
      "execution_count": 0,
      "outputs": [
        {
          "output_type": "stream",
          "text": [
            "Collecting wldhx.yadisk-direct\n",
            "  Downloading https://files.pythonhosted.org/packages/20/a9/e14d8abec847b839d95d131dede68aa03c0bd3ca6485cca406550dfa2a3a/wldhx.yadisk_direct-0.0.6-py3-none-any.whl\n",
            "Requirement already satisfied: requests in /usr/local/lib/python3.6/dist-packages (from wldhx.yadisk-direct) (2.21.0)\n",
            "Requirement already satisfied: certifi>=2017.4.17 in /usr/local/lib/python3.6/dist-packages (from requests->wldhx.yadisk-direct) (2019.3.9)\n",
            "Requirement already satisfied: urllib3<1.25,>=1.21.1 in /usr/local/lib/python3.6/dist-packages (from requests->wldhx.yadisk-direct) (1.24.3)\n",
            "Requirement already satisfied: chardet<3.1.0,>=3.0.2 in /usr/local/lib/python3.6/dist-packages (from requests->wldhx.yadisk-direct) (3.0.4)\n",
            "Requirement already satisfied: idna<2.9,>=2.5 in /usr/local/lib/python3.6/dist-packages (from requests->wldhx.yadisk-direct) (2.8)\n",
            "Installing collected packages: wldhx.yadisk-direct\n",
            "Successfully installed wldhx.yadisk-direct-0.0.6\n",
            "  % Total    % Received % Xferd  Average Speed   Time    Time     Time  Current\n",
            "                                 Dload  Upload   Total   Spent    Left  Speed\n",
            "  0     0    0     0    0     0      0      0 --:--:--  0:00:02 --:--:--     0\n",
            "100  122M  100  122M    0     0  5724k      0  0:00:21  0:00:21 --:--:-- 9014k\n",
            "Archive:  Train_rev1.csv.zip\n",
            "  inflating: Train_rev1.csv          \n"
          ],
          "name": "stdout"
        }
      ]
    },
    {
      "cell_type": "code",
      "metadata": {
        "id": "fI6TsFVewQt6",
        "colab_type": "code",
        "outputId": "c7fef68e-0efa-459e-e556-c34225526788",
        "colab": {
          "base_uri": "https://localhost:8080/",
          "height": 85
        }
      },
      "source": [
        "data = pd.read_csv(\"./Train_rev1.csv\", index_col=None)\n",
        "data['Log1pSalary'] = np.log1p(data['SalaryNormalized']).astype('float32')\n",
        "\n",
        "text_columns = [\"Title\", \"FullDescription\"]\n",
        "categorical_columns = [\"Category\", \"Company\", \"LocationNormalized\", \"ContractType\", \"ContractTime\"]\n",
        "target_column = \"Log1pSalary\"\n",
        "data[categorical_columns] = data[categorical_columns].fillna('NaN') # cast nan to string\n",
        "\n",
        "data.sample(3)['FullDescription']"
      ],
      "execution_count": 0,
      "outputs": [
        {
          "output_type": "execute_result",
          "data": {
            "text/plain": [
              "240781    Fantastic opportunity to work for an internati...\n",
              "119039    Enthusiastic Religious Education Teacher requi...\n",
              "17502     Support Engineer, Technical Support Analyst, 2...\n",
              "Name: FullDescription, dtype: object"
            ]
          },
          "metadata": {
            "tags": []
          },
          "execution_count": 3
        }
      ]
    },
    {
      "cell_type": "code",
      "metadata": {
        "id": "sp8p2judwQuD",
        "colab_type": "code",
        "outputId": "c967dfc9-672f-4bc4-eafc-7d3f49b93177",
        "colab": {
          "base_uri": "https://localhost:8080/",
          "height": 369
        }
      },
      "source": [
        "data.sample(3)"
      ],
      "execution_count": 0,
      "outputs": [
        {
          "output_type": "execute_result",
          "data": {
            "text/html": [
              "<div>\n",
              "<style scoped>\n",
              "    .dataframe tbody tr th:only-of-type {\n",
              "        vertical-align: middle;\n",
              "    }\n",
              "\n",
              "    .dataframe tbody tr th {\n",
              "        vertical-align: top;\n",
              "    }\n",
              "\n",
              "    .dataframe thead th {\n",
              "        text-align: right;\n",
              "    }\n",
              "</style>\n",
              "<table border=\"1\" class=\"dataframe\">\n",
              "  <thead>\n",
              "    <tr style=\"text-align: right;\">\n",
              "      <th></th>\n",
              "      <th>Id</th>\n",
              "      <th>Title</th>\n",
              "      <th>FullDescription</th>\n",
              "      <th>LocationRaw</th>\n",
              "      <th>LocationNormalized</th>\n",
              "      <th>ContractType</th>\n",
              "      <th>ContractTime</th>\n",
              "      <th>Company</th>\n",
              "      <th>Category</th>\n",
              "      <th>SalaryRaw</th>\n",
              "      <th>SalaryNormalized</th>\n",
              "      <th>SourceName</th>\n",
              "      <th>Log1pSalary</th>\n",
              "    </tr>\n",
              "  </thead>\n",
              "  <tbody>\n",
              "    <tr>\n",
              "      <th>184211</th>\n",
              "      <td>71643500</td>\n",
              "      <td>Senior SQL Database Developer</td>\n",
              "      <td>Senior Microsoft Database Engineer  (SQL, Scri...</td>\n",
              "      <td>Greater London, Central London</td>\n",
              "      <td>London</td>\n",
              "      <td>NaN</td>\n",
              "      <td>NaN</td>\n",
              "      <td>Progressive Recruitment</td>\n",
              "      <td>Other/General Jobs</td>\n",
              "      <td>50,000-74,999 yearly</td>\n",
              "      <td>62499</td>\n",
              "      <td>theladders.co.uk</td>\n",
              "      <td>11.042922</td>\n",
              "    </tr>\n",
              "    <tr>\n",
              "      <th>207478</th>\n",
              "      <td>72128386</td>\n",
              "      <td>Technical Operations Manager – South West</td>\n",
              "      <td>Candidates should have a strong background in ...</td>\n",
              "      <td>South West</td>\n",
              "      <td>South West London</td>\n",
              "      <td>NaN</td>\n",
              "      <td>permanent</td>\n",
              "      <td>Adapt IT Recruitment</td>\n",
              "      <td>IT Jobs</td>\n",
              "      <td>From 60,000 to 60,000 per annum Circa 60k + Ca...</td>\n",
              "      <td>60000</td>\n",
              "      <td>cwjobs.co.uk</td>\n",
              "      <td>11.002116</td>\n",
              "    </tr>\n",
              "    <tr>\n",
              "      <th>21189</th>\n",
              "      <td>67300587</td>\n",
              "      <td>Quality Engineer  CVE</td>\n",
              "      <td>Job Title: Quality Engineer  Exterior Componen...</td>\n",
              "      <td>Warwickshire</td>\n",
              "      <td>Warwickshire</td>\n",
              "      <td>NaN</td>\n",
              "      <td>permanent</td>\n",
              "      <td>ASC Connections</td>\n",
              "      <td>Other/General Jobs</td>\n",
              "      <td>38000 - 40000/annum Excellent Benefits Package</td>\n",
              "      <td>39000</td>\n",
              "      <td>cv-library.co.uk</td>\n",
              "      <td>10.571342</td>\n",
              "    </tr>\n",
              "  </tbody>\n",
              "</table>\n",
              "</div>"
            ],
            "text/plain": [
              "              Id                                      Title  \\\n",
              "184211  71643500              Senior SQL Database Developer   \n",
              "207478  72128386  Technical Operations Manager – South West   \n",
              "21189   67300587                      Quality Engineer  CVE   \n",
              "\n",
              "                                          FullDescription  \\\n",
              "184211  Senior Microsoft Database Engineer  (SQL, Scri...   \n",
              "207478  Candidates should have a strong background in ...   \n",
              "21189   Job Title: Quality Engineer  Exterior Componen...   \n",
              "\n",
              "                           LocationRaw LocationNormalized ContractType  \\\n",
              "184211  Greater London, Central London             London          NaN   \n",
              "207478                      South West  South West London          NaN   \n",
              "21189                     Warwickshire       Warwickshire          NaN   \n",
              "\n",
              "       ContractTime                  Company            Category  \\\n",
              "184211          NaN  Progressive Recruitment  Other/General Jobs   \n",
              "207478    permanent     Adapt IT Recruitment             IT Jobs   \n",
              "21189     permanent          ASC Connections  Other/General Jobs   \n",
              "\n",
              "                                                SalaryRaw  SalaryNormalized  \\\n",
              "184211                               50,000-74,999 yearly             62499   \n",
              "207478  From 60,000 to 60,000 per annum Circa 60k + Ca...             60000   \n",
              "21189      38000 - 40000/annum Excellent Benefits Package             39000   \n",
              "\n",
              "              SourceName  Log1pSalary  \n",
              "184211  theladders.co.uk    11.042922  \n",
              "207478      cwjobs.co.uk    11.002116  \n",
              "21189   cv-library.co.uk    10.571342  "
            ]
          },
          "metadata": {
            "tags": []
          },
          "execution_count": 4
        }
      ]
    },
    {
      "cell_type": "markdown",
      "metadata": {
        "id": "7UTkA7NgwQuN",
        "colab_type": "text"
      },
      "source": [
        "### The NLP part\n",
        "\n",
        "To even begin training our neural network, we're gonna need to preprocess the text features: tokenize it and build the token vocabularies.\n",
        "\n",
        "Since it is not an NLP course, we're gonna use simple built-in NLTK tokenization."
      ]
    },
    {
      "cell_type": "code",
      "metadata": {
        "id": "SgT1aaONwQuP",
        "colab_type": "code",
        "outputId": "498baade-1739-4226-8555-b5cb63cdda2c",
        "colab": {
          "base_uri": "https://localhost:8080/",
          "height": 102
        }
      },
      "source": [
        "print(\"Before\")\n",
        "print(data[\"Title\"][::100000])"
      ],
      "execution_count": 0,
      "outputs": [
        {
          "output_type": "stream",
          "text": [
            "Before\n",
            "0         Engineering Systems Analyst\n",
            "100000                   HR Assistant\n",
            "200000           Senior EC&I Engineer\n",
            "Name: Title, dtype: object\n"
          ],
          "name": "stdout"
        }
      ]
    },
    {
      "cell_type": "code",
      "metadata": {
        "id": "nNnfdNVrwQuX",
        "colab_type": "code",
        "colab": {}
      },
      "source": [
        "import nltk\n",
        "tokenizer = nltk.tokenize.WordPunctTokenizer()\n",
        "\n",
        "for col in text_columns:\n",
        "    data[col] = data[col].apply(lambda l: ' '.join(tokenizer.tokenize(str(l).lower())))"
      ],
      "execution_count": 0,
      "outputs": []
    },
    {
      "cell_type": "markdown",
      "metadata": {
        "id": "cvUIc6wHwQuc",
        "colab_type": "text"
      },
      "source": [
        "Now we can assume that our text is a space-separated list of tokens:"
      ]
    },
    {
      "cell_type": "code",
      "metadata": {
        "id": "2ze5oewkwQud",
        "colab_type": "code",
        "outputId": "fc30c20a-e1bb-4de5-f690-fa47a461a379",
        "colab": {
          "base_uri": "https://localhost:8080/",
          "height": 102
        }
      },
      "source": [
        "print(\"After\")\n",
        "print(data[\"Title\"][::100000])"
      ],
      "execution_count": 0,
      "outputs": [
        {
          "output_type": "stream",
          "text": [
            "After\n",
            "0         engineering systems analyst\n",
            "100000                   hr assistant\n",
            "200000         senior ec & i engineer\n",
            "Name: Title, dtype: object\n"
          ],
          "name": "stdout"
        }
      ]
    },
    {
      "cell_type": "markdown",
      "metadata": {
        "id": "WN9UQdU5wQug",
        "colab_type": "text"
      },
      "source": [
        "Not all words are equally useful. Some of them are typos or rare words that are only present a few times. \n",
        "\n",
        "Let's see how many times is each word present in the data so that we can build a \"white list\" of known words."
      ]
    },
    {
      "cell_type": "code",
      "metadata": {
        "id": "lpGWvBzqwQuh",
        "colab_type": "code",
        "colab": {}
      },
      "source": [
        "from collections import Counter\n",
        "token_counts = Counter()\n",
        "\n",
        "# Count how many times does each token occur in \"Title\" and \"FullDescription\"\n",
        "tokens = []\n",
        "for col in text_columns:\n",
        "    for i in range(len(data[col])):\n",
        "        tokens += data[col][i].split(' ')\n",
        "token_counts = Counter(tokens)\n",
        "tokens = []"
      ],
      "execution_count": 0,
      "outputs": []
    },
    {
      "cell_type": "code",
      "metadata": {
        "id": "B1xqZcwcwQul",
        "colab_type": "code",
        "outputId": "f523e534-ac98-4c9b-fb30-f0f09939fa30",
        "colab": {
          "base_uri": "https://localhost:8080/",
          "height": 204
        }
      },
      "source": [
        "print(\"Total unique tokens :\", len(token_counts))\n",
        "print('\\n'.join(map(str, token_counts.most_common(n=5))))\n",
        "print('...')\n",
        "print('\\n'.join(map(str, token_counts.most_common()[-3:])))\n",
        "\n",
        "assert token_counts.most_common(1)[0][1] in  range(2600000, 2700000)\n",
        "assert len(token_counts) in range(200000, 210000)\n",
        "print('Correct!')"
      ],
      "execution_count": 0,
      "outputs": [
        {
          "output_type": "stream",
          "text": [
            "Total unique tokens : 202704\n",
            "('and', 2657388)\n",
            "('.', 2523216)\n",
            "(',', 2318606)\n",
            "('the', 2080994)\n",
            "('to', 2019884)\n",
            "...\n",
            "('stephanietraveltraderecruitmnt', 1)\n",
            "('ruabon', 1)\n",
            "('lowehays', 1)\n",
            "Correct!\n"
          ],
          "name": "stdout"
        }
      ]
    },
    {
      "cell_type": "code",
      "metadata": {
        "id": "vCn1NZfvwQup",
        "colab_type": "code",
        "outputId": "8ad028b6-6913-4d74-a211-58e45d62d8a8",
        "colab": {
          "base_uri": "https://localhost:8080/",
          "height": 300
        }
      },
      "source": [
        "# Let's see how many words are there for each count\n",
        "\n",
        "_ = plt.hist(list(token_counts.values()), range=[0, 10**4], bins=50, log=True)\n",
        "plt.xlabel(\"Counts\")"
      ],
      "execution_count": 0,
      "outputs": [
        {
          "output_type": "execute_result",
          "data": {
            "text/plain": [
              "Text(0.5, 0, 'Counts')"
            ]
          },
          "metadata": {
            "tags": []
          },
          "execution_count": 10
        },
        {
          "output_type": "display_data",
          "data": {
            "image/png": "[encoded data removed]",
            "text/plain": [
              "<Figure size 432x288 with 1 Axes>"
            ]
          },
          "metadata": {
            "tags": []
          }
        }
      ]
    },
    {
      "cell_type": "markdown",
      "metadata": {
        "id": "l8bIyoYdwQut",
        "colab_type": "text"
      },
      "source": [
        "__Task 1.1__ Get a list of all tokens that occur at least 10 times."
      ]
    },
    {
      "cell_type": "code",
      "metadata": {
        "id": "rkhljqtXwQuu",
        "colab_type": "code",
        "colab": {}
      },
      "source": [
        "min_count = 10\n",
        "\n",
        "# tokens from token_counts keys that had at least min_count occurrences throughout the dataset\n",
        "'''https://stackoverflow.com/questions/18807079/selecting-elements-of-a-python-dictionary-greater-than-a-certain-value'''\n",
        "tokens = list(key for key, value in token_counts.items() if value >= min_count)\n",
        "\n",
        "# Add a special tokens for unknown and empty words\n",
        "UNK, PAD = \"UNK\", \"PAD\"\n",
        "tokens = [UNK, PAD] + tokens"
      ],
      "execution_count": 0,
      "outputs": []
    },
    {
      "cell_type": "code",
      "metadata": {
        "id": "ovUlVUTnwQuw",
        "colab_type": "code",
        "outputId": "4e2f700d-1ce2-4617-b616-379abf8db844",
        "colab": {
          "base_uri": "https://localhost:8080/",
          "height": 51
        }
      },
      "source": [
        "print(\"Tokens left:\", len(tokens))\n",
        "assert type(tokens)==list\n",
        "assert len(tokens) in range(32000,35000)\n",
        "assert 'me' in tokens\n",
        "assert UNK in tokens\n",
        "print(\"Correct!\")"
      ],
      "execution_count": 0,
      "outputs": [
        {
          "output_type": "stream",
          "text": [
            "Tokens left: 34158\n",
            "Correct!\n"
          ],
          "name": "stdout"
        }
      ]
    },
    {
      "cell_type": "markdown",
      "metadata": {
        "id": "0tgjLxY9wQuy",
        "colab_type": "text"
      },
      "source": [
        "__Task 1.2__ Build an inverse token index: a dictionary from token(string) to it's index in `tokens` (int)"
      ]
    },
    {
      "cell_type": "code",
      "metadata": {
        "id": "A911CEOfwQuz",
        "colab_type": "code",
        "colab": {}
      },
      "source": [
        "token_to_id = dict((value,i) for i,value in enumerate(tokens))"
      ],
      "execution_count": 0,
      "outputs": []
    },
    {
      "cell_type": "code",
      "metadata": {
        "id": "Hj-HmP9rwQu2",
        "colab_type": "code",
        "outputId": "d10f3a67-3095-4e4c-a9b7-330ffb21a79d",
        "colab": {
          "base_uri": "https://localhost:8080/",
          "height": 34
        }
      },
      "source": [
        "assert isinstance(token_to_id, dict)\n",
        "assert len(token_to_id) == len(tokens)\n",
        "for tok in tokens:\n",
        "    assert tokens[token_to_id[tok]] == tok\n",
        "\n",
        "print(\"Correct!\")"
      ],
      "execution_count": 0,
      "outputs": [
        {
          "output_type": "stream",
          "text": [
            "Correct!\n"
          ],
          "name": "stdout"
        }
      ]
    },
    {
      "cell_type": "markdown",
      "metadata": {
        "id": "uKAGvsNEwQu4",
        "colab_type": "text"
      },
      "source": [
        "And finally, let's use the vocabulary you've built to map text lines into torch-digestible matrices."
      ]
    },
    {
      "cell_type": "code",
      "metadata": {
        "id": "5vS3YejfwQu4",
        "colab_type": "code",
        "colab": {}
      },
      "source": [
        "UNK_IX, PAD_IX = map(token_to_id.get, [UNK, PAD])\n",
        "\n",
        "def as_matrix(sequences, max_len=None):\n",
        "    \"\"\" Convert a list of tokens into a matrix with padding \"\"\"\n",
        "    if isinstance(sequences[0], str):\n",
        "        sequences = list(map(str.split, sequences))\n",
        "        \n",
        "    max_len = min(max(map(len, sequences)), max_len or float('inf'))\n",
        "    \n",
        "    matrix = np.full((len(sequences), max_len), np.int32(PAD_IX))\n",
        "    for i,seq in enumerate(sequences):\n",
        "        row_ix = [token_to_id.get(word, UNK_IX) for word in seq[:max_len]]\n",
        "        matrix[i, :len(row_ix)] = row_ix\n",
        "    \n",
        "    return matrix"
      ],
      "execution_count": 0,
      "outputs": []
    },
    {
      "cell_type": "code",
      "metadata": {
        "id": "Nu3iX8GSwQu8",
        "colab_type": "code",
        "outputId": "bace216a-c280-4ebd-e669-62f790c05f17",
        "colab": {
          "base_uri": "https://localhost:8080/",
          "height": 170
        }
      },
      "source": [
        "print(\"Lines:\")\n",
        "print('\\n'.join(data[\"Title\"][::100000].values), end='\\n\\n')\n",
        "print(\"Matrix:\")\n",
        "print(as_matrix(data[\"Title\"][::100000]))"
      ],
      "execution_count": 0,
      "outputs": [
        {
          "output_type": "stream",
          "text": [
            "Lines:\n",
            "engineering systems analyst\n",
            "hr assistant\n",
            "senior ec & i engineer\n",
            "\n",
            "Matrix:\n",
            "[[   2    3    4    1    1]\n",
            " [ 998  176    1    1    1]\n",
            " [  18 3472  242   59    6]]\n"
          ],
          "name": "stdout"
        }
      ]
    },
    {
      "cell_type": "markdown",
      "metadata": {
        "id": "fUnTYemgwQu_",
        "colab_type": "text"
      },
      "source": [
        "Now let's  encode the categirical data we have.\n",
        "\n",
        "As usual, we shall use one-hot encoding for simplicity. Kudos if you implement tf-idf, target averaging or pseudo-counter-based encoding."
      ]
    },
    {
      "cell_type": "code",
      "metadata": {
        "id": "im3wP7WKwQvA",
        "colab_type": "code",
        "outputId": "6a9ac18a-a11a-4fdf-82c9-652ba4fd1eda",
        "colab": {
          "base_uri": "https://localhost:8080/",
          "height": 51
        }
      },
      "source": [
        "from sklearn.feature_extraction import DictVectorizer\n",
        "\n",
        "# we only consider top-1k most frequent companies to minimize memory usage\n",
        "top_companies, top_counts = zip(*Counter(data['Company']).most_common(1000))\n",
        "recognized_companies = set(top_companies)\n",
        "data[\"Company\"] = data[\"Company\"].apply(lambda comp: comp if comp in recognized_companies else \"Other\")\n",
        "\n",
        "categorical_vectorizer = DictVectorizer(dtype=np.float32, sparse=False)\n",
        "categorical_vectorizer.fit(data[categorical_columns].apply(dict, axis=1))"
      ],
      "execution_count": 0,
      "outputs": [
        {
          "output_type": "execute_result",
          "data": {
            "text/plain": [
              "DictVectorizer(dtype=<class 'numpy.float32'>, separator='=', sort=True,\n",
              "        sparse=False)"
            ]
          },
          "metadata": {
            "tags": []
          },
          "execution_count": 17
        }
      ]
    },
    {
      "cell_type": "markdown",
      "metadata": {
        "id": "2k3IFhRWwQvD",
        "colab_type": "text"
      },
      "source": [
        "### The data science part\n",
        "\n",
        "Once we've learned to tokenize the data, let's design a machine learning experiment.\n",
        "\n",
        "As before, we won't focus too much on validation, opting for a simple train-test split.\n",
        "\n",
        "__To be completely rigorous,__ we've comitted a small crime here: we used the whole data for tokenization and vocabulary building. A more strict way would be to do that part on training set only. You may want to do that and measure the magnitude of changes."
      ]
    },
    {
      "cell_type": "code",
      "metadata": {
        "id": "qu01Q9KuwQvE",
        "colab_type": "code",
        "outputId": "4e135494-0dfe-45c3-adc1-d87a054c5eb3",
        "colab": {
          "base_uri": "https://localhost:8080/",
          "height": 51
        }
      },
      "source": [
        "from sklearn.model_selection import train_test_split\n",
        "\n",
        "data_train, data_val = train_test_split(data, test_size=0.1, random_state=42)\n",
        "\n",
        "print(\"Train size = \", len(data_train))\n",
        "print(\"Validation size = \", len(data_val))"
      ],
      "execution_count": 0,
      "outputs": [
        {
          "output_type": "stream",
          "text": [
            "Train size =  220291\n",
            "Validation size =  24477\n"
          ],
          "name": "stdout"
        }
      ]
    },
    {
      "cell_type": "code",
      "metadata": {
        "id": "iZ1iiUbXwQvH",
        "colab_type": "code",
        "colab": {}
      },
      "source": [
        "def generate_batch(data, batch_size=None, replace=True, max_len=None):\n",
        "    \"\"\"\n",
        "    Creates a pytorch-friendly dict from the batch data.\n",
        "    :returns: a dict with {'title' : int64[batch, title_max_len]\n",
        "    \"\"\"\n",
        "    if batch_size is not None:\n",
        "        data = data.sample(batch_size, replace=replace)\n",
        "    \n",
        "    batch = {}\n",
        "    for col in text_columns:\n",
        "        batch[col] = as_matrix(data[col].values, max_len)\n",
        "    \n",
        "    batch['Categorical'] = categorical_vectorizer.transform(data[categorical_columns].apply(dict, axis=1))\n",
        "    \n",
        "    if target_column in data.columns:\n",
        "        batch[target_column] = data[target_column].values\n",
        "    \n",
        "    return batch"
      ],
      "execution_count": 0,
      "outputs": []
    },
    {
      "cell_type": "code",
      "metadata": {
        "id": "cPTE7EDiwQvK",
        "colab_type": "code",
        "outputId": "be4bf87f-8169-42d4-d359-cf1111e9d09e",
        "colab": {
          "base_uri": "https://localhost:8080/",
          "height": 204
        }
      },
      "source": [
        "generate_batch(data_train, 3, max_len=10)"
      ],
      "execution_count": 0,
      "outputs": [
        {
          "output_type": "execute_result",
          "data": {
            "text/plain": [
              "{'Categorical': array([[0., 1., 0., ..., 0., 0., 0.],\n",
              "        [0., 0., 0., ..., 0., 0., 0.],\n",
              "        [0., 0., 0., ..., 0., 0., 0.]], dtype=float32),\n",
              " 'FullDescription': array([[ 669, 1349,   11,  618,  782,   73,   74, 1609, 7991,   55],\n",
              "        [3162, 1314, 1566,  561, 3369,   73, 2497,  813,  105, 2002],\n",
              "        [ 142,   80, 4653, 5907, 2609,  211,  102,   55, 3097,   15]],\n",
              "       dtype=int32),\n",
              " 'Log1pSalary': array([ 9.700208, 10.221977, 11.002116], dtype=float32),\n",
              " 'Title': array([[1349,   11,  834,  287],\n",
              "        [1034, 1442,  287,    6],\n",
              "        [3097,  354, 1536,   97]], dtype=int32)}"
            ]
          },
          "metadata": {
            "tags": []
          },
          "execution_count": 20
        }
      ]
    },
    {
      "cell_type": "markdown",
      "metadata": {
        "id": "uJU276jlwQvM",
        "colab_type": "text"
      },
      "source": [
        "### Finally, let's talk deep learning\n",
        "\n",
        "Out model consists of three branches:\n",
        "* Title encoder\n",
        "* Description encoder\n",
        "* Categorical features encoder\n",
        "\n",
        "We will then feed all 3 branches into one common network that predicts salary.\n",
        "\n",
        "![scheme](https://github.com/yandexdataschool/Practical_DL/raw/master/homework04/conv_salary_architecture.png)"
      ]
    },
    {
      "cell_type": "markdown",
      "metadata": {
        "id": "gNfIvENGwQvN",
        "colab_type": "text"
      },
      "source": [
        "By default, both text vectorizers shall use 1d convolutions, followed by global pooling over time."
      ]
    },
    {
      "cell_type": "code",
      "metadata": {
        "id": "Dr6AvcmWwQvO",
        "colab_type": "code",
        "colab": {}
      },
      "source": [
        "import torch, torch.nn as nn\n",
        "import torch.nn.functional as F\n",
        "from torch.autograd import Variable\n",
        "\n",
        "class GlobalMaxPooling(nn.Module):\n",
        "    def __init__(self, dim=-1):\n",
        "        super(self.__class__, self).__init__()\n",
        "        self.dim = dim\n",
        "        \n",
        "    def forward(self, x):\n",
        "        return x.max(dim=self.dim)[0]"
      ],
      "execution_count": 0,
      "outputs": []
    },
    {
      "cell_type": "code",
      "metadata": {
        "id": "w5H9Z6_RwQvQ",
        "colab_type": "code",
        "colab": {}
      },
      "source": [
        "class TitleEncoder(nn.Module):\n",
        "    def __init__(self, n_tokens=len(tokens), out_size=64):\n",
        "        \"\"\" \n",
        "        A simple sequential encoder for titles.\n",
        "        x -> emb -> conv -> global_max -> relu -> dense\n",
        "        \"\"\"\n",
        "        super(self.__class__, self).__init__()\n",
        "        self.emb = nn.Embedding(n_tokens, 64, padding_idx=PAD_IX)\n",
        "        self.conv1 = nn.Conv1d(64, out_size, kernel_size=3, padding=1)\n",
        "        self.conv2 = nn.Conv1d(64, out_size, kernel_size=3, padding=1)\n",
        "        self.conv3 = nn.Conv1d(64, out_size, kernel_size=3, padding=1)\n",
        "        self.conv4 = nn.Conv1d(64, out_size, kernel_size=3, padding=1)\n",
        "        \n",
        "        \n",
        "        self.pool1 = GlobalMaxPooling()        \n",
        "        self.dense = nn.Linear(out_size, out_size)\n",
        "        # added self.relu\n",
        "        self.relu = nn.ReLU()\n",
        "        \n",
        "    def forward(self, text_ix):\n",
        "        \"\"\"\n",
        "        :param text_ix: int64 Variable of shape [batch_size, max_len]\n",
        "        :returns: float32 Variable of shape [batch_size, out_size]\n",
        "        \"\"\"\n",
        "        h = self.emb(text_ix)\n",
        "\n",
        "        # we transpose from [batch, time, units] to [batch, units, time] to fit Conv1d dim order\n",
        "        h = torch.transpose(h, 1, 2)\n",
        "        \n",
        "        # Apply the layers as defined above. Add some ReLUs before dense.\n",
        "        h1 = torch.cat([conv(h) for conv in [self.conv1, self.conv2, self.conv3, self.conv4]], dim = 2)\n",
        "        h2 = self.pool1(h1)\n",
        "        h3 = self.relu(h2)\n",
        "        h4 = self.dense(h3)\n",
        "        return h4"
      ],
      "execution_count": 0,
      "outputs": []
    },
    {
      "cell_type": "code",
      "metadata": {
        "id": "wbSCJuWVwQvT",
        "colab_type": "code",
        "outputId": "0128b055-84fe-4de6-bed7-352524231005",
        "colab": {
          "base_uri": "https://localhost:8080/",
          "height": 34
        }
      },
      "source": [
        "title_encoder = TitleEncoder(out_size=64)\n",
        "\n",
        "dummy_x = Variable(torch.LongTensor(generate_batch(data_train, 3)['Title']))\n",
        "dummy_v = title_encoder(dummy_x)\n",
        "\n",
        "assert isinstance(dummy_v, Variable)\n",
        "assert tuple(dummy_v.shape) == (dummy_x.shape[0], 64)\n",
        "\n",
        "del title_encoder\n",
        "print(\"Seems fine\")"
      ],
      "execution_count": 0,
      "outputs": [
        {
          "output_type": "stream",
          "text": [
            "Seems fine\n"
          ],
          "name": "stdout"
        }
      ]
    },
    {
      "cell_type": "markdown",
      "metadata": {
        "id": "Zh7mqOAJwQvV",
        "colab_type": "text"
      },
      "source": [
        "__Task 2.1__ Create description encoder"
      ]
    },
    {
      "cell_type": "code",
      "metadata": {
        "id": "yu-nn0-swQvW",
        "colab_type": "code",
        "colab": {}
      },
      "source": [
        "# Define an encoder for job descriptions.\n",
        "# Use any means you want so long as it's torch.nn.Module.\n",
        "class DescriptionEncoder(nn.Module):\n",
        "    def __init__(self, n_tokens=len(tokens), out_size=64):\n",
        "        super(self.__class__, self).__init__()\n",
        "        self.emb = nn.Embedding(n_tokens, 64, padding_idx=PAD_IX)\n",
        "        self.conv1 = nn.Conv1d(64, out_size, kernel_size=3, padding=1)\n",
        "        self.conv2 = nn.Conv1d(64, out_size, kernel_size=3, padding=1)\n",
        "        self.conv3 = nn.Conv1d(64, out_size, kernel_size=3, padding=1)\n",
        "        self.conv4 = nn.Conv1d(64, out_size, kernel_size=3, padding=1)\n",
        "        self.pool1 = GlobalMaxPooling()        \n",
        "        self.dense = nn.Linear(out_size, out_size)\n",
        "        # added self.relu\n",
        "        self.relu = nn.ReLU()\n",
        "        \n",
        "    def forward(self, text_ix):\n",
        "        h = self.emb(text_ix)\n",
        "        h = torch.transpose(h, 1, 2)\n",
        "        h1 = torch.cat([conv(h) for conv in [self.conv1, self.conv2, self.conv3, self.conv4]], dim = 2)\n",
        "        h2 = self.pool1(h1)\n",
        "        h3 = self.relu(h2)\n",
        "        h4 = self.dense(h3)\n",
        "        return h4"
      ],
      "execution_count": 0,
      "outputs": []
    },
    {
      "cell_type": "code",
      "metadata": {
        "id": "jqfoAt-LwQvX",
        "colab_type": "code",
        "outputId": "86b8e198-75b8-4e3e-9e3d-0184229e3b24",
        "colab": {
          "base_uri": "https://localhost:8080/",
          "height": 34
        }
      },
      "source": [
        "desc_encoder = DescriptionEncoder(out_size=64)\n",
        "\n",
        "dummy_x = Variable(torch.LongTensor(generate_batch(data_train, 3)['FullDescription']))\n",
        "dummy_v = desc_encoder(dummy_x)\n",
        "\n",
        "assert isinstance(dummy_v, Variable)\n",
        "assert tuple(dummy_v.shape) == (dummy_x.shape[0], 64)\n",
        "del desc_encoder\n",
        "print(\"Seems fine too\")"
      ],
      "execution_count": 0,
      "outputs": [
        {
          "output_type": "stream",
          "text": [
            "Seems fine too\n"
          ],
          "name": "stdout"
        }
      ]
    },
    {
      "cell_type": "markdown",
      "metadata": {
        "id": "bygFLl1-wQvZ",
        "colab_type": "text"
      },
      "source": [
        "__Task 2.2__ Build one network ~~to rule them all~~"
      ]
    },
    {
      "cell_type": "code",
      "metadata": {
        "id": "losH-JUewQvZ",
        "colab_type": "code",
        "colab": {}
      },
      "source": [
        "class FullNetwork(nn.Module):\n",
        "    \"\"\"\n",
        "    This class does all the steps from (title, desc, categorical) features -> predicted target\n",
        "    It unites title & desc encoders you defined above as long as some layers for head and categorical branch.\n",
        "    \"\"\"\n",
        "    \n",
        "    def __init__(self, n_tokens=len(tokens), n_cat_features=len(categorical_vectorizer.vocabulary_)):\n",
        "        super(self.__class__, self).__init__()\n",
        "        \n",
        "        self.title_encoder = TitleEncoder(out_size=64)\n",
        "        self.desc_encoder = DescriptionEncoder(out_size=64)\n",
        "        \n",
        "        # define layers for categorical features. A few dense layers would do.\n",
        "        self.categorical_encoder = nn.Sequential()\n",
        "        self.categorical_encoder.add_module('dense1', nn.Linear(n_cat_features, 64*5))\n",
        "        self.categorical_encoder.add_module('relu', nn.ReLU())\n",
        "        self.categorical_encoder.add_module('bn', nn.BatchNorm1d(64*5)),\n",
        "        self.categorical_encoder.add_module('dense2', nn.Linear(64*5, 64))\n",
        "\n",
        "        \n",
        "        # define \"output\" layers that process depend the three encoded vectors into answer\n",
        "        self.output = nn.Sequential()\n",
        "        self.output.add_module('dense1', nn.Linear(64*3, 64*5))\n",
        "        self.output.add_module('dense2', nn.Linear(64*5, 1))\n",
        "        \n",
        "        \n",
        "        \n",
        "    def forward(self, title_ix, desc_ix, cat_features):\n",
        "        \"\"\"\n",
        "        :param title_ix: int32 Variable [batch, title_len], job titles encoded by as_matrix\n",
        "        :param desc_ix:  int32 Variable [batch, desc_len] , job descriptions encoded by as_matrix\n",
        "        :param cat_features: float32 Variable [batch, n_cat_features]\n",
        "        :returns: float32 Variable 1d [batch], predicted log1p-salary\n",
        "        \"\"\"\n",
        "        \n",
        "        # process each data source with it's respective encoder\n",
        "        title_h = self.title_encoder(title_ix)\n",
        "        desc_h = self.desc_encoder(desc_ix)\n",
        "        \n",
        "        # apply categorical encoder\n",
        "        cat_h = self.categorical_encoder(cat_features)\n",
        "        \n",
        "        # concatenate all vectors together...\n",
        "        joint_h = torch.cat([title_h, desc_h, cat_h], dim=1)\n",
        "        \n",
        "        # ... and stack a few more layers at the top\n",
        "        top = self.output(joint_h)[:,0]\n",
        "        \n",
        "        # Note 1: do not forget to select first columns, [:, 0], to get to 1d outputs\n",
        "        # Note 2: please do not use output nonlinearities.\n",
        "        \n",
        "        return top"
      ],
      "execution_count": 0,
      "outputs": []
    },
    {
      "cell_type": "code",
      "metadata": {
        "id": "W3ZmYctiwQvb",
        "colab_type": "code",
        "colab": {}
      },
      "source": [
        "model = FullNetwork().cuda()\n",
        "opt = torch.optim.Adam(model.parameters(), lr=1e-3)"
      ],
      "execution_count": 0,
      "outputs": []
    },
    {
      "cell_type": "code",
      "metadata": {
        "id": "HRrBDRtBwQvc",
        "colab_type": "code",
        "colab": {}
      },
      "source": [
        "# test it on one batch\n",
        "\n",
        "batch = generate_batch(data_train, 32)\n",
        "\n",
        "title_ix = torch.tensor(batch[\"Title\"], dtype=torch.int64).cuda()\n",
        "desc_ix = torch.tensor(batch[\"FullDescription\"], dtype=torch.int64).cuda()\n",
        "cat_features = torch.tensor(batch[\"Categorical\"], dtype=torch.float32).cuda()\n",
        "reference = torch.tensor(batch[target_column], dtype=torch.float32).cuda()\n",
        "\n",
        "prediction = model(title_ix, desc_ix, cat_features)\n",
        "\n",
        "assert len(prediction.shape) == 1 and prediction.shape[0] == title_ix.shape[0]"
      ],
      "execution_count": 0,
      "outputs": []
    },
    {
      "cell_type": "code",
      "metadata": {
        "id": "mujImMpNwQve",
        "colab_type": "code",
        "colab": {}
      },
      "source": [
        "def compute_loss(reference, prediction):\n",
        "    \"\"\"\n",
        "    Computes objective for minimization.\n",
        "    By deafult we minimize MSE, but you are encouraged to try mix up MSE, MAE, huber loss, etc.\n",
        "    \"\"\"\n",
        "    return torch.mean((prediction - reference) ** 2)\n",
        "\n",
        "def compute_mae(reference, prediction):\n",
        "    \"\"\" Compute MAE on actual salary, assuming your model outputs log1p(salary)\"\"\"\n",
        "    return torch.abs(torch.exp(reference) - torch.exp(prediction)).mean()"
      ],
      "execution_count": 0,
      "outputs": []
    },
    {
      "cell_type": "code",
      "metadata": {
        "id": "Qd3b76tvwQvf",
        "colab_type": "code",
        "colab": {}
      },
      "source": [
        "loss = compute_loss(reference, prediction)\n",
        "dummy_grads = torch.autograd.grad(loss, model.parameters(), retain_graph=True)\n",
        "for grad in dummy_grads:\n",
        "    assert grad is not None and not (grad == 0).all(), \"Some model parameters received zero grads. \" \\\n",
        "                                                       \"Double-check that your model uses all it's layers.\""
      ],
      "execution_count": 0,
      "outputs": []
    },
    {
      "cell_type": "markdown",
      "metadata": {
        "id": "Ny1mRf4bwQvg",
        "colab_type": "text"
      },
      "source": [
        "### Let's train it!"
      ]
    },
    {
      "cell_type": "code",
      "metadata": {
        "id": "bN0TZ9ZrwQvh",
        "colab_type": "code",
        "colab": {}
      },
      "source": [
        "from tqdm import tnrange\n",
        "def iterate_minibatches(data, batch_size=32, max_len=None,\n",
        "                        max_batches=None, shuffle=True, verbose=True):\n",
        "    indices = np.arange(len(data))\n",
        "    if shuffle:\n",
        "        indices = np.random.permutation(indices)\n",
        "    if max_batches is not None:\n",
        "        indices = indices[: batch_size * max_batches]\n",
        "        \n",
        "    irange = tnrange if verbose else range\n",
        "    \n",
        "    for start in irange(0, len(indices), batch_size):\n",
        "        yield generate_batch(data.iloc[indices[start : start + batch_size]], max_len=max_len)"
      ],
      "execution_count": 0,
      "outputs": []
    },
    {
      "cell_type": "code",
      "metadata": {
        "id": "yia5XNDEwQvi",
        "colab_type": "code",
        "colab": {}
      },
      "source": [
        "num_epochs = 100\n",
        "max_len = 100\n",
        "batch_size = 32\n",
        "batches_per_epoch = 100"
      ],
      "execution_count": 0,
      "outputs": []
    },
    {
      "cell_type": "code",
      "metadata": {
        "id": "S-43MkmxwQvj",
        "colab_type": "code",
        "outputId": "efb00b8a-0e4e-4510-b042-5dfa926f9379",
        "colab": {
          "base_uri": "https://localhost:8080/",
          "height": 601
        }
      },
      "source": [
        "from IPython import display\n",
        "from tqdm import trange\n",
        "\n",
        "train_history_loss = []\n",
        "train_history_mae = []\n",
        "val_history_loss = []\n",
        "val_history_mae = []\n",
        "min_mae = np.inf\n",
        "\n",
        "early_stop = 0\n",
        "stop_criterion = 20\n",
        "\n",
        "for epoch_i in trange(num_epochs):\n",
        "    \n",
        "#     print(\"Training:\")\n",
        "    train_loss = train_mae = train_batches = 0 \n",
        "    model.train(True)\n",
        "    \n",
        "    for batch in iterate_minibatches(data_train, max_batches=batches_per_epoch):\n",
        "        title_ix = torch.tensor(batch[\"Title\"], dtype=torch.int64).cuda()\n",
        "        desc_ix = torch.tensor(batch[\"FullDescription\"], dtype=torch.int64).cuda()\n",
        "        cat_features = torch.tensor(batch[\"Categorical\"], dtype=torch.float32).cuda()\n",
        "        reference = torch.tensor(batch[target_column], dtype=torch.float32).cuda()\n",
        "\n",
        "        prediction = model(title_ix, desc_ix, cat_features)\n",
        "\n",
        "        loss = compute_loss(reference, prediction)\n",
        "        loss.backward()\n",
        "        opt.step()\n",
        "        opt.zero_grad()\n",
        "\n",
        "        train_loss += loss.cpu().data.numpy()\n",
        "        train_mae += compute_mae(reference, prediction).cpu().data.numpy()\n",
        "        train_batches += 1\n",
        "    \n",
        "    train_history_loss.append(train_loss / train_batches)\n",
        "    train_history_mae.append(train_mae / train_batches)\n",
        "#     print(\"\\tLoss:\\t%.5f\" % (train_loss / train_batches))\n",
        "#     print(\"\\tMAE:\\t%.5f\" % (train_mae / train_batches))\n",
        "#     print('\\n\\n')\n",
        "    \n",
        "#     print(\"Validation:\")\n",
        "    val_loss = val_mae = val_batches = 0\n",
        "    model.train(False)\n",
        "    \n",
        "    for batch in iterate_minibatches(data_val, shuffle=False):\n",
        "        title_ix = torch.tensor(batch[\"Title\"], dtype=torch.int64).cuda()\n",
        "        desc_ix = torch.tensor(batch[\"FullDescription\"], dtype=torch.int64).cuda()\n",
        "        cat_features = torch.tensor(batch[\"Categorical\"], dtype=torch.float32).cuda()\n",
        "        reference = torch.tensor(batch[target_column], dtype=torch.float32).cuda()\n",
        "        prediction = model(title_ix, desc_ix, cat_features)\n",
        "        loss = compute_loss(reference, prediction)\n",
        "\n",
        "        val_loss += loss.cpu().data.numpy()\n",
        "        val_mae += compute_mae(reference, prediction).cpu().data.numpy()\n",
        "        val_batches += 1\n",
        "        \n",
        "    val_history_loss.append(val_loss / val_batches)  \n",
        "    val_history_mae.append(val_mae / val_batches)\n",
        "#     print(\"\\tLoss:\\t%.5f\" % (val_loss / val_batches))\n",
        "#     print(\"\\tMAE:\\t%.5f\" % (val_mae / val_batches))\n",
        "#     print('\\n\\n')\n",
        "    \n",
        "    if val_history_mae[-1] < min_mae:\n",
        "            min_mae = val_history_mae[-1]\n",
        "            best_model = torch.save(model.state_dict(), './best_NN_params.pt')\n",
        "            early_stop = 0\n",
        "    else:\n",
        "        early_stop += 1\n",
        "        if early_stop == stop_criterion:\n",
        "            break\n",
        "            \n",
        "    display.clear_output(wait=True)\n",
        "    \n",
        "    plt.figure(figsize = (20,4))\n",
        "    plt.subplot(1,2,1)\n",
        "    plt.title('Loss, current: train = {}, val = {}, number of epochs since best val: {} out of {} '.format(round(train_history_loss[-1],4), round(val_history_loss[-1],4), early_stop, stop_criterion))\n",
        "    plt.xlabel('number of iteration')\n",
        "    plt.ylabel('Loss')\n",
        "    plt.plot(val_history_loss, color = 'red', lw = 1.5, label = 'Validation')\n",
        "    plt.legend()\n",
        "    \n",
        "    plt.subplot(1,2,2)\n",
        "    plt.plot(val_history_mae, color = 'red', lw = 1.5, label = 'Validation')\n",
        "    plt.title('MAE, current: train = {}, val = {}, best on val {}: '.format(round(train_history_mae[-1],2), round(val_history_mae[-1],2), round(min_mae,2)))\n",
        "    plt.xlabel('number of iteration')\n",
        "    plt.ylabel('MAE')\n",
        "    plt.legend()\n",
        "    plt.show()"
      ],
      "execution_count": 0,
      "outputs": [
        {
          "output_type": "display_data",
          "data": {
            "image/png": "[encoded data removed]",
            "text/plain": [
              "<Figure size 1440x288 with 2 Axes>"
            ]
          },
          "metadata": {
            "tags": []
          }
        },
        {
          "output_type": "stream",
          "text": [
            "\n",
            "\n",
            "\n",
            "\n",
            "\n",
            "\n",
            "\n",
            "\n",
            "\n",
            "100%|██████████| 100/100 [20:17<00:00, 11.87s/it]\u001b[A\u001b[A\u001b[A\u001b[A\u001b[A\u001b[A\u001b[A\u001b[A\u001b[A\n",
            "\n",
            "\n",
            "\n",
            "\n",
            "\n",
            "\n",
            "\n",
            "\n",
            "\u001b[A\u001b[A\u001b[A\u001b[A\u001b[A\u001b[A\u001b[A\u001b[A\u001b[A"
          ],
          "name": "stderr"
        }
      ]
    },
    {
      "cell_type": "code",
      "metadata": {
        "id": "EJ4_wgQWwQvk",
        "colab_type": "code",
        "colab": {}
      },
      "source": [
        "print(\"Final eval:\")\n",
        "val_loss = val_mae = val_batches = 0\n",
        "\n",
        "for batch in iterate_minibatches(data_val, shuffle=False):\n",
        "    title_ix = torch.tensor(batch[\"Title\"], dtype=torch.int64).cuda()\n",
        "    desc_ix = torch.tensor(batch[\"FullDescription\"], dtype=torch.int64).cuda()\n",
        "    cat_features = torch.tensor(batch[\"Categorical\"], dtype=torch.float32).cuda()\n",
        "    reference = torch.tensor(batch[target_column], dtype=torch.float32).cuda()\n",
        "\n",
        "    prediction = model(title_ix, desc_ix, cat_features)\n",
        "    loss = compute_loss(reference, prediction)\n",
        "\n",
        "    val_loss += loss.cpu().data.numpy()\n",
        "    val_mae += compute_mae(reference, prediction).cpu().data.numpy()\n",
        "    val_batches += 1\n",
        "\n",
        "print(\"\\tLoss:\\t%.5f\" % (val_loss / val_batches))\n",
        "print(\"\\tMAE:\\t%.5f\" % (val_mae / val_batches))\n",
        "print('\\n\\n')"
      ],
      "execution_count": 0,
      "outputs": []
    },
    {
      "cell_type": "markdown",
      "metadata": {
        "id": "AeBaCamSwQvm",
        "colab_type": "text"
      },
      "source": [
        "### Task 3: explaining network predictions\n",
        "\n",
        "It's usually a good idea to understand what your model does before you let it make actual decisions. It's simple for linear models: just see which words learned positive or negative weights. However, its much harder for neural networks that learn complex nonlinear dependencies.\n",
        "\n",
        "There are, however, some ways to look inside the black box:\n",
        "* Seeing how model responds to input perturbations\n",
        "* Finding inputs that maximize/minimize activation of some chosen neurons (_read more [on distill.pub](https://distill.pub/2018/building-blocks/)_)\n",
        "* Building local linear approximations to your neural network: [article](https://arxiv.org/abs/1602.04938), [eli5 library](https://github.com/TeamHG-Memex/eli5/tree/master/eli5/formatters)\n",
        "\n",
        "Today we gonna try the first method just because it's the simplest one.\n",
        "\n",
        "__Your task__ is to measure how does model prediction change if you replace certain tokens with UNKs. The core idea is that if dropping a word from text causes model to predict lower log-salary, than this word probably has positive contribution to salary (and vice versa)."
      ]
    },
    {
      "cell_type": "code",
      "metadata": {
        "id": "mefVEeakwQvm",
        "colab_type": "code",
        "colab": {}
      },
      "source": [
        "def explain(model, sample, col_name='Title'):\n",
        "    \"\"\" Computes the effect each word had on model predictions \"\"\"\n",
        "    \n",
        "    # compute model prediction on sample (scalar float log-salary)\n",
        "    \n",
        "    model.train(False)\n",
        "    batch = generate_batch(sample.to_frame().T)\n",
        "\n",
        "    title_ix = torch.tensor(batch[\"Title\"], dtype=torch.int64).cuda()\n",
        "    desc_ix = torch.tensor(batch[\"FullDescription\"], dtype=torch.int64).cuda()\n",
        "    cat_features = torch.tensor(batch[\"Categorical\"], dtype=torch.float32).cuda()\n",
        "    \n",
        "    baseline_pred = model(title_ix, desc_ix, cat_features).cpu().data.item()\n",
        "    \n",
        "    # for each i-th token in :col_name:, compute predictions on a copy of data\n",
        "    # where i-th token is dropped (UNK)\n",
        "    \n",
        "    predictions_without_word = []\n",
        "    for i in range(len(sample[col_name].split(' '))):\n",
        "        tokens = sample[col_name].split(' ')\n",
        "        tokens[i] = 'UNK'\n",
        "        sample_copy = sample.copy()\n",
        "        sample_copy[col_name] = tokens\n",
        "        batch_copy = generate_batch(sample_copy.to_frame().transpose())\n",
        "        title_ix_copy = torch.tensor(batch_copy[\"Title\"], dtype=torch.int64).cuda()\n",
        "        desc_ix_copy = torch.tensor(batch_copy[\"FullDescription\"], dtype=torch.int64).cuda()\n",
        "        cat_features_copy = torch.tensor(batch_copy[\"Categorical\"], dtype=torch.float32).cuda()\n",
        "    \n",
        "        predictions_without_word.append(model(title_ix_copy, desc_ix_copy, cat_features_copy).cpu().data.item())\n",
        "    score_differences = [prediction - baseline_pred for prediction in predictions_without_word]\n",
        "    \n",
        "    # return a list of pairs: [(token, score_difference)]\n",
        "    return list(zip(sample[col_name].split(' '), score_differences))"
      ],
      "execution_count": 0,
      "outputs": []
    },
    {
      "cell_type": "code",
      "metadata": {
        "id": "SFmeWc5TwQvo",
        "colab_type": "code",
        "colab": {}
      },
      "source": [
        "# debugging area\n",
        "sample = data.loc[np.random.randint(len(data))]\n",
        "print(\"Input:\", sample)\n",
        "\n",
        "tokens_and_weights = explain(model, sample, \"Title\")\n",
        "print(tokens_and_weights)"
      ],
      "execution_count": 0,
      "outputs": []
    },
    {
      "cell_type": "code",
      "metadata": {
        "id": "gS6UZFPgwQvq",
        "colab_type": "code",
        "colab": {}
      },
      "source": [
        "from IPython.display import HTML, display_html\n",
        "\n",
        "def draw_html(tokens_and_weights, cmap=plt.get_cmap(\"bwr\"), display=True,\n",
        "              token_template=\"\"\"<span style=\"background-color: {color_hex}\">{token}</span>\"\"\",\n",
        "              font_style=\"font-size:14px;\"\n",
        "             ):\n",
        "    \n",
        "    def get_color_hex(weight):\n",
        "        rgba = cmap(1. / (1 + np.exp(weight)), bytes=True)\n",
        "        return '#%02X%02X%02X' % rgba[:3]\n",
        "    \n",
        "    tokens_html = [\n",
        "        token_template.format(token=token, color_hex=get_color_hex(weight))\n",
        "        for token, weight in tokens_and_weights\n",
        "    ]\n",
        "    \n",
        "    \n",
        "    raw_html = \"\"\"<p style=\"{}\">{}</p>\"\"\".format(font_style, ' '.join(tokens_html))\n",
        "    if display:\n",
        "        display_html(HTML(raw_html))\n",
        "        \n",
        "    return raw_html\n",
        "    "
      ],
      "execution_count": 0,
      "outputs": []
    },
    {
      "cell_type": "code",
      "metadata": {
        "id": "x7M6VwXJwQvs",
        "colab_type": "code",
        "colab": {}
      },
      "source": [
        "i = np.random.randint(len(data))\n",
        "sample = data.loc[i]\n",
        "print(\"Index:\", i)\n",
        "\n",
        "# predict salary on sample\n",
        "batch_sample = generate_batch(sample.to_frame().T)\n",
        "title_ix_sample = torch.tensor(batch_sample[\"Title\"], dtype=torch.int64).cuda()\n",
        "desc_ix_sample = torch.tensor(batch_sample[\"FullDescription\"], dtype=torch.int64).cuda()\n",
        "cat_features_sample = torch.tensor(batch_sample[\"Categorical\"], dtype=torch.float32).cuda()\n",
        "\n",
        "print(\"Salary (gbp):\", model(title_ix_sample, desc_ix_sample, cat_features_sample).cpu().data.item())\n",
        "\n",
        "tokens_and_weights = explain(model, sample, \"Title\")\n",
        "draw_html([(tok, weight * 5) for tok, weight in tokens_and_weights], font_style='font-size:20px;');\n",
        "\n",
        "tokens_and_weights = explain(model, sample, \"FullDescription\")\n",
        "draw_html([(tok, weight * 10) for tok, weight in tokens_and_weights]);"
      ],
      "execution_count": 0,
      "outputs": []
    },
    {
      "cell_type": "markdown",
      "metadata": {
        "id": "kZV3iIsPwQvt",
        "colab_type": "text"
      },
      "source": [
        "### Task 4: Actually make it work\n",
        "\n",
        "Your main task is to use some of the tricks you've learned on the network and analyze if you can improve __validation MAE__.\n",
        "\n",
        "Try __at least 3 options__ from the list below for a passing grade. If you're into \n",
        "\n",
        "#### A) CNN architecture\n",
        "\n",
        "All the tricks you know about dense and convolutional neural networks apply here as well.\n",
        "* Dropout. Nuff said.\n",
        "* Batch Norm. This time it's `nn.BatchNorm1d`\n",
        "* Parallel convolution layers. The idea is that you apply several nn.Conv1d to the same embeddings and concatenate output channels.\n",
        "* More layers, more neurons, ya know...\n",
        "\n",
        "\n",
        "#### B) Play with pooling\n",
        "\n",
        "There's more than one way to do max pooling:\n",
        "* Max over time - our `GlobalMaxPooling`\n",
        "* Average over time (excluding PAD)\n",
        "* Softmax-pooling:\n",
        "$$ out_{i, t} = \\sum_t {h_{i,t} \\cdot {{e ^ {h_{i, t}}} \\over \\sum_\\tau e ^ {h_{j, \\tau}} } }$$\n",
        "\n",
        "* Attentive pooling\n",
        "$$ out_{i, t} = \\sum_t {h_{i,t} \\cdot Attn(h_t)}$$\n",
        "\n",
        ", where $$ Attn(h_t) = {{e ^ {NN_{attn}(h_t)}} \\over \\sum_\\tau e ^ {NN_{attn}(h_\\tau)}}  $$\n",
        "and $NN_{attn}$ is a small neural network\n",
        "\n",
        "\n",
        "The optimal score is usually achieved by concatenating several different poolings, including several attentive pooling with different $NN_{attn}$\n",
        "\n",
        "#### C) Fun with embeddings\n",
        "\n",
        "It's not always a good idea to train embeddings from scratch. Here's a few tricks:\n",
        "\n",
        "* Use a pre-trained word2vec from [here](http://ahogrammer.com/2017/01/20/the-list-of-pretrained-word-embeddings/) or [here](http://mccormickml.com/2016/04/12/googles-pretrained-word2vec-model-in-python/).\n",
        "* Start with pre-trained embeddings, then fine-tune them with gradient descent\n",
        "* Use the same embedding matrix in title and desc vectorizer\n",
        "\n",
        "#### D) Going recurrent\n",
        "\n",
        "We've already learned that recurrent networks can do cool stuff in sequence modelling. Turns out, they're not useless for classification as well. With some tricks of course..\n",
        "\n",
        "* Like convolutional layers, LSTM should be pooled into a fixed-size vector with some of the poolings.\n",
        "  * Please bear in mind that while convolution uses [batch, units, time] dim order, \n",
        "    recurrent units are built for [batch, time, unit]. You may need to `torch.transpose`.\n",
        "\n",
        "* Since you know all the text in advance, use bidirectional RNN\n",
        "  * Run one LSTM from left to right\n",
        "  * Run another in parallel from right to left \n",
        "  * Concatenate their output sequences along unit axis (dim=-1)\n",
        "\n",
        "* It might be good idea to mix convolutions and recurrent layers differently for title and description\n",
        "\n",
        "\n",
        "#### E) Optimizing seriously\n",
        "\n",
        "* You don't necessarily need 100 epochs. Use early stopping. If you've never done this before, take a look at [keras](https://github.com/keras-team/keras/blob/master/keras/callbacks.py#L461) for inspiration.\n",
        "  * In short, train until you notice that validation\n",
        "  * Maintain the best-on-validation snapshot via `model.state_dict`\n",
        "  * Plotting learning curves is usually a good idea"
      ]
    },
    {
      "cell_type": "markdown",
      "metadata": {
        "id": "MRsMSvnYwQvt",
        "colab_type": "text"
      },
      "source": [
        "### A short report\n",
        "\n",
        "Please tell us what you did and how did it work.\n",
        "\n",
        "`<YOUR_TEXT_HERE>`, i guess..."
      ]
    },
    {
      "cell_type": "code",
      "metadata": {
        "id": "x6BMtOoUwQvt",
        "colab_type": "code",
        "colab": {}
      },
      "source": [
        ""
      ],
      "execution_count": 0,
      "outputs": []
    }
  ]
}