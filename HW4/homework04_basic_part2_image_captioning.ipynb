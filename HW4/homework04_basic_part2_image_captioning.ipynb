{
  "nbformat": 4,
  "nbformat_minor": 0,
  "metadata": {
    "colab": {
      "name": "homework04_basic_part2_image_captioning.ipynb",
      "version": "0.3.2",
      "provenance": [],
      "toc_visible": true
    },
    "language_info": {
      "codemirror_mode": {
        "name": "ipython",
        "version": 3
      },
      "file_extension": ".py",
      "mimetype": "text/x-python",
      "name": "python",
      "nbconvert_exporter": "python",
      "pygments_lexer": "ipython3",
      "version": "3.6.8"
    },
    "kernelspec": {
      "name": "python3",
      "display_name": "Python 3"
    },
    "accelerator": "GPU"
  },
  "cells": [
    {
      "cell_type": "markdown",
      "metadata": {
        "id": "dj34FFRmfhem",
        "colab_type": "text"
      },
      "source": [
        "<h1 align=\"center\"> Image Captioning (8 points) </h1>\n",
        "\n",
        "In this notebook you will teach a network to do image captioning\n",
        "![img](https://i.imgur.com/obITaMl.png)\n",
        "\n",
        "\n",
        "\n",
        "#### Alright, here's our plan:\n",
        "1. Take a pre-trained inception v3 to vectorize images\n",
        "2. Stack an LSTM on top of it\n",
        "3. Train the thing on [MSCOCO](http://cocodataset.org/#download)"
      ]
    },
    {
      "cell_type": "code",
      "metadata": {
        "id": "tpmC4bhefhen",
        "colab_type": "code",
        "colab": {
          "base_uri": "https://localhost:8080/",
          "height": 187
        },
        "outputId": "11e76c34-9243-41ce-c4c5-1e3ef1b4acff"
      },
      "source": [
        "# Please either download data from https://yadi.sk/d/b4nAwIE73TVcp5 or generate it manually with preprocess_data.ipynb\n",
        "'''taken from discussion in DL chat'''\n",
        "! pip3 install wldhx.yadisk-direct\n",
        "! curl -L $(yadisk-direct https://yadi.sk/d/b4nAwIE73TVcp5) -o handout.tar.gz\n"
      ],
      "execution_count": 4,
      "outputs": [
        {
          "output_type": "stream",
          "text": [
            "Requirement already satisfied: wldhx.yadisk-direct in /usr/local/lib/python3.6/dist-packages (0.0.6)\n",
            "Requirement already satisfied: requests in /usr/local/lib/python3.6/dist-packages (from wldhx.yadisk-direct) (2.21.0)\n",
            "Requirement already satisfied: chardet<3.1.0,>=3.0.2 in /usr/local/lib/python3.6/dist-packages (from requests->wldhx.yadisk-direct) (3.0.4)\n",
            "Requirement already satisfied: urllib3<1.25,>=1.21.1 in /usr/local/lib/python3.6/dist-packages (from requests->wldhx.yadisk-direct) (1.24.3)\n",
            "Requirement already satisfied: idna<2.9,>=2.5 in /usr/local/lib/python3.6/dist-packages (from requests->wldhx.yadisk-direct) (2.8)\n",
            "Requirement already satisfied: certifi>=2017.4.17 in /usr/local/lib/python3.6/dist-packages (from requests->wldhx.yadisk-direct) (2019.3.9)\n",
            "  % Total    % Received % Xferd  Average Speed   Time    Time     Time  Current\n",
            "                                 Dload  Upload   Total   Spent    Left  Speed\n",
            "  0     0    0     0    0     0      0      0 --:--:-- --:--:-- --:--:--     0\n",
            "100  843M  100  843M    0     0  28.1M      0  0:00:29  0:00:29 --:--:-- 33.3M\n"
          ],
          "name": "stdout"
        }
      ]
    },
    {
      "cell_type": "code",
      "metadata": {
        "id": "g2t_HSWMg05D",
        "colab_type": "code",
        "colab": {}
      },
      "source": [
        "'''https://docs.python.org/3/library/tarfile.html'''\n",
        "import tarfile\n",
        "tf = tarfile.open(\"handout.tar.gz\")\n",
        "tf.extractall()"
      ],
      "execution_count": 0,
      "outputs": []
    },
    {
      "cell_type": "markdown",
      "metadata": {
        "id": "WB4F4AbVfheq",
        "colab_type": "text"
      },
      "source": [
        "### Data preprocessing"
      ]
    },
    {
      "cell_type": "code",
      "metadata": {
        "id": "V1ZOfjewfher",
        "colab_type": "code",
        "colab": {
          "base_uri": "https://localhost:8080/",
          "height": 51
        },
        "outputId": "c4a74d4a-a3c0-4319-f802-075c4bf52b89"
      },
      "source": [
        "%%time\n",
        "# Read Dataset\n",
        "import numpy as np\n",
        "import json\n",
        "\n",
        "img_codes = np.load(\"data/image_codes.npy\")\n",
        "captions = json.load(open('data/captions_tokenized.json'))"
      ],
      "execution_count": 6,
      "outputs": [
        {
          "output_type": "stream",
          "text": [
            "CPU times: user 182 ms, sys: 665 ms, total: 847 ms\n",
            "Wall time: 848 ms\n"
          ],
          "name": "stdout"
        }
      ]
    },
    {
      "cell_type": "markdown",
      "metadata": {
        "id": "3678C8Asfhev",
        "colab_type": "text"
      },
      "source": [
        "### Data structure\n",
        "\n",
        "To save your time, we've already vectorized all MSCOCO17 images with a pre-trained inception_v3 network from [torchvision](https://github.com/pytorch/vision/blob/master/torchvision/models/inception.py).\n",
        "\n",
        "The whole process takes anywhere between a day on CPU and 10min on 3x tesla m40. If you want to play with that yourself, [you're welcome](https://gist.github.com/justheuristic/11fd01f9c12c0bf960499580d104130b)."
      ]
    },
    {
      "cell_type": "code",
      "metadata": {
        "id": "jlOsP0G9fhev",
        "colab_type": "code",
        "colab": {
          "base_uri": "https://localhost:8080/",
          "height": 204
        },
        "outputId": "367bde6a-090e-4b4c-ace3-88f185076959"
      },
      "source": [
        "print(\"Each image code is a 2048-unit vector [ shape: %s ]\" % str(img_codes.shape))\n",
        "print(img_codes[0,:10], end='\\n\\n')\n",
        "print(\"For each image there are 5 reference captions, e.g.:\\n\")\n",
        "print('\\n'.join(captions[0]))"
      ],
      "execution_count": 7,
      "outputs": [
        {
          "output_type": "stream",
          "text": [
            "Each image code is a 2048-unit vector [ shape: (118287, 2048) ]\n",
            "[0.3659946  0.2016555  0.9245725  0.57063824 0.547268   0.8275868\n",
            " 0.3687277  0.12085301 0.0561931  0.49758485]\n",
            "\n",
            "For each image there are 5 reference captions, e.g.:\n",
            "\n",
            "people shopping in an open market for vegetables .\n",
            "an open market full of people and piles of vegetables .\n",
            "people are shopping at an open air produce market .\n",
            "large piles of carrots and potatoes at a crowded outdoor market .\n",
            "people shop for vegetables like carrots and potatoes at an open air market .\n"
          ],
          "name": "stdout"
        }
      ]
    },
    {
      "cell_type": "markdown",
      "metadata": {
        "id": "1tfP-ljbfhey",
        "colab_type": "text"
      },
      "source": [
        "As you can see, all captions are already tokenized and lowercased. We now want to split them and add some special tokens for start/end of caption."
      ]
    },
    {
      "cell_type": "code",
      "metadata": {
        "id": "JpkyksWLfhey",
        "colab_type": "code",
        "colab": {}
      },
      "source": [
        "#split descriptions into tokens\n",
        "for img_i in range(len(captions)):\n",
        "    for caption_i in range(len(captions[img_i])):\n",
        "        sentence = captions[img_i][caption_i] \n",
        "        captions[img_i][caption_i] = [\"#START#\"]+sentence.split(' ')+[\"#END#\"]\n"
      ],
      "execution_count": 0,
      "outputs": []
    },
    {
      "cell_type": "markdown",
      "metadata": {
        "id": "cvDwY6Lsfhe0",
        "colab_type": "text"
      },
      "source": [
        "You don't want your network to predict a million-size vector of probabilities at each step, so we're gotta make some cuts. \n",
        "\n",
        "We want you to __count the occurences of each word__ so that we can decide which words to keep in our vocabulary."
      ]
    },
    {
      "cell_type": "code",
      "metadata": {
        "id": "szFDr_fZfhe1",
        "colab_type": "code",
        "colab": {}
      },
      "source": [
        "# Build a Vocabulary\n",
        "from collections import Counter\n",
        "\n",
        "\n",
        "# Compute word frequencies for each word in captions. See code above for data structure\n",
        "word_counts = Counter([captions[i][j][k] for i in range(len(captions)) for j in range(len(captions[i])) for k in range(len(captions[i][j]))])"
      ],
      "execution_count": 0,
      "outputs": []
    },
    {
      "cell_type": "code",
      "metadata": {
        "id": "iboRc_tQfhe3",
        "colab_type": "code",
        "colab": {}
      },
      "source": [
        "vocab  = ['#UNK#', '#START#', '#END#', '#PAD#']\n",
        "vocab += [k for k, v in word_counts.items() if v >= 5 if k not in vocab]\n",
        "n_tokens = len(vocab)\n",
        "\n",
        "assert 10000 <= n_tokens <= 10500\n",
        "\n",
        "word_to_index = {w: i for i, w in enumerate(vocab)}"
      ],
      "execution_count": 0,
      "outputs": []
    },
    {
      "cell_type": "code",
      "metadata": {
        "id": "wxso7n1rfhe4",
        "colab_type": "code",
        "colab": {}
      },
      "source": [
        "eos_ix = word_to_index['#END#']\n",
        "unk_ix = word_to_index['#UNK#']\n",
        "pad_ix = word_to_index['#PAD#']\n",
        "\n",
        "def as_matrix(sequences, max_len=None):\n",
        "    \"\"\" Convert a list of tokens into a matrix with padding \"\"\"\n",
        "    max_len = max_len or max(map(len,sequences))\n",
        "    \n",
        "    matrix = np.zeros((len(sequences), max_len), dtype='int32') + pad_ix\n",
        "    for i,seq in enumerate(sequences):\n",
        "        row_ix = [word_to_index.get(word, unk_ix) for word in seq[:max_len]]\n",
        "        matrix[i, :len(row_ix)] = row_ix\n",
        "    \n",
        "    return matrix"
      ],
      "execution_count": 0,
      "outputs": []
    },
    {
      "cell_type": "code",
      "metadata": {
        "id": "xtLbx00rodvX",
        "colab_type": "code",
        "colab": {
          "base_uri": "https://localhost:8080/",
          "height": 187
        },
        "outputId": "6d6bb0c1-af46-43b7-bf57-7c34123c595f"
      },
      "source": [
        "#try it out on several descriptions of a random image\n",
        "as_matrix(captions[1337])"
      ],
      "execution_count": 12,
      "outputs": [
        {
          "output_type": "execute_result",
          "data": {
            "text/plain": [
              "array([[   1,   24,  262,  140,    6,  159,   14,   24,  858,  155,   12,\n",
              "           2,    3,    3,    3,    3,    3,    3,    3],\n",
              "       [   1,   24,  262,   53,   18,   24,  858,  155,    2,    3,    3,\n",
              "           3,    3,    3,    3,    3,    3,    3,    3],\n",
              "       [   1,   24,  262,   41,   18,  903,   35,  620,  155,    2,    3,\n",
              "           3,    3,    3,    3,    3,    3,    3,    3],\n",
              "       [   1,   45,  115,  262,   41,   53,   18,  620, 1525,   77,   12,\n",
              "           2,    3,    3,    3,    3,    3,    3,    3],\n",
              "       [   1,   24,  262,   53,   18,   24,  858,  123,   58,   45,  276,\n",
              "        3641,   24, 3642,   35,   45, 1128,   12,    2]], dtype=int32)"
            ]
          },
          "metadata": {
            "tags": []
          },
          "execution_count": 12
        }
      ]
    },
    {
      "cell_type": "markdown",
      "metadata": {
        "id": "tssdx6EufhfA",
        "colab_type": "text"
      },
      "source": [
        "### Building our neural network\n",
        "\n",
        "As we mentioned earlier, we shall build an rnn \"language-model\" conditioned on vectors from the convolutional part. \n",
        "\n",
        "![img](https://raw.githubusercontent.com/yunjey/pytorch-tutorial/master/tutorials/03-advanced/image_captioning/png/model.png)\n",
        "_image: http://bit.ly/2FKnqHm_\n",
        "\n",
        "\n",
        "We'll unbox the inception net later to save memory, for now just pretend that it's available.\n"
      ]
    },
    {
      "cell_type": "code",
      "metadata": {
        "id": "t_J9wsOpfhfB",
        "colab_type": "code",
        "colab": {}
      },
      "source": [
        "import torch, torch.nn as nn\n",
        "import torch.nn.functional as F"
      ],
      "execution_count": 0,
      "outputs": []
    },
    {
      "cell_type": "code",
      "metadata": {
        "id": "4dKf6l50fhfD",
        "colab_type": "code",
        "colab": {}
      },
      "source": [
        "class CaptionNet(nn.Module):\n",
        "    def __init__(self, n_tokens=n_tokens, emb_size=128, lstm_units=256, cnn_feature_size=2048):\n",
        "        \"\"\" A recurrent 'head' network for image captioning. See scheme above. \"\"\"\n",
        "        super(self.__class__, self).__init__()\n",
        "        \n",
        "        # a layer that converts conv features to \n",
        "        self.cnn_to_h0 = nn.Linear(cnn_feature_size, lstm_units)\n",
        "        self.cnn_to_c0 = nn.Linear(cnn_feature_size, lstm_units)\n",
        "        \n",
        "        # recurrent part, please create the layers as per scheme above.\n",
        "\n",
        "        # create embedding for input words. Use the parameters (e.g. emb_size).\n",
        "        self.emb = nn.Embedding(n_tokens, emb_size) \n",
        "            \n",
        "        # lstm: create a recurrent core of your network. Use either LSTMCell or just LSTM. \n",
        "        # In the latter case (nn.LSTM), make sure batch_first=True\n",
        "        self.lstm = nn.LSTM(emb_size, lstm_units, batch_first=True)\n",
        "            \n",
        "        # create logits: linear layer that takes lstm hidden state as input and computes one number per token\n",
        "        self.logits = nn.Linear(lstm_units, n_tokens)\n",
        "        \n",
        "    def forward(self, image_vectors, captions_ix):\n",
        "        \"\"\" \n",
        "        Apply the network in training mode. \n",
        "        :param image_vectors: torch tensor containing inception vectors. shape: [batch, cnn_feature_size]\n",
        "        :param captions_ix: torch tensor containing captions as matrix. shape: [batch, word_i]. \n",
        "            padded with pad_ix\n",
        "        :returns: logits for next token at each tick, shape: [batch, word_i, n_tokens]\n",
        "        \"\"\"\n",
        "        initial_cell = self.cnn_to_c0(image_vectors)\n",
        "        initial_hid = self.cnn_to_h0(image_vectors)\n",
        "        \n",
        "        # compute embeddings for captions_ix\n",
        "        captions_emb = self.emb(captions_ix)\n",
        "        \n",
        "        # apply recurrent layer to captions_emb. \n",
        "        # 1. initialize lstm state with initial_* from above\n",
        "        # 2. feed it with captions. Mind the dimension order in docstring\n",
        "        # 3. compute logits for next token probabilities\n",
        "        # Note: if you used nn.LSTM, you can just give it (initial_cell[None], initial_hid[None]) as second arg\n",
        "\n",
        "        # lstm_out should be lstm hidden state sequence of shape [batch, caption_length, lstm_units]\n",
        "        lstm_out = self.lstm(captions_emb, (initial_cell[None], initial_hid[None]))\n",
        "        \n",
        "        # compute logits from lstm_out\n",
        "        logits = self.logits(lstm_out[0])\n",
        "        \n",
        "        return logits        "
      ],
      "execution_count": 0,
      "outputs": []
    },
    {
      "cell_type": "code",
      "metadata": {
        "id": "VyT-e6HCfhfE",
        "colab_type": "code",
        "colab": {}
      },
      "source": [
        "network = CaptionNet(n_tokens)\n",
        "network = network.cuda()"
      ],
      "execution_count": 0,
      "outputs": []
    },
    {
      "cell_type": "code",
      "metadata": {
        "id": "vAYgIj7bfhfG",
        "colab_type": "code",
        "colab": {
          "base_uri": "https://localhost:8080/",
          "height": 34
        },
        "outputId": "3a69341f-db95-4b02-9d82-6615fed6b05f"
      },
      "source": [
        "dummy_img_vec = torch.randn(len(captions[0]), 2048).cuda()\n",
        "dummy_capt_ix = torch.tensor(as_matrix(captions[0]), dtype=torch.int64).cuda()\n",
        "\n",
        "dummy_logits = network.forward(dummy_img_vec, dummy_capt_ix)\n",
        "\n",
        "print('shape:', dummy_logits.shape)\n",
        "assert dummy_logits.shape == (dummy_capt_ix.shape[0], dummy_capt_ix.shape[1], n_tokens)"
      ],
      "execution_count": 80,
      "outputs": [
        {
          "output_type": "stream",
          "text": [
            "shape: torch.Size([5, 16, 10403])\n"
          ],
          "name": "stdout"
        }
      ]
    },
    {
      "cell_type": "code",
      "metadata": {
        "id": "8_9pzwYkfhfI",
        "colab_type": "code",
        "colab": {}
      },
      "source": [
        "def compute_loss(network, image_vectors, captions_ix):\n",
        "    \"\"\"\n",
        "    :param image_vectors: torch tensor containing inception vectors. shape: [batch, cnn_feature_size]\n",
        "    :param captions_ix: torch tensor containing captions as matrix. shape: [batch, word_i]. \n",
        "        padded with pad_ix\n",
        "    :returns: scalar crossentropy loss (neg llh) loss for next captions_ix given previous ones\n",
        "    \"\"\"\n",
        "    \n",
        "    # captions for input - all except last cuz we don't know next token for last one.\n",
        "    captions_ix_inp = captions_ix[:, :-1].contiguous()\n",
        "    captions_ix_next = captions_ix[:, 1:].contiguous()\n",
        "    \n",
        "\n",
        "    # apply the network, get predictions for captions_ix_next\n",
        "    image_vectors = image_vectors.cuda()\n",
        "    captions_ix_next = captions_ix_next.cuda()\n",
        "    logits_for_next = network.forward(image_vectors, captions_ix_inp.cuda())\n",
        "    logits_for_next = logits_for_next.transpose(1, 2)  \n",
        "\n",
        "    # compute the loss function between logits_for_next and captions_ix_next\n",
        "    # Use the mask, Luke: make sure that predicting next tokens after EOS do not contribute to loss\n",
        "    # you can do that either by multiplying elementwise loss by (captions_ix_next != pad_ix)\n",
        "    # or by using ignore_index in some losses.\n",
        "\n",
        "    loss = F.cross_entropy(logits_for_next, captions_ix_next, ignore_index = pad_ix).reshape(1)\n",
        "\n",
        "    return loss"
      ],
      "execution_count": 0,
      "outputs": []
    },
    {
      "cell_type": "code",
      "metadata": {
        "id": "a06PkzUyfhfK",
        "colab_type": "code",
        "colab": {}
      },
      "source": [
        "dummy_loss = compute_loss(network, dummy_img_vec, dummy_capt_ix)\n",
        "assert dummy_loss.shape == torch.Size([1]), 'loss must be scalar'\n",
        "assert dummy_loss.cpu().data.numpy() > 0, \"did you forget the 'negative' part of negative log-likelihood\"\n",
        "\n",
        "dummy_loss.backward()\n",
        "\n",
        "assert all(param.grad is not None for param in network.parameters()), \\\n",
        "        'loss should depend differentiably on all neural network weights'"
      ],
      "execution_count": 0,
      "outputs": []
    },
    {
      "cell_type": "markdown",
      "metadata": {
        "id": "yM1zjbOIfhfM",
        "colab_type": "text"
      },
      "source": [
        "Create ~~adam~~ your favorite optimizer for the network."
      ]
    },
    {
      "cell_type": "code",
      "metadata": {
        "id": "Is85MYw3fhfN",
        "colab_type": "code",
        "colab": {}
      },
      "source": [
        "optimizer = torch.optim.Adam(network.parameters())"
      ],
      "execution_count": 0,
      "outputs": []
    },
    {
      "cell_type": "markdown",
      "metadata": {
        "id": "pa0f20YwfhfQ",
        "colab_type": "text"
      },
      "source": [
        "# Training\n",
        "\n",
        "* First implement the batch generator\n",
        "* Than train the network as usual"
      ]
    },
    {
      "cell_type": "code",
      "metadata": {
        "id": "7qPVSPfSfhfR",
        "colab_type": "code",
        "colab": {}
      },
      "source": [
        "from sklearn.model_selection import train_test_split\n",
        "captions = np.array(captions)\n",
        "train_img_codes, val_img_codes, train_captions, val_captions = train_test_split(img_codes, captions,\n",
        "                                                                                test_size=0.1,\n",
        "                                                                                random_state=42)"
      ],
      "execution_count": 0,
      "outputs": []
    },
    {
      "cell_type": "code",
      "metadata": {
        "id": "X2wxWmDJfhfV",
        "colab_type": "code",
        "colab": {}
      },
      "source": [
        "from random import choice\n",
        "\n",
        "def generate_batch(img_codes, captions, batch_size, max_caption_len=None):\n",
        "    \n",
        "    #sample random numbers for image/caption indicies\n",
        "    random_image_ix = np.random.randint(0, len(img_codes), size=batch_size)\n",
        "    \n",
        "    #get images\n",
        "    batch_images = img_codes[random_image_ix]\n",
        "    \n",
        "    #5-7 captions for each image\n",
        "    captions_for_batch_images = captions[random_image_ix]\n",
        "    \n",
        "    #pick one from a set of captions for each image\n",
        "    batch_captions = list(map(choice,captions_for_batch_images))\n",
        "    \n",
        "    #convert to matrix\n",
        "    batch_captions_ix = as_matrix(batch_captions,max_len=max_caption_len)\n",
        "    \n",
        "    return torch.tensor(batch_images, dtype=torch.float32).cuda(), torch.tensor(batch_captions_ix, dtype=torch.int64).cuda()\n",
        "    "
      ],
      "execution_count": 0,
      "outputs": []
    },
    {
      "cell_type": "code",
      "metadata": {
        "id": "BqsXXoFzfhfX",
        "colab_type": "code",
        "colab": {
          "base_uri": "https://localhost:8080/",
          "height": 187
        },
        "outputId": "43d2ffa8-e154-4889-e3e6-e8d2156d9972"
      },
      "source": [
        "generate_batch(img_codes,captions,3)"
      ],
      "execution_count": 89,
      "outputs": [
        {
          "output_type": "execute_result",
          "data": {
            "text/plain": [
              "(tensor([[0.2268, 0.2965, 0.2607,  ..., 0.2855, 0.1984, 0.6694],\n",
              "         [0.1657, 0.2137, 0.5577,  ..., 0.1583, 0.7962, 0.1385],\n",
              "         [0.0244, 0.4449, 0.3287,  ..., 0.1264, 0.3776, 0.0618]],\n",
              "        device='cuda:0'),\n",
              " tensor([[   1,   24,  158,    6,   24,  169,   58,   24,  154,   15, 2177,   12,\n",
              "             2,    3,    3],\n",
              "         [   1, 1391,   94,    6,   45,   36,   35,   37,  123,   51,  110, 1300,\n",
              "            12,    2,    3],\n",
              "         [   1,   24,   29,   44, 4301,    6,   45,   36,   35,   24,  359,   14,\n",
              "            37,   12,    2]], device='cuda:0'))"
            ]
          },
          "metadata": {
            "tags": []
          },
          "execution_count": 89
        }
      ]
    },
    {
      "cell_type": "markdown",
      "metadata": {
        "id": "I3XcYllVfhfa",
        "colab_type": "text"
      },
      "source": [
        "### Main loop\n",
        "\n",
        "Train on minibatches just as usual. Evaluate on val from time to time.\n",
        "\n",
        "##### TIps\n",
        "* If training loss has become close to 0 or model produces garbage,\n",
        "    double-check that you're predicting __next__ words, not current or t+2'th words.\n",
        "* If the model generates fluent captions that have nothing to do with the images\n",
        " * this may be due to recurrent net not receiving image vectors.\n",
        " * alternatively it may be caused by gradient explosion, try clipping 'em or just restarting the training\n",
        " * finally, you may just need to train the model a bit more\n",
        "\n",
        "\n",
        "* Crossentropy is a poor measure of overfitting\n",
        " * Model can overfit validation crossentropy but keep improving validation quality.\n",
        " * Use human _(manual)_ evaluation or try automated metrics: [cider](https://github.com/vrama91/cider) or [bleu](https://www.nltk.org/_modules/nltk/translate/bleu_score.html)\n",
        " \n",
        "\n",
        "* We recommend you to periodically evaluate the network using the next \"apply trained model\" block\n",
        " *  its safe to interrupt training, run a few examples and start training again\n",
        " \n",
        "* The typical loss values should be around 3~5 if you average over time, scale by length if you sum over time. The reasonable captions began appearing at loss=2.8 ~ 3.0\n",
        " "
      ]
    },
    {
      "cell_type": "code",
      "metadata": {
        "id": "CloPqVf3fhfa",
        "colab_type": "code",
        "colab": {}
      },
      "source": [
        "batch_size = 50  # adjust me\n",
        "n_epochs = 100  # adjust me\n",
        "n_batches_per_epoch = 50  # adjust me\n",
        "n_validation_batches = 5  # how many batches are used for validation after each epoch"
      ],
      "execution_count": 0,
      "outputs": []
    },
    {
      "cell_type": "code",
      "metadata": {
        "scrolled": false,
        "id": "tLqVhnqofhfc",
        "colab_type": "code",
        "colab": {
          "base_uri": "https://localhost:8080/",
          "height": 5134
        },
        "outputId": "704cd2eb-9f8f-4ad6-ffb8-59bf9d9ddf49"
      },
      "source": [
        "from tqdm import tqdm\n",
        "for epoch in range(n_epochs):\n",
        "    \n",
        "    train_loss=0\n",
        "    network.train(True)\n",
        "    for _ in tqdm(range(n_batches_per_epoch)):\n",
        "        \n",
        "        loss_t = compute_loss(network, *generate_batch(train_img_codes, train_captions, batch_size))\n",
        "        \n",
        "        \n",
        "        # clear old gradients; do a backward pass to get new gradients; then train with opt\n",
        "        optimizer.zero_grad()\n",
        "        loss_t.backward()\n",
        "        optimizer.step()\n",
        "        \n",
        "        train_loss += loss_t.item()\n",
        "        \n",
        "    train_loss /= n_batches_per_epoch\n",
        "    \n",
        "    val_loss=0\n",
        "    network.train(False)\n",
        "    for _ in range(n_validation_batches):\n",
        "        loss_t = compute_loss(network, *generate_batch(val_img_codes, val_captions, batch_size))\n",
        "        val_loss += loss_t.item()\n",
        "    val_loss /= n_validation_batches\n",
        "    \n",
        "    print('\\nEpoch: {}, train loss: {}, val loss: {}'.format(epoch, train_loss, val_loss))\n",
        "\n",
        "print(\"Finished!\")"
      ],
      "execution_count": 91,
      "outputs": [
        {
          "output_type": "stream",
          "text": [
            "100%|██████████| 50/50 [00:00<00:00, 54.72it/s]\n",
            " 10%|█         | 5/50 [00:00<00:00, 46.71it/s]"
          ],
          "name": "stderr"
        },
        {
          "output_type": "stream",
          "text": [
            "\n",
            "Epoch: 0, train loss: 6.038581352233887, val loss: 4.864350891113281\n"
          ],
          "name": "stdout"
        },
        {
          "output_type": "stream",
          "text": [
            "100%|██████████| 50/50 [00:00<00:00, 56.18it/s]\n",
            " 14%|█▍        | 7/50 [00:00<00:00, 63.26it/s]"
          ],
          "name": "stderr"
        },
        {
          "output_type": "stream",
          "text": [
            "\n",
            "Epoch: 1, train loss: 4.715144739151001, val loss: 4.587441158294678\n"
          ],
          "name": "stdout"
        },
        {
          "output_type": "stream",
          "text": [
            "100%|██████████| 50/50 [00:00<00:00, 58.59it/s]\n",
            " 14%|█▍        | 7/50 [00:00<00:00, 64.65it/s]"
          ],
          "name": "stderr"
        },
        {
          "output_type": "stream",
          "text": [
            "\n",
            "Epoch: 2, train loss: 4.468943681716919, val loss: 4.33262996673584\n"
          ],
          "name": "stdout"
        },
        {
          "output_type": "stream",
          "text": [
            "100%|██████████| 50/50 [00:00<00:00, 60.48it/s]\n",
            " 14%|█▍        | 7/50 [00:00<00:00, 61.76it/s]"
          ],
          "name": "stderr"
        },
        {
          "output_type": "stream",
          "text": [
            "\n",
            "Epoch: 3, train loss: 4.2615584993362425, val loss: 4.079977941513062\n"
          ],
          "name": "stdout"
        },
        {
          "output_type": "stream",
          "text": [
            "100%|██████████| 50/50 [00:00<00:00, 61.36it/s]\n",
            " 14%|█▍        | 7/50 [00:00<00:00, 64.76it/s]"
          ],
          "name": "stderr"
        },
        {
          "output_type": "stream",
          "text": [
            "\n",
            "Epoch: 4, train loss: 4.121808438301087, val loss: 4.004292345046997\n"
          ],
          "name": "stdout"
        },
        {
          "output_type": "stream",
          "text": [
            "100%|██████████| 50/50 [00:00<00:00, 63.92it/s]\n",
            " 14%|█▍        | 7/50 [00:00<00:00, 63.37it/s]"
          ],
          "name": "stderr"
        },
        {
          "output_type": "stream",
          "text": [
            "\n",
            "Epoch: 5, train loss: 3.9999354696273803, val loss: 3.992435169219971\n"
          ],
          "name": "stdout"
        },
        {
          "output_type": "stream",
          "text": [
            "100%|██████████| 50/50 [00:00<00:00, 63.02it/s]\n",
            " 14%|█▍        | 7/50 [00:00<00:00, 59.67it/s]"
          ],
          "name": "stderr"
        },
        {
          "output_type": "stream",
          "text": [
            "\n",
            "Epoch: 6, train loss: 3.892412247657776, val loss: 3.8992987632751466\n"
          ],
          "name": "stdout"
        },
        {
          "output_type": "stream",
          "text": [
            "100%|██████████| 50/50 [00:00<00:00, 61.46it/s]\n",
            " 14%|█▍        | 7/50 [00:00<00:00, 68.02it/s]"
          ],
          "name": "stderr"
        },
        {
          "output_type": "stream",
          "text": [
            "\n",
            "Epoch: 7, train loss: 3.7974887180328367, val loss: 3.7639222145080566\n"
          ],
          "name": "stdout"
        },
        {
          "output_type": "stream",
          "text": [
            "100%|██████████| 50/50 [00:00<00:00, 61.98it/s]\n",
            " 14%|█▍        | 7/50 [00:00<00:00, 65.66it/s]"
          ],
          "name": "stderr"
        },
        {
          "output_type": "stream",
          "text": [
            "\n",
            "Epoch: 8, train loss: 3.7491477346420288, val loss: 3.6514429092407226\n"
          ],
          "name": "stdout"
        },
        {
          "output_type": "stream",
          "text": [
            "100%|██████████| 50/50 [00:00<00:00, 59.61it/s]\n",
            " 14%|█▍        | 7/50 [00:00<00:00, 62.33it/s]"
          ],
          "name": "stderr"
        },
        {
          "output_type": "stream",
          "text": [
            "\n",
            "Epoch: 9, train loss: 3.6875488710403443, val loss: 3.477693796157837\n"
          ],
          "name": "stdout"
        },
        {
          "output_type": "stream",
          "text": [
            "100%|██████████| 50/50 [00:00<00:00, 59.54it/s]\n",
            " 14%|█▍        | 7/50 [00:00<00:00, 61.78it/s]"
          ],
          "name": "stderr"
        },
        {
          "output_type": "stream",
          "text": [
            "\n",
            "Epoch: 10, train loss: 3.649728856086731, val loss: 3.5343852996826173\n"
          ],
          "name": "stdout"
        },
        {
          "output_type": "stream",
          "text": [
            "100%|██████████| 50/50 [00:00<00:00, 61.33it/s]\n",
            " 14%|█▍        | 7/50 [00:00<00:00, 63.66it/s]"
          ],
          "name": "stderr"
        },
        {
          "output_type": "stream",
          "text": [
            "\n",
            "Epoch: 11, train loss: 3.5651697301864624, val loss: 3.6393550872802733\n"
          ],
          "name": "stdout"
        },
        {
          "output_type": "stream",
          "text": [
            "100%|██████████| 50/50 [00:00<00:00, 62.36it/s]\n",
            " 14%|█▍        | 7/50 [00:00<00:00, 66.43it/s]"
          ],
          "name": "stderr"
        },
        {
          "output_type": "stream",
          "text": [
            "\n",
            "Epoch: 12, train loss: 3.488794960975647, val loss: 3.543831157684326\n"
          ],
          "name": "stdout"
        },
        {
          "output_type": "stream",
          "text": [
            "100%|██████████| 50/50 [00:00<00:00, 61.76it/s]\n",
            " 10%|█         | 5/50 [00:00<00:00, 47.41it/s]"
          ],
          "name": "stderr"
        },
        {
          "output_type": "stream",
          "text": [
            "\n",
            "Epoch: 13, train loss: 3.456772232055664, val loss: 3.444001865386963\n"
          ],
          "name": "stdout"
        },
        {
          "output_type": "stream",
          "text": [
            "100%|██████████| 50/50 [00:00<00:00, 58.88it/s]\n",
            " 14%|█▍        | 7/50 [00:00<00:00, 63.91it/s]"
          ],
          "name": "stderr"
        },
        {
          "output_type": "stream",
          "text": [
            "\n",
            "Epoch: 14, train loss: 3.397602744102478, val loss: 3.4969707489013673\n"
          ],
          "name": "stdout"
        },
        {
          "output_type": "stream",
          "text": [
            "100%|██████████| 50/50 [00:00<00:00, 59.47it/s]\n",
            " 14%|█▍        | 7/50 [00:00<00:00, 62.54it/s]"
          ],
          "name": "stderr"
        },
        {
          "output_type": "stream",
          "text": [
            "\n",
            "Epoch: 15, train loss: 3.3485994005203246, val loss: 3.464776706695557\n"
          ],
          "name": "stdout"
        },
        {
          "output_type": "stream",
          "text": [
            "100%|██████████| 50/50 [00:00<00:00, 60.34it/s]\n",
            " 14%|█▍        | 7/50 [00:00<00:00, 69.76it/s]"
          ],
          "name": "stderr"
        },
        {
          "output_type": "stream",
          "text": [
            "\n",
            "Epoch: 16, train loss: 3.3280705976486207, val loss: 3.144985246658325\n"
          ],
          "name": "stdout"
        },
        {
          "output_type": "stream",
          "text": [
            "100%|██████████| 50/50 [00:00<00:00, 62.37it/s]\n",
            " 16%|█▌        | 8/50 [00:00<00:00, 69.48it/s]"
          ],
          "name": "stderr"
        },
        {
          "output_type": "stream",
          "text": [
            "\n",
            "Epoch: 17, train loss: 3.2838398838043212, val loss: 3.297087049484253\n"
          ],
          "name": "stdout"
        },
        {
          "output_type": "stream",
          "text": [
            "100%|██████████| 50/50 [00:00<00:00, 62.36it/s]\n",
            " 14%|█▍        | 7/50 [00:00<00:00, 64.71it/s]"
          ],
          "name": "stderr"
        },
        {
          "output_type": "stream",
          "text": [
            "\n",
            "Epoch: 18, train loss: 3.2183889675140382, val loss: 3.291133737564087\n"
          ],
          "name": "stdout"
        },
        {
          "output_type": "stream",
          "text": [
            "100%|██████████| 50/50 [00:00<00:00, 62.48it/s]\n",
            " 14%|█▍        | 7/50 [00:00<00:00, 62.08it/s]"
          ],
          "name": "stderr"
        },
        {
          "output_type": "stream",
          "text": [
            "\n",
            "Epoch: 19, train loss: 3.2408083724975585, val loss: 3.087098503112793\n"
          ],
          "name": "stdout"
        },
        {
          "output_type": "stream",
          "text": [
            "100%|██████████| 50/50 [00:00<00:00, 60.22it/s]\n",
            " 14%|█▍        | 7/50 [00:00<00:00, 66.09it/s]"
          ],
          "name": "stderr"
        },
        {
          "output_type": "stream",
          "text": [
            "\n",
            "Epoch: 20, train loss: 3.21543963432312, val loss: 3.254614782333374\n"
          ],
          "name": "stdout"
        },
        {
          "output_type": "stream",
          "text": [
            "100%|██████████| 50/50 [00:00<00:00, 64.03it/s]\n",
            " 14%|█▍        | 7/50 [00:00<00:00, 68.20it/s]"
          ],
          "name": "stderr"
        },
        {
          "output_type": "stream",
          "text": [
            "\n",
            "Epoch: 21, train loss: 3.1569145774841307, val loss: 3.001961278915405\n"
          ],
          "name": "stdout"
        },
        {
          "output_type": "stream",
          "text": [
            "100%|██████████| 50/50 [00:00<00:00, 62.87it/s]\n",
            " 12%|█▏        | 6/50 [00:00<00:00, 52.20it/s]"
          ],
          "name": "stderr"
        },
        {
          "output_type": "stream",
          "text": [
            "\n",
            "Epoch: 22, train loss: 3.136013069152832, val loss: 3.110587453842163\n"
          ],
          "name": "stdout"
        },
        {
          "output_type": "stream",
          "text": [
            "100%|██████████| 50/50 [00:00<00:00, 58.82it/s]\n",
            " 14%|█▍        | 7/50 [00:00<00:00, 67.33it/s]"
          ],
          "name": "stderr"
        },
        {
          "output_type": "stream",
          "text": [
            "\n",
            "Epoch: 23, train loss: 3.1575558948516846, val loss: 3.1488907814025877\n"
          ],
          "name": "stdout"
        },
        {
          "output_type": "stream",
          "text": [
            "100%|██████████| 50/50 [00:00<00:00, 60.33it/s]\n",
            " 12%|█▏        | 6/50 [00:00<00:00, 58.72it/s]"
          ],
          "name": "stderr"
        },
        {
          "output_type": "stream",
          "text": [
            "\n",
            "Epoch: 24, train loss: 3.135145220756531, val loss: 3.1934990882873535\n"
          ],
          "name": "stdout"
        },
        {
          "output_type": "stream",
          "text": [
            "100%|██████████| 50/50 [00:00<00:00, 58.54it/s]\n",
            " 12%|█▏        | 6/50 [00:00<00:00, 59.85it/s]"
          ],
          "name": "stderr"
        },
        {
          "output_type": "stream",
          "text": [
            "\n",
            "Epoch: 25, train loss: 3.1237428474426268, val loss: 3.064897298812866\n"
          ],
          "name": "stdout"
        },
        {
          "output_type": "stream",
          "text": [
            "100%|██████████| 50/50 [00:00<00:00, 56.23it/s]\n",
            " 14%|█▍        | 7/50 [00:00<00:00, 68.28it/s]"
          ],
          "name": "stderr"
        },
        {
          "output_type": "stream",
          "text": [
            "\n",
            "Epoch: 26, train loss: 3.0840143156051636, val loss: 3.0344703674316404\n"
          ],
          "name": "stdout"
        },
        {
          "output_type": "stream",
          "text": [
            "100%|██████████| 50/50 [00:00<00:00, 59.37it/s]\n",
            " 16%|█▌        | 8/50 [00:00<00:00, 71.05it/s]"
          ],
          "name": "stderr"
        },
        {
          "output_type": "stream",
          "text": [
            "\n",
            "Epoch: 27, train loss: 3.0740736627578737, val loss: 2.9362110137939452\n"
          ],
          "name": "stdout"
        },
        {
          "output_type": "stream",
          "text": [
            "100%|██████████| 50/50 [00:00<00:00, 59.60it/s]\n",
            " 14%|█▍        | 7/50 [00:00<00:00, 68.35it/s]"
          ],
          "name": "stderr"
        },
        {
          "output_type": "stream",
          "text": [
            "\n",
            "Epoch: 28, train loss: 3.0439563608169555, val loss: 3.062996673583984\n"
          ],
          "name": "stdout"
        },
        {
          "output_type": "stream",
          "text": [
            "100%|██████████| 50/50 [00:00<00:00, 62.41it/s]\n",
            " 14%|█▍        | 7/50 [00:00<00:00, 58.84it/s]"
          ],
          "name": "stderr"
        },
        {
          "output_type": "stream",
          "text": [
            "\n",
            "Epoch: 29, train loss: 2.9969375562667846, val loss: 3.001768159866333\n"
          ],
          "name": "stdout"
        },
        {
          "output_type": "stream",
          "text": [
            "100%|██████████| 50/50 [00:00<00:00, 59.68it/s]\n",
            " 14%|█▍        | 7/50 [00:00<00:00, 64.54it/s]"
          ],
          "name": "stderr"
        },
        {
          "output_type": "stream",
          "text": [
            "\n",
            "Epoch: 30, train loss: 3.0342663955688476, val loss: 3.064523696899414\n"
          ],
          "name": "stdout"
        },
        {
          "output_type": "stream",
          "text": [
            "100%|██████████| 50/50 [00:00<00:00, 62.18it/s]\n",
            " 14%|█▍        | 7/50 [00:00<00:00, 60.10it/s]"
          ],
          "name": "stderr"
        },
        {
          "output_type": "stream",
          "text": [
            "\n",
            "Epoch: 31, train loss: 3.012962565422058, val loss: 2.9821629524230957\n"
          ],
          "name": "stdout"
        },
        {
          "output_type": "stream",
          "text": [
            "100%|██████████| 50/50 [00:00<00:00, 58.04it/s]\n",
            " 14%|█▍        | 7/50 [00:00<00:00, 62.61it/s]"
          ],
          "name": "stderr"
        },
        {
          "output_type": "stream",
          "text": [
            "\n",
            "Epoch: 32, train loss: 3.0019942903518677, val loss: 2.994549036026001\n"
          ],
          "name": "stdout"
        },
        {
          "output_type": "stream",
          "text": [
            "100%|██████████| 50/50 [00:00<00:00, 62.23it/s]\n",
            " 16%|█▌        | 8/50 [00:00<00:00, 66.51it/s]"
          ],
          "name": "stderr"
        },
        {
          "output_type": "stream",
          "text": [
            "\n",
            "Epoch: 33, train loss: 2.9884184646606444, val loss: 2.9437187194824217\n"
          ],
          "name": "stdout"
        },
        {
          "output_type": "stream",
          "text": [
            "100%|██████████| 50/50 [00:00<00:00, 58.07it/s]\n",
            " 14%|█▍        | 7/50 [00:00<00:00, 66.97it/s]"
          ],
          "name": "stderr"
        },
        {
          "output_type": "stream",
          "text": [
            "\n",
            "Epoch: 34, train loss: 2.9345437574386595, val loss: 2.993883180618286\n"
          ],
          "name": "stdout"
        },
        {
          "output_type": "stream",
          "text": [
            "100%|██████████| 50/50 [00:00<00:00, 63.16it/s]\n",
            " 12%|█▏        | 6/50 [00:00<00:00, 58.94it/s]"
          ],
          "name": "stderr"
        },
        {
          "output_type": "stream",
          "text": [
            "\n",
            "Epoch: 35, train loss: 2.948608708381653, val loss: 2.9558095932006836\n"
          ],
          "name": "stdout"
        },
        {
          "output_type": "stream",
          "text": [
            "100%|██████████| 50/50 [00:00<00:00, 58.00it/s]\n",
            " 16%|█▌        | 8/50 [00:00<00:00, 70.83it/s]"
          ],
          "name": "stderr"
        },
        {
          "output_type": "stream",
          "text": [
            "\n",
            "Epoch: 36, train loss: 2.95909414768219, val loss: 3.029040288925171\n"
          ],
          "name": "stdout"
        },
        {
          "output_type": "stream",
          "text": [
            "100%|██████████| 50/50 [00:00<00:00, 61.63it/s]\n",
            " 12%|█▏        | 6/50 [00:00<00:00, 51.47it/s]"
          ],
          "name": "stderr"
        },
        {
          "output_type": "stream",
          "text": [
            "\n",
            "Epoch: 37, train loss: 2.9224920654296875, val loss: 2.934069108963013\n"
          ],
          "name": "stdout"
        },
        {
          "output_type": "stream",
          "text": [
            "100%|██████████| 50/50 [00:00<00:00, 56.81it/s]\n",
            " 14%|█▍        | 7/50 [00:00<00:00, 60.73it/s]"
          ],
          "name": "stderr"
        },
        {
          "output_type": "stream",
          "text": [
            "\n",
            "Epoch: 38, train loss: 2.924717526435852, val loss: 3.017853260040283\n"
          ],
          "name": "stdout"
        },
        {
          "output_type": "stream",
          "text": [
            "100%|██████████| 50/50 [00:00<00:00, 57.12it/s]\n",
            " 12%|█▏        | 6/50 [00:00<00:00, 53.01it/s]"
          ],
          "name": "stderr"
        },
        {
          "output_type": "stream",
          "text": [
            "\n",
            "Epoch: 39, train loss: 2.9604310035705566, val loss: 2.9516879081726075\n"
          ],
          "name": "stdout"
        },
        {
          "output_type": "stream",
          "text": [
            "100%|██████████| 50/50 [00:00<00:00, 57.70it/s]\n",
            " 12%|█▏        | 6/50 [00:00<00:00, 59.83it/s]"
          ],
          "name": "stderr"
        },
        {
          "output_type": "stream",
          "text": [
            "\n",
            "Epoch: 40, train loss: 2.9436065196990966, val loss: 2.9463791847229004\n"
          ],
          "name": "stdout"
        },
        {
          "output_type": "stream",
          "text": [
            "100%|██████████| 50/50 [00:00<00:00, 56.44it/s]\n",
            " 14%|█▍        | 7/50 [00:00<00:00, 63.68it/s]"
          ],
          "name": "stderr"
        },
        {
          "output_type": "stream",
          "text": [
            "\n",
            "Epoch: 41, train loss: 2.929696226119995, val loss: 2.8674344062805175\n"
          ],
          "name": "stdout"
        },
        {
          "output_type": "stream",
          "text": [
            "100%|██████████| 50/50 [00:00<00:00, 57.91it/s]\n",
            " 12%|█▏        | 6/50 [00:00<00:00, 58.36it/s]"
          ],
          "name": "stderr"
        },
        {
          "output_type": "stream",
          "text": [
            "\n",
            "Epoch: 42, train loss: 2.8757161045074464, val loss: 2.9340169429779053\n"
          ],
          "name": "stdout"
        },
        {
          "output_type": "stream",
          "text": [
            "100%|██████████| 50/50 [00:00<00:00, 59.80it/s]\n",
            " 12%|█▏        | 6/50 [00:00<00:00, 54.25it/s]"
          ],
          "name": "stderr"
        },
        {
          "output_type": "stream",
          "text": [
            "\n",
            "Epoch: 43, train loss: 2.877610034942627, val loss: 2.8467403411865235\n"
          ],
          "name": "stdout"
        },
        {
          "output_type": "stream",
          "text": [
            "100%|██████████| 50/50 [00:00<00:00, 58.71it/s]\n",
            " 14%|█▍        | 7/50 [00:00<00:00, 63.52it/s]"
          ],
          "name": "stderr"
        },
        {
          "output_type": "stream",
          "text": [
            "\n",
            "Epoch: 44, train loss: 2.885290951728821, val loss: 2.864399766921997\n"
          ],
          "name": "stdout"
        },
        {
          "output_type": "stream",
          "text": [
            "100%|██████████| 50/50 [00:00<00:00, 59.19it/s]\n",
            " 14%|█▍        | 7/50 [00:00<00:00, 63.11it/s]"
          ],
          "name": "stderr"
        },
        {
          "output_type": "stream",
          "text": [
            "\n",
            "Epoch: 45, train loss: 2.8820470142364503, val loss: 2.869251251220703\n"
          ],
          "name": "stdout"
        },
        {
          "output_type": "stream",
          "text": [
            "100%|██████████| 50/50 [00:00<00:00, 59.00it/s]\n",
            " 12%|█▏        | 6/50 [00:00<00:00, 56.40it/s]"
          ],
          "name": "stderr"
        },
        {
          "output_type": "stream",
          "text": [
            "\n",
            "Epoch: 46, train loss: 2.836023278236389, val loss: 2.938642692565918\n"
          ],
          "name": "stdout"
        },
        {
          "output_type": "stream",
          "text": [
            "100%|██████████| 50/50 [00:00<00:00, 58.37it/s]\n",
            " 12%|█▏        | 6/50 [00:00<00:00, 57.55it/s]"
          ],
          "name": "stderr"
        },
        {
          "output_type": "stream",
          "text": [
            "\n",
            "Epoch: 47, train loss: 2.9118356132507324, val loss: 2.943701219558716\n"
          ],
          "name": "stdout"
        },
        {
          "output_type": "stream",
          "text": [
            "100%|██████████| 50/50 [00:00<00:00, 58.52it/s]\n",
            " 12%|█▏        | 6/50 [00:00<00:00, 57.48it/s]"
          ],
          "name": "stderr"
        },
        {
          "output_type": "stream",
          "text": [
            "\n",
            "Epoch: 48, train loss: 2.845210618972778, val loss: 2.9802079677581785\n"
          ],
          "name": "stdout"
        },
        {
          "output_type": "stream",
          "text": [
            "100%|██████████| 50/50 [00:00<00:00, 59.08it/s]\n",
            " 12%|█▏        | 6/50 [00:00<00:00, 59.30it/s]"
          ],
          "name": "stderr"
        },
        {
          "output_type": "stream",
          "text": [
            "\n",
            "Epoch: 49, train loss: 2.86021755695343, val loss: 2.859607982635498\n"
          ],
          "name": "stdout"
        },
        {
          "output_type": "stream",
          "text": [
            "100%|██████████| 50/50 [00:00<00:00, 57.05it/s]\n",
            " 14%|█▍        | 7/50 [00:00<00:00, 68.83it/s]"
          ],
          "name": "stderr"
        },
        {
          "output_type": "stream",
          "text": [
            "\n",
            "Epoch: 50, train loss: 2.8430081605911255, val loss: 2.9303532600402833\n"
          ],
          "name": "stdout"
        },
        {
          "output_type": "stream",
          "text": [
            "100%|██████████| 50/50 [00:00<00:00, 60.15it/s]\n",
            " 12%|█▏        | 6/50 [00:00<00:00, 59.72it/s]"
          ],
          "name": "stderr"
        },
        {
          "output_type": "stream",
          "text": [
            "\n",
            "Epoch: 51, train loss: 2.826710319519043, val loss: 2.8938475131988524\n"
          ],
          "name": "stdout"
        },
        {
          "output_type": "stream",
          "text": [
            "100%|██████████| 50/50 [00:00<00:00, 57.36it/s]\n",
            " 14%|█▍        | 7/50 [00:00<00:00, 60.29it/s]"
          ],
          "name": "stderr"
        },
        {
          "output_type": "stream",
          "text": [
            "\n",
            "Epoch: 52, train loss: 2.824049463272095, val loss: 2.8416458129882813\n"
          ],
          "name": "stdout"
        },
        {
          "output_type": "stream",
          "text": [
            "100%|██████████| 50/50 [00:00<00:00, 57.43it/s]\n",
            " 12%|█▏        | 6/50 [00:00<00:00, 53.18it/s]"
          ],
          "name": "stderr"
        },
        {
          "output_type": "stream",
          "text": [
            "\n",
            "Epoch: 53, train loss: 2.832210922241211, val loss: 2.766259288787842\n"
          ],
          "name": "stdout"
        },
        {
          "output_type": "stream",
          "text": [
            "100%|██████████| 50/50 [00:00<00:00, 54.59it/s]\n",
            " 14%|█▍        | 7/50 [00:00<00:00, 63.83it/s]"
          ],
          "name": "stderr"
        },
        {
          "output_type": "stream",
          "text": [
            "\n",
            "Epoch: 54, train loss: 2.7692042779922486, val loss: 2.798154592514038\n"
          ],
          "name": "stdout"
        },
        {
          "output_type": "stream",
          "text": [
            "100%|██████████| 50/50 [00:00<00:00, 58.77it/s]\n",
            " 14%|█▍        | 7/50 [00:00<00:00, 58.81it/s]"
          ],
          "name": "stderr"
        },
        {
          "output_type": "stream",
          "text": [
            "\n",
            "Epoch: 55, train loss: 2.7724096727371217, val loss: 2.8263579845428466\n"
          ],
          "name": "stdout"
        },
        {
          "output_type": "stream",
          "text": [
            "100%|██████████| 50/50 [00:00<00:00, 58.21it/s]\n",
            " 14%|█▍        | 7/50 [00:00<00:00, 64.82it/s]"
          ],
          "name": "stderr"
        },
        {
          "output_type": "stream",
          "text": [
            "\n",
            "Epoch: 56, train loss: 2.786844348907471, val loss: 2.9338353157043455\n"
          ],
          "name": "stdout"
        },
        {
          "output_type": "stream",
          "text": [
            "100%|██████████| 50/50 [00:00<00:00, 58.42it/s]\n",
            " 12%|█▏        | 6/50 [00:00<00:00, 54.04it/s]"
          ],
          "name": "stderr"
        },
        {
          "output_type": "stream",
          "text": [
            "\n",
            "Epoch: 57, train loss: 2.772757019996643, val loss: 2.7734110355377197\n"
          ],
          "name": "stdout"
        },
        {
          "output_type": "stream",
          "text": [
            "100%|██████████| 50/50 [00:00<00:00, 56.96it/s]\n",
            " 12%|█▏        | 6/50 [00:00<00:00, 59.72it/s]"
          ],
          "name": "stderr"
        },
        {
          "output_type": "stream",
          "text": [
            "\n",
            "Epoch: 58, train loss: 2.773189215660095, val loss: 2.721533727645874\n"
          ],
          "name": "stdout"
        },
        {
          "output_type": "stream",
          "text": [
            "100%|██████████| 50/50 [00:00<00:00, 58.18it/s]\n",
            " 12%|█▏        | 6/50 [00:00<00:00, 54.17it/s]"
          ],
          "name": "stderr"
        },
        {
          "output_type": "stream",
          "text": [
            "\n",
            "Epoch: 59, train loss: 2.7553471088409425, val loss: 2.7523065567016602\n"
          ],
          "name": "stdout"
        },
        {
          "output_type": "stream",
          "text": [
            "100%|██████████| 50/50 [00:00<00:00, 54.83it/s]\n",
            " 14%|█▍        | 7/50 [00:00<00:00, 64.64it/s]"
          ],
          "name": "stderr"
        },
        {
          "output_type": "stream",
          "text": [
            "\n",
            "Epoch: 60, train loss: 2.726262331008911, val loss: 2.8438388824462892\n"
          ],
          "name": "stdout"
        },
        {
          "output_type": "stream",
          "text": [
            "100%|██████████| 50/50 [00:00<00:00, 57.44it/s]\n",
            " 14%|█▍        | 7/50 [00:00<00:00, 63.44it/s]"
          ],
          "name": "stderr"
        },
        {
          "output_type": "stream",
          "text": [
            "\n",
            "Epoch: 61, train loss: 2.7721557664871215, val loss: 2.910555934906006\n"
          ],
          "name": "stdout"
        },
        {
          "output_type": "stream",
          "text": [
            "100%|██████████| 50/50 [00:00<00:00, 56.75it/s]\n",
            " 14%|█▍        | 7/50 [00:00<00:00, 62.65it/s]"
          ],
          "name": "stderr"
        },
        {
          "output_type": "stream",
          "text": [
            "\n",
            "Epoch: 62, train loss: 2.7372302341461183, val loss: 2.8143433570861816\n"
          ],
          "name": "stdout"
        },
        {
          "output_type": "stream",
          "text": [
            "100%|██████████| 50/50 [00:00<00:00, 59.20it/s]\n",
            " 12%|█▏        | 6/50 [00:00<00:00, 57.41it/s]"
          ],
          "name": "stderr"
        },
        {
          "output_type": "stream",
          "text": [
            "\n",
            "Epoch: 63, train loss: 2.7468936824798584, val loss: 2.7366384983062746\n"
          ],
          "name": "stdout"
        },
        {
          "output_type": "stream",
          "text": [
            "100%|██████████| 50/50 [00:00<00:00, 58.07it/s]\n",
            " 12%|█▏        | 6/50 [00:00<00:00, 53.72it/s]"
          ],
          "name": "stderr"
        },
        {
          "output_type": "stream",
          "text": [
            "\n",
            "Epoch: 64, train loss: 2.748236126899719, val loss: 2.722869300842285\n"
          ],
          "name": "stdout"
        },
        {
          "output_type": "stream",
          "text": [
            "100%|██████████| 50/50 [00:00<00:00, 57.57it/s]\n",
            " 14%|█▍        | 7/50 [00:00<00:00, 65.33it/s]"
          ],
          "name": "stderr"
        },
        {
          "output_type": "stream",
          "text": [
            "\n",
            "Epoch: 65, train loss: 2.741262788772583, val loss: 2.8061008930206297\n"
          ],
          "name": "stdout"
        },
        {
          "output_type": "stream",
          "text": [
            "100%|██████████| 50/50 [00:00<00:00, 57.98it/s]\n",
            " 14%|█▍        | 7/50 [00:00<00:00, 62.77it/s]"
          ],
          "name": "stderr"
        },
        {
          "output_type": "stream",
          "text": [
            "\n",
            "Epoch: 66, train loss: 2.7691523170471193, val loss: 2.8090247631073\n"
          ],
          "name": "stdout"
        },
        {
          "output_type": "stream",
          "text": [
            "100%|██████████| 50/50 [00:00<00:00, 61.31it/s]\n",
            " 14%|█▍        | 7/50 [00:00<00:00, 60.40it/s]"
          ],
          "name": "stderr"
        },
        {
          "output_type": "stream",
          "text": [
            "\n",
            "Epoch: 67, train loss: 2.7224222660064696, val loss: 2.7257854461669924\n"
          ],
          "name": "stdout"
        },
        {
          "output_type": "stream",
          "text": [
            "100%|██████████| 50/50 [00:00<00:00, 55.48it/s]\n",
            " 12%|█▏        | 6/50 [00:00<00:00, 58.29it/s]"
          ],
          "name": "stderr"
        },
        {
          "output_type": "stream",
          "text": [
            "\n",
            "Epoch: 68, train loss: 2.731003384590149, val loss: 2.76334171295166\n"
          ],
          "name": "stdout"
        },
        {
          "output_type": "stream",
          "text": [
            "100%|██████████| 50/50 [00:00<00:00, 58.69it/s]\n",
            " 12%|█▏        | 6/50 [00:00<00:00, 56.88it/s]"
          ],
          "name": "stderr"
        },
        {
          "output_type": "stream",
          "text": [
            "\n",
            "Epoch: 69, train loss: 2.6820866870880127, val loss: 2.7358579635620117\n"
          ],
          "name": "stdout"
        },
        {
          "output_type": "stream",
          "text": [
            "100%|██████████| 50/50 [00:00<00:00, 59.34it/s]\n",
            " 14%|█▍        | 7/50 [00:00<00:00, 68.10it/s]"
          ],
          "name": "stderr"
        },
        {
          "output_type": "stream",
          "text": [
            "\n",
            "Epoch: 70, train loss: 2.7378430938720704, val loss: 2.7880836486816407\n"
          ],
          "name": "stdout"
        },
        {
          "output_type": "stream",
          "text": [
            "100%|██████████| 50/50 [00:00<00:00, 61.65it/s]\n",
            " 12%|█▏        | 6/50 [00:00<00:00, 59.99it/s]"
          ],
          "name": "stderr"
        },
        {
          "output_type": "stream",
          "text": [
            "\n",
            "Epoch: 71, train loss: 2.7298378944396973, val loss: 2.7198384284973143\n"
          ],
          "name": "stdout"
        },
        {
          "output_type": "stream",
          "text": [
            "100%|██████████| 50/50 [00:00<00:00, 59.05it/s]\n",
            " 14%|█▍        | 7/50 [00:00<00:00, 66.83it/s]"
          ],
          "name": "stderr"
        },
        {
          "output_type": "stream",
          "text": [
            "\n",
            "Epoch: 72, train loss: 2.742900166511536, val loss: 2.7945829391479493\n"
          ],
          "name": "stdout"
        },
        {
          "output_type": "stream",
          "text": [
            "100%|██████████| 50/50 [00:00<00:00, 60.56it/s]\n",
            " 14%|█▍        | 7/50 [00:00<00:00, 63.72it/s]"
          ],
          "name": "stderr"
        },
        {
          "output_type": "stream",
          "text": [
            "\n",
            "Epoch: 73, train loss: 2.702536826133728, val loss: 2.7600593090057375\n"
          ],
          "name": "stdout"
        },
        {
          "output_type": "stream",
          "text": [
            "100%|██████████| 50/50 [00:00<00:00, 57.63it/s]\n",
            " 10%|█         | 5/50 [00:00<00:01, 43.99it/s]"
          ],
          "name": "stderr"
        },
        {
          "output_type": "stream",
          "text": [
            "\n",
            "Epoch: 74, train loss: 2.678673572540283, val loss: 2.680433511734009\n"
          ],
          "name": "stdout"
        },
        {
          "output_type": "stream",
          "text": [
            "100%|██████████| 50/50 [00:00<00:00, 54.52it/s]\n",
            " 14%|█▍        | 7/50 [00:00<00:00, 62.52it/s]"
          ],
          "name": "stderr"
        },
        {
          "output_type": "stream",
          "text": [
            "\n",
            "Epoch: 75, train loss: 2.7224286651611327, val loss: 2.6926230907440187\n"
          ],
          "name": "stdout"
        },
        {
          "output_type": "stream",
          "text": [
            "100%|██████████| 50/50 [00:00<00:00, 57.59it/s]\n",
            " 12%|█▏        | 6/50 [00:00<00:00, 52.75it/s]"
          ],
          "name": "stderr"
        },
        {
          "output_type": "stream",
          "text": [
            "\n",
            "Epoch: 76, train loss: 2.6835114908218385, val loss: 2.7606881618499757\n"
          ],
          "name": "stdout"
        },
        {
          "output_type": "stream",
          "text": [
            "100%|██████████| 50/50 [00:00<00:00, 59.33it/s]\n",
            " 14%|█▍        | 7/50 [00:00<00:00, 68.06it/s]"
          ],
          "name": "stderr"
        },
        {
          "output_type": "stream",
          "text": [
            "\n",
            "Epoch: 77, train loss: 2.6649098873138426, val loss: 2.7646129608154295\n"
          ],
          "name": "stdout"
        },
        {
          "output_type": "stream",
          "text": [
            "100%|██████████| 50/50 [00:00<00:00, 63.69it/s]\n",
            " 14%|█▍        | 7/50 [00:00<00:00, 59.90it/s]"
          ],
          "name": "stderr"
        },
        {
          "output_type": "stream",
          "text": [
            "\n",
            "Epoch: 78, train loss: 2.664575667381287, val loss: 2.701194143295288\n"
          ],
          "name": "stdout"
        },
        {
          "output_type": "stream",
          "text": [
            "100%|██████████| 50/50 [00:00<00:00, 59.71it/s]\n",
            " 14%|█▍        | 7/50 [00:00<00:00, 59.17it/s]"
          ],
          "name": "stderr"
        },
        {
          "output_type": "stream",
          "text": [
            "\n",
            "Epoch: 79, train loss: 2.677039957046509, val loss: 2.6335520267486574\n"
          ],
          "name": "stdout"
        },
        {
          "output_type": "stream",
          "text": [
            "100%|██████████| 50/50 [00:00<00:00, 60.19it/s]\n",
            " 12%|█▏        | 6/50 [00:00<00:00, 58.72it/s]"
          ],
          "name": "stderr"
        },
        {
          "output_type": "stream",
          "text": [
            "\n",
            "Epoch: 80, train loss: 2.6415541648864744, val loss: 2.68341064453125\n"
          ],
          "name": "stdout"
        },
        {
          "output_type": "stream",
          "text": [
            "100%|██████████| 50/50 [00:00<00:00, 59.03it/s]\n",
            " 14%|█▍        | 7/50 [00:00<00:00, 65.27it/s]"
          ],
          "name": "stderr"
        },
        {
          "output_type": "stream",
          "text": [
            "\n",
            "Epoch: 81, train loss: 2.695178813934326, val loss: 2.664746809005737\n"
          ],
          "name": "stdout"
        },
        {
          "output_type": "stream",
          "text": [
            "100%|██████████| 50/50 [00:00<00:00, 59.19it/s]\n",
            " 14%|█▍        | 7/50 [00:00<00:00, 65.99it/s]"
          ],
          "name": "stderr"
        },
        {
          "output_type": "stream",
          "text": [
            "\n",
            "Epoch: 82, train loss: 2.6755973625183107, val loss: 2.742984676361084\n"
          ],
          "name": "stdout"
        },
        {
          "output_type": "stream",
          "text": [
            "100%|██████████| 50/50 [00:00<00:00, 56.58it/s]\n",
            " 14%|█▍        | 7/50 [00:00<00:00, 61.37it/s]"
          ],
          "name": "stderr"
        },
        {
          "output_type": "stream",
          "text": [
            "\n",
            "Epoch: 83, train loss: 2.7033604192733764, val loss: 2.68442702293396\n"
          ],
          "name": "stdout"
        },
        {
          "output_type": "stream",
          "text": [
            "100%|██████████| 50/50 [00:00<00:00, 60.08it/s]\n",
            " 14%|█▍        | 7/50 [00:00<00:00, 62.78it/s]"
          ],
          "name": "stderr"
        },
        {
          "output_type": "stream",
          "text": [
            "\n",
            "Epoch: 84, train loss: 2.69677529335022, val loss: 2.6327466011047362\n"
          ],
          "name": "stdout"
        },
        {
          "output_type": "stream",
          "text": [
            "100%|██████████| 50/50 [00:00<00:00, 54.41it/s]\n",
            " 14%|█▍        | 7/50 [00:00<00:00, 62.45it/s]"
          ],
          "name": "stderr"
        },
        {
          "output_type": "stream",
          "text": [
            "\n",
            "Epoch: 85, train loss: 2.6505534744262693, val loss: 2.744541645050049\n"
          ],
          "name": "stdout"
        },
        {
          "output_type": "stream",
          "text": [
            "100%|██████████| 50/50 [00:00<00:00, 60.55it/s]\n",
            " 10%|█         | 5/50 [00:00<00:01, 44.35it/s]"
          ],
          "name": "stderr"
        },
        {
          "output_type": "stream",
          "text": [
            "\n",
            "Epoch: 86, train loss: 2.7103182172775266, val loss: 2.797638988494873\n"
          ],
          "name": "stdout"
        },
        {
          "output_type": "stream",
          "text": [
            "100%|██████████| 50/50 [00:00<00:00, 58.96it/s]\n",
            " 14%|█▍        | 7/50 [00:00<00:00, 66.15it/s]"
          ],
          "name": "stderr"
        },
        {
          "output_type": "stream",
          "text": [
            "\n",
            "Epoch: 87, train loss: 2.6742315912246704, val loss: 2.553410768508911\n"
          ],
          "name": "stdout"
        },
        {
          "output_type": "stream",
          "text": [
            "100%|██████████| 50/50 [00:00<00:00, 61.73it/s]\n",
            " 12%|█▏        | 6/50 [00:00<00:00, 54.93it/s]"
          ],
          "name": "stderr"
        },
        {
          "output_type": "stream",
          "text": [
            "\n",
            "Epoch: 88, train loss: 2.668338108062744, val loss: 2.6675085544586183\n"
          ],
          "name": "stdout"
        },
        {
          "output_type": "stream",
          "text": [
            "100%|██████████| 50/50 [00:00<00:00, 60.17it/s]\n",
            " 12%|█▏        | 6/50 [00:00<00:00, 58.93it/s]"
          ],
          "name": "stderr"
        },
        {
          "output_type": "stream",
          "text": [
            "\n",
            "Epoch: 89, train loss: 2.623864107131958, val loss: 2.662847375869751\n"
          ],
          "name": "stdout"
        },
        {
          "output_type": "stream",
          "text": [
            "100%|██████████| 50/50 [00:00<00:00, 57.97it/s]\n",
            " 12%|█▏        | 6/50 [00:00<00:00, 58.35it/s]"
          ],
          "name": "stderr"
        },
        {
          "output_type": "stream",
          "text": [
            "\n",
            "Epoch: 90, train loss: 2.651547546386719, val loss: 2.765950059890747\n"
          ],
          "name": "stdout"
        },
        {
          "output_type": "stream",
          "text": [
            "100%|██████████| 50/50 [00:00<00:00, 59.79it/s]\n",
            " 12%|█▏        | 6/50 [00:00<00:00, 58.65it/s]"
          ],
          "name": "stderr"
        },
        {
          "output_type": "stream",
          "text": [
            "\n",
            "Epoch: 91, train loss: 2.6398649072647093, val loss: 2.6858473777770997\n"
          ],
          "name": "stdout"
        },
        {
          "output_type": "stream",
          "text": [
            "100%|██████████| 50/50 [00:00<00:00, 60.59it/s]\n",
            " 12%|█▏        | 6/50 [00:00<00:00, 55.29it/s]"
          ],
          "name": "stderr"
        },
        {
          "output_type": "stream",
          "text": [
            "\n",
            "Epoch: 92, train loss: 2.620117201805115, val loss: 2.6542803764343263\n"
          ],
          "name": "stdout"
        },
        {
          "output_type": "stream",
          "text": [
            "100%|██████████| 50/50 [00:00<00:00, 61.81it/s]\n",
            " 14%|█▍        | 7/50 [00:00<00:00, 65.64it/s]"
          ],
          "name": "stderr"
        },
        {
          "output_type": "stream",
          "text": [
            "\n",
            "Epoch: 93, train loss: 2.6333518266677856, val loss: 2.668147897720337\n"
          ],
          "name": "stdout"
        },
        {
          "output_type": "stream",
          "text": [
            "100%|██████████| 50/50 [00:00<00:00, 61.32it/s]\n",
            " 14%|█▍        | 7/50 [00:00<00:00, 58.34it/s]"
          ],
          "name": "stderr"
        },
        {
          "output_type": "stream",
          "text": [
            "\n",
            "Epoch: 94, train loss: 2.655752172470093, val loss: 2.6909820079803466\n"
          ],
          "name": "stdout"
        },
        {
          "output_type": "stream",
          "text": [
            "100%|██████████| 50/50 [00:00<00:00, 60.41it/s]\n",
            " 14%|█▍        | 7/50 [00:00<00:00, 66.01it/s]"
          ],
          "name": "stderr"
        },
        {
          "output_type": "stream",
          "text": [
            "\n",
            "Epoch: 95, train loss: 2.6401239442825317, val loss: 2.5528276920318604\n"
          ],
          "name": "stdout"
        },
        {
          "output_type": "stream",
          "text": [
            "100%|██████████| 50/50 [00:00<00:00, 62.69it/s]\n",
            " 10%|█         | 5/50 [00:00<00:00, 47.22it/s]"
          ],
          "name": "stderr"
        },
        {
          "output_type": "stream",
          "text": [
            "\n",
            "Epoch: 96, train loss: 2.6467416524887084, val loss: 2.699048089981079\n"
          ],
          "name": "stdout"
        },
        {
          "output_type": "stream",
          "text": [
            "100%|██████████| 50/50 [00:00<00:00, 54.78it/s]\n",
            " 14%|█▍        | 7/50 [00:00<00:00, 69.60it/s]"
          ],
          "name": "stderr"
        },
        {
          "output_type": "stream",
          "text": [
            "\n",
            "Epoch: 97, train loss: 2.671967668533325, val loss: 2.6934738159179688\n"
          ],
          "name": "stdout"
        },
        {
          "output_type": "stream",
          "text": [
            "100%|██████████| 50/50 [00:00<00:00, 59.83it/s]\n",
            " 10%|█         | 5/50 [00:00<00:00, 49.16it/s]"
          ],
          "name": "stderr"
        },
        {
          "output_type": "stream",
          "text": [
            "\n",
            "Epoch: 98, train loss: 2.6041147089004517, val loss: 2.754509925842285\n"
          ],
          "name": "stdout"
        },
        {
          "output_type": "stream",
          "text": [
            "100%|██████████| 50/50 [00:00<00:00, 58.87it/s]"
          ],
          "name": "stderr"
        },
        {
          "output_type": "stream",
          "text": [
            "\n",
            "Epoch: 99, train loss: 2.652521643638611, val loss: 2.6274632453918456\n",
            "Finished!\n"
          ],
          "name": "stdout"
        },
        {
          "output_type": "stream",
          "text": [
            "\n"
          ],
          "name": "stderr"
        }
      ]
    },
    {
      "cell_type": "markdown",
      "metadata": {
        "id": "E9ETeJhZfhfd",
        "colab_type": "text"
      },
      "source": [
        "### Apply trained model\n",
        "\n",
        "Let's unpack our pre-trained inception network and see what our model is capable of."
      ]
    },
    {
      "cell_type": "code",
      "metadata": {
        "id": "QcxHwJHTfhfe",
        "colab_type": "code",
        "colab": {}
      },
      "source": [
        "from beheaded_inception3 import beheaded_inception_v3\n",
        "inception = beheaded_inception_v3().train(False)"
      ],
      "execution_count": 0,
      "outputs": []
    },
    {
      "cell_type": "markdown",
      "metadata": {
        "id": "OuUpmUOifhff",
        "colab_type": "text"
      },
      "source": [
        "### Generate caption\n",
        "\n",
        "The function below creates captions by sampling from probabilities defined by the net.\n",
        "\n",
        "The implementation used here is simple but inefficient (quadratic in lstm steps). We keep it that way since it isn't a performance bottleneck."
      ]
    },
    {
      "cell_type": "code",
      "metadata": {
        "id": "3W9AlKfAfhfg",
        "colab_type": "code",
        "colab": {}
      },
      "source": [
        "def generate_caption(image, caption_prefix=(\"#START#\",), \n",
        "                     t=1, sample=True, max_len=100):\n",
        "    assert isinstance(image, np.ndarray) and np.max(image) <= 1\\\n",
        "           and np.min(image) >=0 and image.shape[-1] == 3\n",
        "    \n",
        "    with torch.no_grad():\n",
        "        image = torch.tensor(image.transpose([2, 0, 1]), dtype=torch.float32)\n",
        "\n",
        "        vectors_8x8, vectors_neck, logits = inception(image[None])\n",
        "        caption_prefix = list(caption_prefix)\n",
        "\n",
        "        for _ in range(max_len):\n",
        "\n",
        "            prefix_ix = as_matrix([caption_prefix])\n",
        "            prefix_ix = torch.tensor(prefix_ix, dtype=torch.int64).cuda()\n",
        "            next_word_logits = network.forward(vectors_neck.cuda(), prefix_ix)[0, -1]\n",
        "            next_word_probs = F.softmax(next_word_logits, dim=-1).cpu().data.numpy()\n",
        "\n",
        "            assert len(next_word_probs.shape) ==1, 'probs must be one-dimensional'\n",
        "            next_word_probs = next_word_probs ** t / np.sum(next_word_probs ** t) # apply temperature\n",
        "\n",
        "            if sample:\n",
        "                next_word = np.random.choice(vocab, p=next_word_probs) \n",
        "            else:\n",
        "                next_word = vocab[np.argmax(next_word_probs)]\n",
        "\n",
        "            caption_prefix.append(next_word)\n",
        "\n",
        "            if next_word == \"#END#\":\n",
        "                break\n",
        "            \n",
        "    return caption_prefix"
      ],
      "execution_count": 0,
      "outputs": []
    },
    {
      "cell_type": "code",
      "metadata": {
        "id": "DXSqFUrefhfh",
        "colab_type": "code",
        "colab": {
          "base_uri": "https://localhost:8080/",
          "height": 272
        },
        "outputId": "b7d308ec-6b72-400c-e6c6-8b98c77066ea"
      },
      "source": [
        "from matplotlib import pyplot as plt\n",
        "from scipy.misc import imresize\n",
        "%matplotlib inline\n",
        "\n",
        "#sample image\n",
        "!wget https://pixel.nymag.com/imgs/daily/selectall/2018/02/12/12-tony-hawk.w710.h473.jpg -O data/img.jpg\n",
        "img = plt.imread('data/img.jpg')\n",
        "img = imresize(img, (299, 299)).astype('float32') / 255."
      ],
      "execution_count": 94,
      "outputs": [
        {
          "output_type": "stream",
          "text": [
            "--2019-05-15 13:15:58--  https://pixel.nymag.com/imgs/daily/selectall/2018/02/12/12-tony-hawk.w710.h473.jpg\n",
            "Resolving pixel.nymag.com (pixel.nymag.com)... 151.101.36.70\n",
            "Connecting to pixel.nymag.com (pixel.nymag.com)|151.101.36.70|:443... connected.\n",
            "HTTP request sent, awaiting response... 200 OK\n",
            "Length: 107928 (105K) [image/jpeg]\n",
            "Saving to: ‘data/img.jpg’\n",
            "\n",
            "\rdata/img.jpg          0%[                    ]       0  --.-KB/s               \rdata/img.jpg        100%[===================>] 105.40K  --.-KB/s    in 0.01s   \n",
            "\n",
            "2019-05-15 13:15:58 (9.15 MB/s) - ‘data/img.jpg’ saved [107928/107928]\n",
            "\n"
          ],
          "name": "stdout"
        },
        {
          "output_type": "stream",
          "text": [
            "/usr/local/lib/python3.6/dist-packages/ipykernel_launcher.py:8: DeprecationWarning: `imresize` is deprecated!\n",
            "`imresize` is deprecated in SciPy 1.0.0, and will be removed in 1.3.0.\n",
            "Use Pillow instead: ``numpy.array(Image.fromarray(arr).resize())``.\n",
            "  \n"
          ],
          "name": "stderr"
        }
      ]
    },
    {
      "cell_type": "code",
      "metadata": {
        "id": "VzBzv7Dbfhfk",
        "colab_type": "code",
        "colab": {
          "base_uri": "https://localhost:8080/",
          "height": 286
        },
        "outputId": "174d17c2-7c88-4efb-8361-711302582935"
      },
      "source": [
        "plt.imshow(img)"
      ],
      "execution_count": 95,
      "outputs": [
        {
          "output_type": "execute_result",
          "data": {
            "text/plain": [
              "<matplotlib.image.AxesImage at 0x7fe3607fe1d0>"
            ]
          },
          "metadata": {
            "tags": []
          },
          "execution_count": 95
        },
        {
          "output_type": "display_data",
          "data": {
            "image/png": "[encoded data removed]",
            "text/plain": [
              "<Figure size 432x288 with 1 Axes>"
            ]
          },
          "metadata": {
            "tags": []
          }
        }
      ]
    },
    {
      "cell_type": "code",
      "metadata": {
        "id": "tdO1d4XBfhfm",
        "colab_type": "code",
        "colab": {
          "base_uri": "https://localhost:8080/",
          "height": 187
        },
        "outputId": "7286caa7-c55c-4b62-bdf8-347a920cb58e"
      },
      "source": [
        "for i in range(10):\n",
        "    print(' '.join(generate_caption(img, t=5.)[1:-1]))"
      ],
      "execution_count": 96,
      "outputs": [
        {
          "output_type": "stream",
          "text": [
            "a man riding a skateboard on a ramp .\n",
            "a man riding a skateboard down a ramp .\n",
            "a man riding a skateboard on a ramp .\n",
            "a man riding a skateboard in the air .\n",
            "a man riding a skateboard on a ramp .\n",
            "a man riding a skateboard on a ramp .\n",
            "a man riding a skateboard on a ramp .\n",
            "a man riding a skateboard on a ramp .\n",
            "a man riding a skateboard on a ramp .\n",
            "a man riding a skateboard on a ramp .\n"
          ],
          "name": "stdout"
        }
      ]
    },
    {
      "cell_type": "code",
      "metadata": {
        "id": "NVjt5aI6fhfp",
        "colab_type": "code",
        "colab": {
          "base_uri": "https://localhost:8080/",
          "height": 694
        },
        "outputId": "d44f6543-b083-42f1-ed5a-b14938b10d66"
      },
      "source": [
        "!wget http://ccanimalclinic.com/wp-content/uploads/2017/07/Cat-and-dog-1.jpg -O data/img.jpg\n",
        "img = plt.imread('data/img.jpg')\n",
        "img = imresize(img, (299, 299)).astype('float32') / 255.\n",
        "\n",
        "plt.imshow(img)\n",
        "plt.show()\n",
        "\n",
        "for i in range(10):\n",
        "    print(' '.join(generate_caption(img, t=5.)[1:-1]))"
      ],
      "execution_count": 97,
      "outputs": [
        {
          "output_type": "stream",
          "text": [
            "--2019-05-15 13:16:08--  http://ccanimalclinic.com/wp-content/uploads/2017/07/Cat-and-dog-1.jpg\n",
            "Resolving ccanimalclinic.com (ccanimalclinic.com)... 23.185.0.2, 2620:12a:8001::2, 2620:12a:8000::2\n",
            "Connecting to ccanimalclinic.com (ccanimalclinic.com)|23.185.0.2|:80... connected.\n",
            "HTTP request sent, awaiting response... 200 OK\n",
            "Length: 106870 (104K) [image/jpeg]\n",
            "Saving to: ‘data/img.jpg’\n",
            "\n",
            "\rdata/img.jpg          0%[                    ]       0  --.-KB/s               \rdata/img.jpg        100%[===================>] 104.37K  --.-KB/s    in 0.02s   \n",
            "\n",
            "2019-05-15 13:16:08 (6.22 MB/s) - ‘data/img.jpg’ saved [106870/106870]\n",
            "\n"
          ],
          "name": "stdout"
        },
        {
          "output_type": "stream",
          "text": [
            "/usr/local/lib/python3.6/dist-packages/ipykernel_launcher.py:3: DeprecationWarning: `imresize` is deprecated!\n",
            "`imresize` is deprecated in SciPy 1.0.0, and will be removed in 1.3.0.\n",
            "Use Pillow instead: ``numpy.array(Image.fromarray(arr).resize())``.\n",
            "  This is separate from the ipykernel package so we can avoid doing imports until\n"
          ],
          "name": "stderr"
        },
        {
          "output_type": "display_data",
          "data": {
            "image/png": "[encoded data removed]",
            "text/plain": [
              "<Figure size 432x288 with 1 Axes>"
            ]
          },
          "metadata": {
            "tags": []
          }
        },
        {
          "output_type": "stream",
          "text": [
            "a cat is laying on a bed with a cat .\n",
            "a cat that is sitting on a couch .\n",
            "a cat that is sitting on a bed .\n",
            "a cat is laying on a bed with a cat .\n",
            "a cat is laying on a bed with a dog .\n",
            "a cat that is sitting on a bed .\n",
            "a cat is laying on a bed with a dog .\n",
            "a cat is sitting on a couch with a remote control .\n",
            "a cat is laying on a bed with a cat .\n",
            "a cat is sitting on a chair in a room .\n"
          ],
          "name": "stdout"
        }
      ]
    },
    {
      "cell_type": "markdown",
      "metadata": {
        "id": "HcMjGnFkfhfq",
        "colab_type": "text"
      },
      "source": [
        "# Demo\n",
        "### Find at least 10 images to test it on.\n",
        "\n",
        "* Seriously, that's a part of the assignment. Go get at least 10 pictures for captioning\n",
        "* Make sure it works okay on __simple__ images before going to something more complex\n",
        "* Your pictures must feature both successful and failed captioning. Get creative :)\n",
        "* Use photos, not animation/3d/drawings, unless you want to re-train CNN network on anime\n",
        "* Mind the aspect ratio."
      ]
    },
    {
      "cell_type": "code",
      "metadata": {
        "id": "4amxABwefhfr",
        "colab_type": "code",
        "colab": {}
      },
      "source": [
        "# apply your network on images you've found\n",
        "#\n",
        "#"
      ],
      "execution_count": 0,
      "outputs": []
    },
    {
      "cell_type": "code",
      "metadata": {
        "id": "LJQbcM0ofhfs",
        "colab_type": "code",
        "colab": {}
      },
      "source": [
        ""
      ],
      "execution_count": 0,
      "outputs": []
    },
    {
      "cell_type": "markdown",
      "metadata": {
        "id": "mc3WtwTtfhfu",
        "colab_type": "text"
      },
      "source": [
        "Good hunting!\n",
        "![img](https://cs7.pikabu.ru/images/big_size_comm_an/2018-09_3/1536865148163644198.gif)"
      ]
    }
  ]
}