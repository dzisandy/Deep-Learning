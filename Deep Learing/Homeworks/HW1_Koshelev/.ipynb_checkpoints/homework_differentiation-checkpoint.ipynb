{
 "cells": [
  {
   "cell_type": "markdown",
   "metadata": {},
   "source": [
    "# Homework 1: Differentiation"
   ]
  },
  {
   "cell_type": "markdown",
   "metadata": {},
   "source": [
    "Since it easy to google every task please please please try to undestand what's going on. The \"just answer\" thing will be not counted, make sure to present derivation of your solution. It is absolutely OK if you found an answer on web then just exercise in $\\LaTeX$ copying it into here."
   ]
  },
  {
   "cell_type": "markdown",
   "metadata": {},
   "source": [
    "Useful links: \n",
    "[1](http://www.machinelearning.ru/wiki/images/2/2a/Matrix-Gauss.pdf)\n",
    "[2](http://www.atmos.washington.edu/~dennis/MatrixCalculus.pdf)\n",
    "[3](http://cal.cs.illinois.edu/~johannes/research/matrix%20calculus.pdf)\n",
    "[4](http://research.microsoft.com/en-us/um/people/cmbishop/prml/index.htm)"
   ]
  },
  {
   "cell_type": "markdown",
   "metadata": {},
   "source": [
    "## ex. 1"
   ]
  },
  {
   "cell_type": "markdown",
   "metadata": {},
   "source": [
    "$$  \n",
    "y = x^Tx,  \\quad x \\in \\mathbb{R}^N \n",
    "$$"
   ]
  },
  {
   "cell_type": "markdown",
   "metadata": {},
   "source": [
    "$$\n",
    "\\frac{dy}{dx} = \n",
    "$$ "
   ]
  },
  {
   "cell_type": "markdown",
   "metadata": {
    "collapsed": true
   },
   "source": [
    "#### Solution:\n",
    "P.S. Here Einstein notation is used\n",
    "$$\n",
    "y = x^Tx = x^i x_i = \\sum_{i=1}^N x_i^2,\n",
    "$$\n",
    "so\n",
    "$$\n",
    "\\frac{\\partial y}{\\partial x_k} = \\frac{\\partial}{\\partial x_k} \\sum_{i=1}^N x_i^2 = \\sum_{i=1}^N \\frac{\\partial}{\\partial x_k} x_i^2 = 2x_k,\n",
    "$$\n",
    "which means that\n",
    "$$\n",
    "\\frac{dy}{dx} = \\frac{d(x^T x)}{dx} = 2x.\n",
    "$$\n",
    "#### Answer:\n",
    "$2x$"
   ]
  },
  {
   "cell_type": "markdown",
   "metadata": {},
   "source": [
    "## ex. 2"
   ]
  },
  {
   "cell_type": "markdown",
   "metadata": {},
   "source": [
    "$$ y = tr(AB) \\quad A,B \\in \\mathbb{R}^{N \\times N} $$ "
   ]
  },
  {
   "cell_type": "markdown",
   "metadata": {},
   "source": [
    "$$\n",
    "\\frac{dy}{dA} =\n",
    "$$"
   ]
  },
  {
   "cell_type": "markdown",
   "metadata": {
    "collapsed": true
   },
   "source": [
    "#### Solution:\n",
    "P.S. Here Einstein notation is used elsewhere except the cases where the $\\sum$ is printed explicitly\n",
    "$$\n",
    "(AB)_{nm} = A_{ni}B^{im},\n",
    "$$\n",
    "so \n",
    "$$\n",
    "(AB)_{ii} = \\sum_{j=1}^N A_{ij}B_{ji}.\n",
    "$$\n",
    "\n",
    "That means\n",
    "$$\n",
    "y = tr(AB) = \\sum_{i=1}^N (AB)_{ii} = A_{ij}B^{ji}.\n",
    "$$\n",
    "Take partial derivative:\n",
    "$$\n",
    "\\frac{\\partial y}{\\partial A_{mn}} = \\frac{\\partial}{\\partial A_{mn}} A_{ij}B^{ji} = \\delta_{im}\\delta_{jn}B^{ji} = B^{nm} = (B^T)_{mn},\n",
    "$$\n",
    "which means that\n",
    "$$\n",
    "\\frac{dy}{dA} = \\frac{d tr(AB)}{dA} = B^T.\n",
    "$$\n",
    "#### Answer:\n",
    "$B^T$"
   ]
  },
  {
   "cell_type": "markdown",
   "metadata": {},
   "source": [
    "## ex. 3"
   ]
  },
  {
   "cell_type": "markdown",
   "metadata": {},
   "source": [
    "$$  \n",
    "y = x^TAc , \\quad A\\in \\mathbb{R}^{N \\times N}, x\\in \\mathbb{R}^{N}, c\\in \\mathbb{R}^{N} \n",
    "$$"
   ]
  },
  {
   "cell_type": "markdown",
   "metadata": {},
   "source": [
    "$$\n",
    "\\frac{dy}{dx} =\n",
    "$$"
   ]
  },
  {
   "cell_type": "markdown",
   "metadata": {},
   "source": [
    "$$\n",
    "\\frac{dy}{dA} =\n",
    "$$ "
   ]
  },
  {
   "cell_type": "markdown",
   "metadata": {},
   "source": [
    "Hint for the latter (one of the ways): use *ex. 2* result and the fact \n",
    "$$\n",
    "tr(ABC) = tr (CAB)\n",
    "$$"
   ]
  },
  {
   "cell_type": "markdown",
   "metadata": {
    "collapsed": true
   },
   "source": [
    "#### Solution:\n",
    "P.S. Here Einstein notation is used elsewhere\n",
    "$$\n",
    "y = x^TAc = (x^T)^n(Ac)_n = x^n(A_{nj}c^j) = x^nA_{nj}c^j = A_{nj}x^nc^j,\n",
    "$$\n",
    "1)\n",
    "Take partial derivative:\n",
    "$$\n",
    "\\frac{\\partial y}{\\partial x_k} = \\frac{\\partial}{\\partial x_k} A_{nj}x^nc^j = A_{nj}\\delta^{nk}c^j = A_{kj}c^j.\n",
    "$$\n",
    "It is clear that such partial derivative $A_{kj}c^j$ is a k-th row of Ac, so taking into account derivatives over all $x_k$, i.e. all rows of $Ac$, we get the exact $Ac$:\n",
    "$$\n",
    "\\frac{dy}{dx} = \\frac{d x^TAc}{dx} = Ac.\n",
    "$$\n",
    "2)\n",
    "Take partial derivative:\n",
    "$$\n",
    "\\frac{\\partial y}{\\partial A_{km}} = \\frac{\\partial}{\\partial A_{km}} A_{nj}x^nc^j = \\delta_{kn}\\delta_{mj}x^nc^j = x^kc^m.\n",
    "$$\n",
    "So\n",
    "$$\n",
    "\\left(\\frac{dy}{dA}\\right)_{km} = x_kc_m.\n",
    "$$\n",
    "#### Answer:\n",
    "1) $\\frac{dy}{dx} = Ac$;\n",
    "\n",
    "2) $\\left(\\frac{dy}{dA}\\right)_{km} = x_kc_m$."
   ]
  },
  {
   "cell_type": "markdown",
   "metadata": {},
   "source": [
    "## ex. 4"
   ]
  },
  {
   "cell_type": "markdown",
   "metadata": {},
   "source": [
    "Classic matrix factorization example. Given matrix $X$ you need to find $A$, $S$ to approximate $X$. This can be done by simple gradient descent iteratively alternating $A$ and $S$ updates.\n",
    "$$\n",
    "J = || X - AS ||_F^2  , \\quad A\\in \\mathbb{R}^{N \\times R} , \\quad S\\in \\mathbb{R}^{R \\times M}\n",
    "$$\n",
    "$$\n",
    "\\frac{dJ}{dS} = ? \n",
    "$$ "
   ]
  },
  {
   "cell_type": "markdown",
   "metadata": {},
   "source": [
    "### First approach\n",
    "Using ex.2 and the fact:\n",
    "$$\n",
    "|| X ||_F^2 = tr(XX^T) \n",
    "$$ \n",
    "it is easy to derive gradients (you can find it in one of the refs). "
   ]
  },
  {
   "cell_type": "markdown",
   "metadata": {},
   "source": [
    "#### Solution:\n",
    "P.S. Here Einstein notation is used elsewhere\n",
    "$$\n",
    "J = tr((X-AS)(X-AS)^T) = tr((X-AS)(X^T-S^TA^T)) = tr(XX^T - XS^T A^T - ASX^T + ASS^TA^T) = [tr(x) = tr(x^T), tr(ABC) = tr(BCA) = tr(CAB)] = tr(XX^T) - 2tr(SX^TA) + tr(SS^TA^TA).\n",
    "$$\n",
    "Using result of ex.2 and ex1 take the derivative:\n",
    "$$\n",
    "\\frac{dJ}{dS} = -2A^TX + A^TA\\frac{dSS^T}{dS} = -2A^TX + 2A^TAS = -2A^T(X - AS).\n",
    "$$\n",
    "#### Answer:\n",
    "$\\frac{dJ}{dS} = -2A^T(X - AS)$."
   ]
  },
  {
   "cell_type": "markdown",
   "metadata": {
    "collapsed": true
   },
   "source": [
    "### Second approach\n",
    "You can use *slightly different techniques* if they suits you. Take a look at this derivation:\n",
    "<img src=\"grad.png\">\n",
    "(excerpt from [Handbook of blind source separation, Jutten, page 517](https://books.google.ru/books?id=PTbj03bYH6kC&printsec=frontcover&dq=Handbook+of+Blind+Source+Separation&hl=en&sa=X&ved=0ahUKEwi-q_apiJDLAhULvXIKHVXJDWcQ6AEIHDAA#v=onepage&q=Handbook%20of%20Blind%20Source%20Separation&f=false), open for better picture)."
   ]
  },
  {
   "cell_type": "markdown",
   "metadata": {},
   "source": [
    "#### Solution:\n",
    "Our problem differs from the problem mentioned above by a factor of 2 (in mentioned above there is $\\frac{1}{2}$, in our problem there is not). So, from mentioned above:\n",
    "$$\n",
    "\\frac{\\partial J}{\\partial S_{nt}} = -2\\left((A^TX)_{nt} - (A^TAS)_{nt}\\right).\n",
    "$$\n",
    "Using this for all components from S, we derive that\n",
    "$$\n",
    "\\frac{dJ}{dS} = -2(A^TX - A^TAS) = -2A^T(X - AS).\n",
    "$$\n",
    "#### Answer:\n",
    "$\\frac{dJ}{dS} = -2A^T(X - AS)$."
   ]
  },
  {
   "cell_type": "markdown",
   "metadata": {
    "collapsed": true
   },
   "source": [
    "### Third approach\n",
    "And finally we can use chain rule! **YOUR TURN** to do it.\n",
    "let $ F = AS $ \n",
    "\n",
    "**Find**\n",
    "$$\n",
    "\\frac{dJ}{dF} =  \n",
    "$$ \n",
    "and \n",
    "$$\n",
    "\\frac{dF}{dS} =  \n",
    "$$ \n",
    "(the shape should be $ NM \\times RM )$.\n",
    "\n",
    "Now it is easy do get desired gradients:\n",
    "$$\n",
    "\\frac{dJ}{dS} =  \n",
    "$$ "
   ]
  },
  {
   "cell_type": "markdown",
   "metadata": {
    "collapsed": true
   },
   "source": [
    "#### Solution:\n",
    "1)\n",
    "\n",
    "$$\n",
    "\\frac{d F}{d S} = \\frac{d AS}{d S} = A^T.\n",
    "$$\n",
    "2)\n",
    "\n",
    "$$\n",
    "\\frac{d J}{d F} = \\frac{d}{d F}tr((X-F)(X-F)^T) = \\frac{d}{d F} tr((X-F)(X^T-F^T))= \\frac{d}{d F} tr(XX^T - FX^T - XF^T + FF^T) = \\frac{d}{d F} (tr(XX^T) - 2tr(FX^T) + tr(FF^T)) = -2\\frac{d}{d F}tr(FX^T) + \\frac{d}{d F}tr(FF^T) = -2X + 2F = -2X + 2AS.\n",
    "$$\n",
    "\n",
    "3)\n",
    "\n",
    "$$\n",
    "\\frac{d J}{d s} = \\frac{d F}{d S} \\frac{d J}{d F} = A^T(-2X + 2AS) =-2A^T(X - AS). \n",
    "$$\n",
    "#### Answer:\n",
    "$\\frac{dJ}{dS} = -2A^T(X - AS)$."
   ]
  }
 ],
 "metadata": {
  "kernelspec": {
   "display_name": "Python 2",
   "language": "python",
   "name": "python2"
  },
  "language_info": {
   "codemirror_mode": {
    "name": "ipython",
    "version": 3
   },
   "file_extension": ".py",
   "mimetype": "text/x-python",
   "name": "python",
   "nbconvert_exporter": "python",
   "pygments_lexer": "ipython3",
   "version": "3.6.5"
  }
 },
 "nbformat": 4,
 "nbformat_minor": 1
}
