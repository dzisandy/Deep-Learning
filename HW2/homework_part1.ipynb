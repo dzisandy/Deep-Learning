{
 "cells": [
  {
   "cell_type": "markdown",
   "metadata": {},
   "source": [
    "# Homework 2, *part 1* (40 points)\n",
    "\n",
    "This warm-up problem set is provided to help you get used to PyTorch.\n",
    "\n",
    "Please, only fill parts marked with \"`Your code here`\"."
   ]
  },
  {
   "cell_type": "code",
   "execution_count": 1,
   "metadata": {},
   "outputs": [],
   "source": [
    "import numpy as np\n",
    "import math\n",
    "\n",
    "import matplotlib.pyplot as plt\n",
    "%matplotlib inline\n",
    "\n",
    "import torch\n",
    "assert torch.__version__ >= '1.0.0'"
   ]
  },
  {
   "cell_type": "markdown",
   "metadata": {},
   "source": [
    "To learn best practices $-$ for example,\n",
    "\n",
    "* how to choose between `.sqrt()` and `.sqrt_()`,\n",
    "* when to use `.view()` and how is it different from `.reshape()`,\n",
    "* which `dtype` to use,\n",
    "\n",
    "$-$ you are expected to google a lot, read tutorials on the Web and study documentation.\n",
    "\n",
    "Quick documentation on functions and modules is available with `?` and `help()`, like so:"
   ]
  },
  {
   "cell_type": "code",
   "execution_count": 168,
   "metadata": {},
   "outputs": [],
   "source": [
    "help(torch.sqrt)"
   ]
  },
  {
   "cell_type": "code",
   "execution_count": 169,
   "metadata": {},
   "outputs": [],
   "source": [
    "# to close the Jupyter help bar, press `Esc` or `q`\n",
    "?torch.cat"
   ]
  },
  {
   "cell_type": "markdown",
   "metadata": {},
   "source": [
    "## Task 1 (3 points)\n",
    "\n",
    "Use tensors only: **no lists, loops, numpy arrays etc.**\n",
    "\n",
    "$\\rho(\\theta)$ is defined in polar coordinate system:\n",
    "\n",
    "$$\\rho(\\theta) = (1 + 0.9 \\cdot \\cos{8\\theta} ) \\cdot (1 + 0.1 \\cdot \\cos{24\\theta}) \\cdot (0.9 + 0.05 \\cdot \\cos {200\\theta}) \\cdot (1 + \\sin{\\theta})$$\n",
    "\n",
    "1. Create a regular grid of 1000 values of $\\theta$ between $-\\pi$ and $\\pi$.\n",
    "2. Compute $\\rho(\\theta)$ at these values.\n",
    "3. Convert it into Cartesian coordinates ([howto](http://www.mathsisfun.com/polar-cartesian-coordinates.html))."
   ]
  },
  {
   "cell_type": "code",
   "execution_count": 46,
   "metadata": {},
   "outputs": [],
   "source": [
    "theta = # (1) Your code here\n",
    "assert theta.shape == (1000,)\n",
    "\n",
    "rho = # (2) Your code here\n",
    "assert torch.is_same_size(rho, theta)\n",
    "\n",
    "# (3) Your code here"
   ]
  },
  {
   "cell_type": "code",
   "execution_count": 1,
   "metadata": {},
   "outputs": [],
   "source": [
    "# Run this cell and make sure the plot is correct\n",
    "plt.figure(figsize=[6,6])\n",
    "plt.fill(x.numpy(), y.numpy(), color='green')\n",
    "plt.grid()"
   ]
  },
  {
   "cell_type": "markdown",
   "metadata": {},
   "source": [
    "## Task 2 (7 points)\n",
    "\n",
    "Use tensors only: **no lists, loops, numpy arrays etc.**\n",
    "\n",
    "We will implement [Conway's Game of Life](https://en.wikipedia.org/wiki/Conway's_Game_of_Life) in PyTorch.\n",
    "\n",
    "![img](https://cdn.tutsplus.com/gamedev/authors/legacy/Stephane%20Beniak/2012/09/11/Preview_Image.png)\n",
    "\n",
    "If you skipped the URL above, here are the rules:\n",
    "* You have a 2D grid of cells, where each cell is \"alive\"(1) or \"dead\"(0)\n",
    "* At one step in time, the generation update happens:\n",
    "  * Any living cell that has 2 or 3 neighbors survives, otherwise (0,1 or 4+ neighbors) it dies\n",
    "  * Any cell with exactly 3 neighbors becomes alive if it was dead\n",
    "\n",
    "You are given a reference numpy implementation of the update step. Your task is to convert it to PyTorch."
   ]
  },
  {
   "cell_type": "code",
   "execution_count": 147,
   "metadata": {},
   "outputs": [],
   "source": [
    "from scipy.signal import correlate2d as conv2d\n",
    "\n",
    "def numpy_update(alive_map):\n",
    "    # Count neighbours with convolution\n",
    "    conv_kernel = np.array([[1,1,1],\n",
    "                            [1,0,1],\n",
    "                            [1,1,1]])\n",
    "    \n",
    "    num_alive_neighbors = conv2d(alive_map, conv_kernel, mode='same')\n",
    "    \n",
    "    # Apply game rules\n",
    "    born = np.logical_and(num_alive_neighbors == 3, alive_map == 0)\n",
    "    survived = np.logical_and(np.isin(num_alive_neighbors, [2,3]), alive_map == 1)\n",
    "    \n",
    "    np.copyto(alive_map, np.logical_or(born, survived))"
   ]
  },
  {
   "cell_type": "code",
   "execution_count": 2,
   "metadata": {},
   "outputs": [],
   "source": [
    "def torch_update(alive_map):\n",
    "    \"\"\"\n",
    "    Game of Life update function that does to `alive_map` exactly the same as `numpy_update`.\n",
    "    \n",
    "    :param alive_map: `torch.tensor` of shape `(height, width)` and dtype `torch.float32`\n",
    "        containing 0s (dead) an 1s (alive)\n",
    "    \"\"\"\n",
    "    # Your code here"
   ]
  },
  {
   "cell_type": "code",
   "execution_count": 6,
   "metadata": {},
   "outputs": [],
   "source": [
    "# Generate a random initial map\n",
    "alive_map_numpy = np.random.choice([0, 1], p=(0.5, 0.5), size=(100, 100))\n",
    "alive_map_torch = torch.tensor(alive_map_numpy).float().clone()\n",
    "\n",
    "numpy_update(alive_map_numpy)\n",
    "torch_update(alive_map_torch)\n",
    "\n",
    "# results should be identical\n",
    "assert np.allclose(alive_map_torch.numpy(), alive_map_numpy), \\\n",
    "    \"Your PyTorch implementation doesn't match numpy_update.\"\n",
    "print(\"Well done!\")"
   ]
  },
  {
   "cell_type": "code",
   "execution_count": 154,
   "metadata": {},
   "outputs": [],
   "source": [
    "%matplotlib notebook\n",
    "plt.ion()\n",
    "\n",
    "# initialize game field\n",
    "alive_map = np.random.choice([0, 1], size=(100, 100))\n",
    "alive_map = torch.tensor(alive_map).float()\n",
    "\n",
    "fig = plt.figure()\n",
    "ax = fig.add_subplot(111)\n",
    "fig.show()\n",
    "\n",
    "for _ in range(100):\n",
    "    torch_update(alive_map)\n",
    "    \n",
    "    # re-draw image\n",
    "    ax.clear()\n",
    "    ax.imshow(alive_map.numpy(), cmap='gray')\n",
    "    fig.canvas.draw()"
   ]
  },
  {
   "cell_type": "code",
   "execution_count": 157,
   "metadata": {},
   "outputs": [],
   "source": [
    "# A fun setup for your amusement\n",
    "alive_map = np.arange(100) % 2 + np.zeros([100, 100])\n",
    "alive_map[48:52, 50] = 1\n",
    "\n",
    "alive_map = torch.tensor(alive_map).float()\n",
    "\n",
    "fig = plt.figure()\n",
    "ax = fig.add_subplot(111)\n",
    "fig.show()\n",
    "\n",
    "for _ in range(150):\n",
    "    torch_update(alive_map)\n",
    "    ax.clear()\n",
    "    ax.imshow(alive_map.numpy(), cmap='gray')\n",
    "    fig.canvas.draw()"
   ]
  },
  {
   "cell_type": "markdown",
   "metadata": {},
   "source": [
    "More fun with Game of Life: [video](https://www.youtube.com/watch?v=C2vgICfQawE)"
   ]
  },
  {
   "cell_type": "markdown",
   "metadata": {},
   "source": [
    "## Task 3 (30 points)\n",
    "\n",
    "You have to solve yet another character recognition problem: 10 letters, ~14 000 train samples.\n",
    "\n",
    "For this, we ask you to build a multilayer perceptron (*i.e. a neural network of linear layers*) from scratch using **low-level** PyTorch interface.\n",
    "\n",
    "Requirements:\n",
    "1. at least 82% accuracy\n",
    "2. at least 2 linear layers\n",
    "3. use [softmax followed by categorical cross-entropy](https://gombru.github.io/2018/05/23/cross_entropy_loss/)\n",
    "\n",
    "**You are NOT allowed to use**\n",
    "* numpy arrays\n",
    "* `torch.nn`, `torch.optim`\n",
    "* convolutions\n",
    "\n",
    "Tips:\n",
    "\n",
    "* Pick random batches (either shuffle data before each epoch or sample each batch randomly).\n",
    "* Do not initialize weights with zeros ([learn why](https://stats.stackexchange.com/questions/27112/danger-of-setting-all-initial-weights-to-zero-in-backpropagation)). Gaussian noise with small variance will do.\n",
    "* 50 hidden neurons and a sigmoid nonlinearity will do for a start. Many ways to improve.\n",
    "* To improve accuracy, consider changing layers' sizes, nonlinearities, optimization methods, weights initialization.\n",
    "* Don't use GPU yet.\n",
    "\n",
    "**Reproducibility requirement**: you have to format your code cells so that `Cell -> Run All` on a fresh notebook **reliably** trains your model to the desired accuracy in a couple of minutes and reports the accuracy reached.\n",
    "\n",
    "Happy googling!"
   ]
  },
  {
   "cell_type": "code",
   "execution_count": 3,
   "metadata": {
    "scrolled": true
   },
   "outputs": [],
   "source": [
    "np.random.seed(666)\n",
    "torch.manual_seed(666)\n",
    "\n",
    "from notmnist import load_notmnist\n",
    "letters = 'ABCDEFGHIJ' \n",
    "X_train, y_train, X_test, y_test = map(torch.tensor, load_notmnist(letters=letters))\n",
    "X_train.squeeze_()\n",
    "X_test.squeeze_();"
   ]
  },
  {
   "cell_type": "code",
   "execution_count": 4,
   "metadata": {},
   "outputs": [
    {
     "data": {
      "image/png": "[encoded data removed]",
      "text/plain": [
       "<Figure size 1080x216 with 20 Axes>"
      ]
     },
     "metadata": {
      "needs_background": "light"
     },
     "output_type": "display_data"
    }
   ],
   "source": [
    "fig, axarr = plt.subplots(2, 10, figsize=(15,3))\n",
    "\n",
    "for idx, ax in enumerate(axarr.ravel()):\n",
    "    ax.imshow(X_train[idx].numpy(), cmap='gray')\n",
    "    ax.axis('off')\n",
    "    ax.set_title(letters[y_train[idx]])"
   ]
  },
  {
   "cell_type": "markdown",
   "metadata": {},
   "source": [
    "The cell below has an example layout for encapsulating your neural network. Feel free to modify the interface if you need to (add arguments, add return values, add methods etc.). For example, you may want to add a method `do_gradient_step()` that executes one optimization algorithm (SGD / Adadelta / Adam / ...) step."
   ]
  },
  {
   "cell_type": "code",
   "execution_count": 300,
   "metadata": {},
   "outputs": [],
   "source": [
    "class NeuralNet:\n",
    "    def __init__(self):\n",
    "        # Your code here\n",
    "        \n",
    "    def predict(self, images):\n",
    "        \"\"\"\n",
    "        images: `torch.tensor` of shape `batch_size x height x width`\n",
    "            and dtype `torch.float32`.\n",
    "        \n",
    "        returns: `output`, a `torch.tensor` of shape `batch_size x 10`,\n",
    "            where `output[i][j]` is the probability of `i`-th\n",
    "            batch sample to belong to `j`-th class.\n",
    "        \"\"\"\n",
    "        # Your code here\n",
    "\n",
    "    # Your code here"
   ]
  },
  {
   "cell_type": "code",
   "execution_count": 301,
   "metadata": {},
   "outputs": [],
   "source": [
    "def accuracy(model, images, labels):\n",
    "    \"\"\"\n",
    "    model: `NeuralNet`\n",
    "    images: `torch.tensor` of shape `N x height x width`\n",
    "        and dtype `torch.float32`\n",
    "    labels: `torch.tensor` of shape `N` and dtype `torch.int64`. Contains\n",
    "        class index for each sample\n",
    "    \n",
    "    returns:\n",
    "        fraction of samples from `images` correctly classified by `model`\n",
    "    \"\"\"\n",
    "    # Your code here"
   ]
  },
  {
   "cell_type": "code",
   "execution_count": 3,
   "metadata": {},
   "outputs": [],
   "source": [
    "model = NeuralNet()\n",
    "\n",
    "# Your code here (train the model)"
   ]
  },
  {
   "cell_type": "code",
   "execution_count": 5,
   "metadata": {},
   "outputs": [],
   "source": [
    "train_acc = accuracy(model, X_train, y_train) * 100\n",
    "test_acc = accuracy(model, X_test, y_test) * 100\n",
    "print(\"Train accuracy: %.2f, test accuracy: %.2f\" % (train_acc, test_acc))\n",
    "\n",
    "assert test_acc >= 82.0, \"You have to do better\""
   ]
  }
 ],
 "metadata": {
  "kernelspec": {
   "display_name": "Python 3",
   "language": "python",
   "name": "python3"
  },
  "language_info": {
   "codemirror_mode": {
    "name": "ipython",
    "version": 3
   },
   "file_extension": ".py",
   "mimetype": "text/x-python",
   "name": "python",
   "nbconvert_exporter": "python",
   "pygments_lexer": "ipython3",
   "version": "3.6.7"
  }
 },
 "nbformat": 4,
 "nbformat_minor": 2
}
