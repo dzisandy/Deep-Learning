{
 "cells": [
  {
   "cell_type": "markdown",
   "metadata": {
    "collapsed": true
   },
   "source": [
    "# Homework 2, *part 2* (60 points)\n",
    "\n",
    "In this assignment you will build a heavy convolutional neural net (CNN) to solve Tiny ImageNet image classification. Try to achieve as high accuracy as possible."
   ]
  },
  {
   "cell_type": "markdown",
   "metadata": {},
   "source": [
    "## Deliverables\n",
    "\n",
    "* This file,\n",
    "* a \"checkpoint file\" from `torch.save(model.state_dict(), ...)` that contains model's weights (which a TA should be able to load to verify your accuracy).\n",
    "\n",
    "## Grading\n",
    "\n",
    "* 9 points for reproducible training code and a filled report below.\n",
    "* 12 points for building a network that gets above 20% accuracy.\n",
    "* 6.5 points for beating each of these milestones on the validation set:\n",
    "  * 25.0%\n",
    "  * 30.0%\n",
    "  * 32.5%\n",
    "  * 35.0%\n",
    "  * 37.5%\n",
    "  * 40.0%\n",
    "    \n",
    "## Restrictions\n",
    "\n",
    "* Don't use pretrained networks.\n",
    "\n",
    "## Tips\n",
    "\n",
    "* One change at a time: never test several new things at once.\n",
    "* Google a lot.\n",
    "* Use GPU.\n",
    "* Use regularization: L2, batch normalization, dropout, data augmentation.\n",
    "* Use Tensorboard ([non-Colab](https://github.com/lanpa/tensorboardX) or [Colab](https://medium.com/@tommytao_54597/use-tensorboard-in-google-colab-16b4bb9812a6)) or a similar interactive tool for viewing progress."
   ]
  },
  {
   "cell_type": "code",
   "execution_count": 1,
   "metadata": {
    "collapsed": true
   },
   "outputs": [],
   "source": [
    "import numpy as np\n",
    "import tiny_imagenet\n",
    "import matplotlib.pyplot as plt\n",
    "%matplotlib inline"
   ]
  },
  {
   "cell_type": "code",
   "execution_count": 2,
   "metadata": {
    "collapsed": true
   },
   "outputs": [],
   "source": [
    "import torchvision\n",
    "import torch\n",
    "from torchvision import transforms\n",
    "from torch import nn\n",
    "import torch.nn.functional as F\n",
    "import torch.optim as optim\n",
    "from torch.utils.data import DataLoader, Dataset\n",
    "from torchvision import transforms, utils\n",
    "import operator\n",
    "import matplotlib.pyplot as plt\n",
    "from tqdm import trange\n",
    "import PIL.Image as Image\n",
    "from IPython import display\n",
    "import numpy as np\n",
    "import random\n",
    "import time"
   ]
  },
  {
   "cell_type": "code",
   "execution_count": 3,
   "metadata": {},
   "outputs": [
    {
     "name": "stdout",
     "output_type": "stream",
     "text": [
      ".\\tiny-imagenet-200 already exists, not downloading\n"
     ]
    }
   ],
   "source": [
    "tiny_imagenet.download(\".\")"
   ]
  },
  {
   "cell_type": "markdown",
   "metadata": {},
   "source": [
    "Training and validation images are now in `tiny-imagenet-200/train` and `tiny-imagenet-200/val`."
   ]
  },
  {
   "cell_type": "code",
   "execution_count": 4,
   "metadata": {
    "collapsed": true
   },
   "outputs": [],
   "source": [
    "batch_size = 100\n",
    "\n",
    "train_transform = transforms.Compose([\n",
    "        transforms.RandomRotation(5),\n",
    "        transforms.RandomHorizontalFlip(),\n",
    "        transforms.RandomAffine(degrees = 10, shear = 10, scale = (0.7, 1.05)),\n",
    "        transforms.ToTensor()])\n",
    "    \n",
    "val_transform = transforms.Compose([\n",
    "        transforms.ToTensor()])\n",
    "\n",
    "\n",
    "\n",
    "data_train = torchvision.datasets.ImageFolder('tiny-imagenet-200/train', transform=train_transform)\n",
    "data_val = torchvision.datasets.ImageFolder('tiny-imagenet-200/val', transform=val_transform)\n",
    "train_loader = torch.utils.data.DataLoader(data_train, batch_size=batch_size,shuffle=True)\n",
    "val_loader = torch.utils.data.DataLoader(data_val, batch_size=batch_size,shuffle=True)"
   ]
  },
  {
   "cell_type": "code",
   "execution_count": 5,
   "metadata": {},
   "outputs": [
    {
     "name": "stdout",
     "output_type": "stream",
     "text": [
      "torch.Size([3, 64, 64])\n"
     ]
    },
    {
     "data": {
      "image/png": "[encoded data removed]",
      "text/plain": [
       "<matplotlib.figure.Figure at 0x1c49c56f9e8>"
      ]
     },
     "metadata": {},
     "output_type": "display_data"
    }
   ],
   "source": [
    "#Visualise to seee, if the dataloader works correctly\n",
    "for X,y in train_loader:\n",
    "    print(X[0].size())\n",
    "    plt.imshow(np.array(X[0,0,:,:]))\n",
    "    break"
   ]
  },
  {
   "cell_type": "code",
   "execution_count": 6,
   "metadata": {},
   "outputs": [],
   "source": [
    "class Flatten(torch.nn.Module):\n",
    "    def forward(self, input):\n",
    "        return input.view(input.size(0), -1)\n",
    "\n",
    "model = nn.Sequential(nn.Conv2d(in_channels=3, out_channels=64,kernel_size=3 ,stride=1, padding=1, bias=False),\n",
    "                      nn.BatchNorm2d(64),\n",
    "                      nn.ReLU(inplace=True),\n",
    "                      nn.MaxPool2d(kernel_size=3,padding=1,stride=2),\n",
    "                      nn.Conv2d(in_channels=64, out_channels=128,kernel_size=3 ,stride=1, padding=1, bias=False),\n",
    "                      nn.BatchNorm2d(128),\n",
    "                      nn.ReLU(inplace=True),\n",
    "                      nn.Conv2d(in_channels=128, out_channels=128,kernel_size=3 ,stride=2, padding=1, bias=False),\n",
    "                      nn.BatchNorm2d(128),\n",
    "                      nn.ReLU(inplace=True),\n",
    "                      nn.Conv2d(in_channels=128, out_channels=256,kernel_size=3 ,stride=1, padding=1, bias=False),\n",
    "                      nn.BatchNorm2d(256),\n",
    "                      nn.ReLU(inplace=True),\n",
    "                      nn.Conv2d(in_channels=256, out_channels=256,kernel_size=3 ,stride=2, padding=1, bias=False),\n",
    "                      nn.BatchNorm2d(256),\n",
    "                      nn.ReLU(inplace=True),\n",
    "                      nn.Conv2d(in_channels=256, out_channels=512,kernel_size=3 ,stride=1, padding=1, bias=False),\n",
    "                      nn.BatchNorm2d(512),\n",
    "                      nn.ReLU(inplace=True),\n",
    "                      nn.AvgPool2d(kernel_size=3, padding=1, stride = 2),\n",
    "                      Flatten(),\n",
    "                      nn.Linear(8192, 200),\n",
    "                      nn.LogSoftmax(dim=1))\n",
    "\n",
    "\n",
    "device = torch.device(\"cuda:0\" if torch.cuda.is_available() else \"cpu\")\n",
    "model = model.to(device)\n",
    "criterion = torch.nn.CrossEntropyLoss()\n",
    "adam_optimizer = torch.optim.Adam(model.parameters())"
   ]
  },
  {
   "cell_type": "code",
   "execution_count": 7,
   "metadata": {
    "collapsed": true
   },
   "outputs": [],
   "source": [
    "def train(model, optimizer, train_size, batch_size, device, scheduler=None, epochs_n=100, write = False, label = None):  ## <---\n",
    "    model.to(device)\n",
    "    criterion = torch.nn.CrossEntropyLoss()\n",
    "    learning_curve = [np.nan] * epochs_n\n",
    "    train_accuracy_curve = [np.nan] * epochs_n\n",
    "    val_accuracy_curve = [np.nan] * epochs_n\n",
    "    max_val_accuracy = 0\n",
    "    max_val_accuracy_epoch = 0\n",
    "\n",
    "    batches_n = (train_size - 1) // batch_size + 1\n",
    "\n",
    "    for epoch in trange(epochs_n):\n",
    "        if scheduler is not None:  \n",
    "            scheduler.step()       \n",
    "        model.train()\n",
    "\n",
    "        learning_curve[epoch] = 0\n",
    "        for x, y in train_loader:\n",
    "            x = x.to(device)\n",
    "            y = y.to(device)\n",
    "            optimizer.zero_grad()\n",
    "            prediction = model(x)\n",
    "            loss = criterion(prediction, y)\n",
    "            learning_curve[epoch] += loss.item()\n",
    "            loss.backward()\n",
    "            optimizer.step()\n",
    "\n",
    "        display.clear_output(wait=True)\n",
    "        \n",
    "        f, axes = plt.subplots(1, 2, figsize=(15, 3))\n",
    "\n",
    "        learning_curve[epoch] /= batches_n\n",
    "        axes[0].set_title('Training loss')\n",
    "        axes[0].plot(learning_curve)\n",
    "\n",
    "        model.eval()\n",
    "        train_accuracy_curve[epoch] = get_accuracy(model, train_loader, device)\n",
    "        val_accuracy_curve[epoch] = get_accuracy(model, val_loader, device)\n",
    "        val_accuracy = val_accuracy_curve[epoch]\n",
    "        if val_accuracy > max_val_accuracy:\n",
    "            max_val_accuracy = val_accuracy\n",
    "            max_val_accuracy_epoch = epoch\n",
    "            if write:\n",
    "                torch.save(model.state_dict(), './'+label+'_best_params.pt')\n",
    "        print(\"Validation accuracy: %.2f%%\" % (max_val_accuracy * 100))\n",
    "        axes[1].set_title('Train acc {:.4f}, Val acc {:.4f}, max val acc {:.4f} at {} epoch.'.format(\n",
    "            train_accuracy_curve[epoch], val_accuracy, max_val_accuracy, max_val_accuracy_epoch))\n",
    "        axes[1].plot(train_accuracy_curve)\n",
    "        axes[1].plot(val_accuracy_curve)\n",
    "        plt.tight_layout()\n",
    "        plt.show()\n",
    "        \n",
    "        \n",
    "        \n",
    "def set_random_seeds(seed_value=0, device = 0):\n",
    "    np.random.seed(seed_value)\n",
    "    torch.manual_seed(seed_value)\n",
    "    random.seed(seed_value)\n",
    "    if device != 'cpu': \n",
    "        torch.cuda.manual_seed(seed_value)\n",
    "        torch.cuda.manual_seed_all(seed_value)\n",
    "        torch.backends.cudnn.deterministic = True\n",
    "        torch.backends.cudnn.benchmark = False\n",
    "\n",
    "def get_accuracy(model, dataloader, device):\n",
    "    correct = 0\n",
    "    with torch.no_grad():\n",
    "        for x, y in dataloader:\n",
    "            x = x.to(device)  \n",
    "            y = y.to(device)  \n",
    "            prediction = model(x).argmax(dim=-1, keepdim=True)\n",
    "            correct += prediction.eq(y.view_as(prediction)).sum().item()\n",
    "    return correct / len(dataloader.dataset)"
   ]
  },
  {
   "cell_type": "code",
   "execution_count": 8,
   "metadata": {},
   "outputs": [
    {
     "name": "stdout",
     "output_type": "stream",
     "text": [
      "Validation accuracy: 48.15%\n"
     ]
    },
    {
     "data": {
      "image/png": "[encoded data removed]",
      "text/plain": [
       "<matplotlib.figure.Figure at 0x1c4e51a9128>"
      ]
     },
     "metadata": {},
     "output_type": "display_data"
    },
    {
     "name": "stderr",
     "output_type": "stream",
     "text": [
      "100%|███████████████████████████████████████████████████████████████████████████████| 50/50 [2:42:04<00:00, 194.52s/it]\n"
     ]
    }
   ],
   "source": [
    "set_random_seeds(device=device)\n",
    "scheduler = torch.optim.lr_scheduler.MultiStepLR(adam_optimizer, (20, 30), gamma=.1)  \n",
    "val_accuracy = train(model, adam_optimizer, train_size=len(data_train), batch_size=100, device=device, scheduler=scheduler, epochs_n=50, write = True, label = 'HW2_CNN')"
   ]
  },
  {
   "cell_type": "markdown",
   "metadata": {},
   "source": [
    "When everything is done, please compute accuracy on the validation set and report it below."
   ]
  },
  {
   "cell_type": "markdown",
   "metadata": {},
   "source": [
    "# Report\n",
    "\n",
    "Below, please mention\n",
    "\n",
    "* a brief history of tweaks and improvements;\n",
    "* what is the final architecture and why?\n",
    "* what is the training method (batch size, optimization algorithm, ...) and why?\n",
    "* Any regularization and other techniques applied and their effects;\n",
    "\n",
    "The reference format is:\n",
    "\n",
    "*\"I have analyzed these and these articles|sources|blog posts, tried that and that to adapt them to my problem and the conclusions are such and such\".*"
   ]
  },
  {
   "cell_type": "markdown",
   "metadata": {},
   "source": [
    "Firstly, I have analyzed huge amount of arcticles and papers, devoted to ```tiny-ImageNet-200 Challenge``` and come up with the idea, that the most popular solutions are based on Neural Networks, that are good for solving this task (```ResNet, AlexNet, VGG, ...```) are already implemented in ```torchvision``` library. So the first idea was to implement ResNet, which was supposed to be very good without predtrained weights and finetuning, according to <http://cs231n.stanford.edu/reports/2017/pdfs/935.pdf>, using the class from ```torchvision```. But here come the problem: In most cases, this NN's are fitted to another size of image ($224 \\times 224$ instead of $64 \\times 64$), so the problem was to make either data augmentation resize of images or to recalculate the the parameters of NN. This was first milestone. After getting closer similar with this NN's I came up with the idea not to use the already implemented NN, but to make a new one from scratch. Let's load the written NN and validate it one more time:\n",
    "\n"
   ]
  },
  {
   "cell_type": "code",
   "execution_count": 15,
   "metadata": {},
   "outputs": [
    {
     "data": {
      "text/plain": [
       "Sequential(\n",
       "  (0): Conv2d(3, 64, kernel_size=(3, 3), stride=(1, 1), padding=(1, 1), bias=False)\n",
       "  (1): BatchNorm2d(64, eps=1e-05, momentum=0.1, affine=True, track_running_stats=True)\n",
       "  (2): ReLU(inplace)\n",
       "  (3): MaxPool2d(kernel_size=3, stride=2, padding=1, dilation=1, ceil_mode=False)\n",
       "  (4): Conv2d(64, 128, kernel_size=(3, 3), stride=(1, 1), padding=(1, 1), bias=False)\n",
       "  (5): BatchNorm2d(128, eps=1e-05, momentum=0.1, affine=True, track_running_stats=True)\n",
       "  (6): ReLU(inplace)\n",
       "  (7): Conv2d(128, 128, kernel_size=(3, 3), stride=(2, 2), padding=(1, 1), bias=False)\n",
       "  (8): BatchNorm2d(128, eps=1e-05, momentum=0.1, affine=True, track_running_stats=True)\n",
       "  (9): ReLU(inplace)\n",
       "  (10): Conv2d(128, 256, kernel_size=(3, 3), stride=(1, 1), padding=(1, 1), bias=False)\n",
       "  (11): BatchNorm2d(256, eps=1e-05, momentum=0.1, affine=True, track_running_stats=True)\n",
       "  (12): ReLU(inplace)\n",
       "  (13): Conv2d(256, 256, kernel_size=(3, 3), stride=(2, 2), padding=(1, 1), bias=False)\n",
       "  (14): BatchNorm2d(256, eps=1e-05, momentum=0.1, affine=True, track_running_stats=True)\n",
       "  (15): ReLU(inplace)\n",
       "  (16): Conv2d(256, 512, kernel_size=(3, 3), stride=(1, 1), padding=(1, 1), bias=False)\n",
       "  (17): BatchNorm2d(512, eps=1e-05, momentum=0.1, affine=True, track_running_stats=True)\n",
       "  (18): ReLU(inplace)\n",
       "  (19): AvgPool2d(kernel_size=3, stride=2, padding=1)\n",
       "  (20): Flatten()\n",
       "  (21): Linear(in_features=8192, out_features=200, bias=True)\n",
       "  (22): LogSoftmax()\n",
       ")"
      ]
     },
     "execution_count": 15,
     "metadata": {},
     "output_type": "execute_result"
    }
   ],
   "source": [
    "#loading model from File\n",
    "model.load_state_dict(torch.load('./HW2_CNN_best_params.pt'))\n",
    "model.eval()"
   ]
  },
  {
   "cell_type": "code",
   "execution_count": 16,
   "metadata": {},
   "outputs": [
    {
     "name": "stdout",
     "output_type": "stream",
     "text": [
      "Validation accuracy: 48.15%\n"
     ]
    }
   ],
   "source": [
    "print(\"Validation accuracy: %.2f%%\" % (get_accuracy(model, val_loader, device) * 100))"
   ]
  },
  {
   "cell_type": "markdown",
   "metadata": {},
   "source": [
    "So the resulting architecture of the represented above NN is the work of creating simple CNN, with ReLU activations (the most simple and effective activation function) then adding more convolutional layers and adding more parameters to NN. The output of last linear layer as it was done a hundred times comes from LogSoftMax (logarithm for numerical stability) and as metrics Cross Entropy is used.  After that I increased the performance of NN, by adding Batch Normalization, which significantly improved the accuracy. Then, when the final NN was build, I've chosed Adam optimizer, because from previous assignment I saw that it outperforms SGD. The another tweak in performance was to add steps for learning rate (my NN has different learning rates for epochs from 0 to 20, from 20 to 30 and from 30 to 50), which also supposed to improve the performance. \n",
    "\n",
    "After that all, there was also a hunt for accuracy, which was motivated by <http://cs231n.stanford.edu/reports/2017/pdfs/12.pdf>. In this paper was told, that every data augmentation improves the NN, so I applied some rotations, affine transformations, color and contrast transformations on the data. This is the final adjustment in performance. During the implementation, there were several usefull links, amonth them: <https://forums.fast.ai/t/solved-reproducibility-where-is-the-randomness-coming-in/31628/5>, <https://gist.github.com/bveliqi/a847f955f2ec13d74d22c088c6f771b4> and of course, my ML's course assignments.\n",
    "\n",
    "The results are significant: My CNN shows from scratch, without predtrained weights the following performance: accuracy validation = $48.15 \\%$, accuracy training = $86.88 \\%$, which are supposed to be enough for all assignment requirements. State with best validation accuracy is saved in file ```HW2_CNN_best_params.pt ```."
   ]
  }
 ],
 "metadata": {
  "kernelspec": {
   "display_name": "Python 3",
   "language": "python",
   "name": "python3"
  },
  "language_info": {
   "codemirror_mode": {
    "name": "ipython",
    "version": 3
   },
   "file_extension": ".py",
   "mimetype": "text/x-python",
   "name": "python",
   "nbconvert_exporter": "python",
   "pygments_lexer": "ipython3",
   "version": "3.7.3"
  }
 },
 "nbformat": 4,
 "nbformat_minor": 1
}
