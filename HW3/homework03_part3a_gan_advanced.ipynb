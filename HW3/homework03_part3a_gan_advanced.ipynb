{
 "cells": [
  {
   "cell_type": "markdown",
   "metadata": {},
   "source": [
    "### Generating human faces with Adversarial Networks (5 points)\n",
    "<img src=\"https://www.strangerdimensions.com/wp-content/uploads/2013/11/reception-robot.jpg\" width=320>\n",
    "This time we'll train a neural net to generate plausible human faces in all their subtlty: appearance, expression, accessories, etc. 'Cuz when us machines gonna take over Earth, there won't be any more faces left. We want to preserve this data for future iterations. Yikes...\n",
    "\n",
    "Based on Based on https://github.com/Lasagne/Recipes/pull/94 .\n"
   ]
  },
  {
   "cell_type": "code",
   "execution_count": null,
   "metadata": {
    "collapsed": true
   },
   "outputs": [],
   "source": [
    "import matplotlib.pyplot as plt\n",
    "%matplotlib inline\n",
    "import numpy as np\n",
    "plt.rcParams.update({'axes.titlesize': 'small'})\n",
    "\n",
    "from sklearn.datasets import load_digits\n",
    "#The following line fetches you two datasets: images, usable for autoencoder training and attributes.\n",
    "#Those attributes will be required for the final part of the assignment (applying smiles), so please keep them in mind\n",
    "from lfw_dataset import fetch_lfw_dataset\n",
    "data,attrs = fetch_lfw_dataset(dimx=36, dimy=36)\n",
    "\n",
    "#preprocess faces\n",
    "data = np.float32(data).transpose([0,3,1,2]) / 255.\n",
    "\n",
    "IMG_SHAPE = data.shape[1:]"
   ]
  },
  {
   "cell_type": "code",
   "execution_count": null,
   "metadata": {
    "collapsed": true
   },
   "outputs": [],
   "source": [
    "#print random image\n",
    "plt.imshow(data[np.random.randint(data.shape[0])].transpose([1,2,0]),\n",
    "           cmap=\"gray\", interpolation=\"none\")"
   ]
  },
  {
   "cell_type": "markdown",
   "metadata": {},
   "source": [
    "# Generative adversarial nets 101\n",
    "\n",
    "<img src=\"https://raw.githubusercontent.com/torch/torch.github.io/master/blog/_posts/images/model.png\" width=320px height=240px>\n",
    "\n",
    "Deep learning is simple, isn't it? \n",
    "* build some network that generates the face (small image)\n",
    "* make up a __measure__ of __how good that face is__\n",
    "* optimize with gradient descent :)\n",
    "\n",
    "\n",
    "The only problem is: how can we engineers tell well-generated faces from bad? And i bet you we won't ask a designer for help. \n",
    "\n",
    "__If we can't tell good faces from bad, we delegate it to yet another neural network!__\n",
    "\n",
    "That makes the two of them:\n",
    "* __G__enerator - takes random noize for inspiration and tries to generate a face sample. \n",
    "  * Let's call him __G__(z), where z is a gaussian noize.\n",
    "* __D__iscriminator - takes a face sample and tries to tell if it's great or fake. \n",
    "  * Predicts the probability of input image being a __real face__\n",
    "  * Let's call him __D__(x), x being an image.\n",
    "  * __D(x)__ is a predition for real image and __D(G(z))__ is prediction for the face made by generator.\n",
    "\n",
    "Before we dive into training them, let's construct the two networks."
   ]
  },
  {
   "cell_type": "code",
   "execution_count": null,
   "metadata": {
    "collapsed": true
   },
   "outputs": [],
   "source": [
    "import torch, torch.nn as nn\n",
    "import torch.nn.functional as F\n",
    "\n",
    "use_cuda = torch.cuda.is_available()\n",
    "\n",
    "print(\"Torch version:\", torch.__version__)\n",
    "if use_cuda:\n",
    "    print(\"Using GPU\")\n",
    "else:\n",
    "    print(\"Not using GPU\")"
   ]
  },
  {
   "cell_type": "code",
   "execution_count": null,
   "metadata": {
    "collapsed": true
   },
   "outputs": [],
   "source": [
    "def sample_noise_batch(batch_size):\n",
    "    noise = torch.randn(batch_size, CODE_SIZE)\n",
    "    return noise.cuda() if use_cuda else noise.cpu()\n",
    "    \n",
    "class Reshape(nn.Module):\n",
    "    def __init__(self, shape):\n",
    "        nn.Module.__init__(self)\n",
    "        self.shape=shape\n",
    "    def forward(self,input):\n",
    "        return input.view(self.shape)"
   ]
  },
  {
   "cell_type": "code",
   "execution_count": null,
   "metadata": {
    "collapsed": true,
    "scrolled": false
   },
   "outputs": [],
   "source": [
    "CODE_SIZE = 256\n",
    "\n",
    "from itertools import count\n",
    "# automatic layer name maker. Don't do this in production :)\n",
    "ix = ('layer_%i'%i for i in count())\n",
    "\n",
    "generator = nn.Sequential()\n",
    "\n",
    "generator.add_module(next(ix), nn.Linear(CODE_SIZE, 10*8*8))\n",
    "generator.add_module(next(ix), nn.ELU())\n",
    "generator.add_module(next(ix), Reshape([-1, 10, 8, 8]))\n",
    "\n",
    "generator.add_module(next(ix), nn.ConvTranspose2d(10, 64, kernel_size=(5,5)))\n",
    "generator.add_module(next(ix), nn.ELU())\n",
    "generator.add_module(next(ix), nn.ConvTranspose2d(64, 64, kernel_size=(5,5)))\n",
    "generator.add_module(next(ix), nn.ELU())\n",
    "generator.add_module(next(ix), nn.Upsample(scale_factor=2))\n",
    "\n",
    "generator.add_module(next(ix), nn.ConvTranspose2d(64, 32, kernel_size=(5,5)))\n",
    "generator.add_module(next(ix), nn.ELU())\n",
    "generator.add_module(next(ix), nn.ConvTranspose2d(32, 32, kernel_size=(5,5)))\n",
    "generator.add_module(next(ix), nn.ELU())\n",
    "\n",
    "generator.add_module(next(ix), nn.Conv2d(32, 3, kernel_size=(5,5)))\n",
    "\n",
    "if use_cuda: generator.cuda()"
   ]
  },
  {
   "cell_type": "code",
   "execution_count": null,
   "metadata": {
    "collapsed": true
   },
   "outputs": [],
   "source": [
    "generated_data = generator(sample_noise_batch(5))\n",
    "assert tuple(generated_data.shape)[1:] == IMG_SHAPE, \"generator must output an image of shape %s, but instead it produces %s\"%(IMG_SHAPE,generated_data.shape)"
   ]
  },
  {
   "cell_type": "markdown",
   "metadata": {},
   "source": [
    "### Discriminator\n",
    "* Discriminator is your usual convolutional network with interlooping convolution and pooling layers\n",
    "* The network does not include dropout/batchnorm to avoid learning complications.\n",
    "* We also regularize the pre-output layer to prevent discriminator from being too certain."
   ]
  },
  {
   "cell_type": "code",
   "execution_count": null,
   "metadata": {
    "collapsed": true
   },
   "outputs": [],
   "source": [
    "def sample_data_batch(batch_size):\n",
    "    idxs = np.random.choice(np.arange(data.shape[0]), size=batch_size)\n",
    "    batch = torch.tensor(data[idxs], dtype=torch.float32)\n",
    "    return batch.cuda() if use_cuda else batch.cpu()\n",
    "\n",
    "# a special module that converts [batch, channel, w, h] to [batch, units]\n",
    "class Flatten(nn.Module):\n",
    "    def forward(self, input):\n",
    "        return input.view(input.shape[0], -1)"
   ]
  },
  {
   "cell_type": "code",
   "execution_count": null,
   "metadata": {
    "collapsed": true
   },
   "outputs": [],
   "source": [
    "discriminator = nn.Sequential()\n",
    "\n",
    "### YOUR CODE - create convolutional architecture for discriminator\n",
    "### Note: please start simple. A few convolutions & poolings would do, inception/resnet is an overkill\n",
    "\n",
    "discriminator.add_module(\"disc_logit\", nn.Linear(<???>, 1))\n",
    "\n",
    "if use_cuda: discriminator.cuda()"
   ]
  },
  {
   "cell_type": "code",
   "execution_count": null,
   "metadata": {
    "collapsed": true
   },
   "outputs": [],
   "source": [
    "discriminator(sample_data_batch(5))"
   ]
  },
  {
   "cell_type": "markdown",
   "metadata": {},
   "source": [
    "# Training\n",
    "\n",
    "We train the two networks concurrently:\n",
    "* Train __discriminator__ to better distinguish real data from __current__ generator\n",
    "* Train __generator__ to make discriminator think generator is real\n",
    "* Since discriminator is a differentiable neural network, we train both with gradient descent.\n",
    "\n",
    "![img](https://s24.postimg.org/cw4nognxx/gan.png)\n",
    "\n",
    "Training is done iteratively until discriminator is no longer able to find the difference (or until you run out of patience).\n",
    "\n",
    "\n",
    "### Tricks:\n",
    "* Regularize discriminator output weights to prevent explosion\n",
    "* Train generator with __adam__ to speed up training. Discriminator trains with SGD to avoid problems with momentum.\n",
    "* More: https://github.com/soumith/ganhacks\n"
   ]
  },
  {
   "cell_type": "code",
   "execution_count": null,
   "metadata": {
    "collapsed": true
   },
   "outputs": [],
   "source": [
    "def generator_loss(noise):\n",
    "    \"\"\"\n",
    "    1. generate data given noise\n",
    "    2. compute log P(real | gen noise)\n",
    "    3. return generator loss (should be scalar)\n",
    "    \"\"\"\n",
    "    generated_data = <generate data given noise>\n",
    "    \n",
    "    disc_on_generated_data = <discriminator's opinion on generated data>\n",
    "    \n",
    "    logp_gen_is_real = F.logsigmoid(disc_on_generated_data)\n",
    "    \n",
    "    loss = <generator loss. Mind the sign!>\n",
    "    \n",
    "    return loss"
   ]
  },
  {
   "cell_type": "code",
   "execution_count": null,
   "metadata": {
    "collapsed": true
   },
   "outputs": [],
   "source": [
    "loss = generator_loss(sample_noise_batch(32))\n",
    "\n",
    "print(loss)\n",
    "\n",
    "assert len(loss.shape) == 1 and loss.shape[0] == 1, \"loss must be scalar\""
   ]
  },
  {
   "cell_type": "code",
   "execution_count": null,
   "metadata": {
    "collapsed": true
   },
   "outputs": [],
   "source": [
    "def discriminator_loss(real_data, generated_data):\n",
    "    \"\"\"\n",
    "    1. compute discriminator's output on real & generated data\n",
    "    2. compute log-probabilities of real data being real, generated data being fake\n",
    "    3. return discriminator loss (scalar)\n",
    "    \"\"\"\n",
    "    disc_on_real_data = <discriminator's prediction on real data>\n",
    "    disc_on_fake_data = <discriminator's prediction on generated data>\n",
    "    \n",
    "    logp_real_is_real = F.logsigmoid(disc_on_real_data)\n",
    "    logp_gen_is_fake = F.logsigmoid(- logp_gen_is_fake)\n",
    "    \n",
    "    loss = <discriminator loss>\n",
    "    return loss"
   ]
  },
  {
   "cell_type": "code",
   "execution_count": null,
   "metadata": {
    "collapsed": true
   },
   "outputs": [],
   "source": [
    "loss = discriminator_loss(sample_data_batch(32), \n",
    "                   generator(sample_noise_batch(32)))\n",
    "\n",
    "print(loss)\n",
    "\n",
    "assert len(loss.shape) == 1 and loss.shape[0] == 1, \"loss must be scalar\""
   ]
  },
  {
   "cell_type": "markdown",
   "metadata": {},
   "source": [
    "### Auxilary functions\n",
    "Here we define a few helper functions that draw current data distributions and sample training batches."
   ]
  },
  {
   "cell_type": "code",
   "execution_count": null,
   "metadata": {
    "collapsed": true
   },
   "outputs": [],
   "source": [
    "def sample_images(nrow, ncol, sharp=False):\n",
    "    images = generator(sample_noise_batch(batch_size=nrow*ncol))\n",
    "    images = images.data.cpu().numpy().transpose([0, 2, 3, 1])\n",
    "    if np.var(images)!=0:\n",
    "        images = images.clip(np.min(data),np.max(data))\n",
    "    for i in range(nrow*ncol):\n",
    "        plt.subplot(nrow,ncol,i+1)\n",
    "        if sharp:\n",
    "            plt.imshow(images[i], cmap=\"gray\", interpolation=\"none\")\n",
    "        else:\n",
    "            plt.imshow(images[i], cmap=\"gray\")\n",
    "    plt.show()\n",
    "\n",
    "def sample_probas(batch_size):\n",
    "    plt.title('Generated vs real data')\n",
    "    D_real = F.sigmoid(discriminator(sample_data_batch(batch_size)))\n",
    "    generated_data_batch = generator(sample_noise_batch(batch_size))\n",
    "    D_fake = F.sigmoid(discriminator(generated_data_batch))\n",
    "    \n",
    "    plt.hist(D_real.data.cpu().numpy(),\n",
    "             label='D(x)', alpha=0.5, range=[0,1])\n",
    "    plt.hist(D_fake.data.cpu().numpy(),\n",
    "             label='D(G(z))', alpha=0.5, range=[0,1])\n",
    "    plt.legend(loc='best')\n",
    "    plt.show()"
   ]
  },
  {
   "cell_type": "markdown",
   "metadata": {},
   "source": [
    "### Training\n",
    "Main loop.\n",
    "We just train generator and discriminator in a loop and draw results once every N iterations."
   ]
  },
  {
   "cell_type": "code",
   "execution_count": null,
   "metadata": {
    "collapsed": true
   },
   "outputs": [],
   "source": [
    "#optimizers\n",
    "disc_opt = torch.optim.SGD(discriminator.parameters(), lr=5e-3)\n",
    "gen_opt = torch.optim.Adam(generator.parameters(), lr=1e-4)"
   ]
  },
  {
   "cell_type": "code",
   "execution_count": null,
   "metadata": {
    "collapsed": true,
    "scrolled": true
   },
   "outputs": [],
   "source": [
    "from IPython import display\n",
    "from tqdm import tnrange\n",
    "batch_size = 100\n",
    "\n",
    "for epoch in tnrange(50000):\n",
    "    \n",
    "    # Train discriminator\n",
    "    for i in range(5):\n",
    "        real_data = sample_data_batch(batch_size)\n",
    "        fake_data = generator(sample_noise_batch(batch_size))\n",
    "        loss = discriminator_loss(real_data, fake_data)\n",
    "        disc_opt.zero_grad()\n",
    "        loss.backward()\n",
    "        disc_opt.step()\n",
    "        \n",
    "    # Train generator\n",
    "    noise = sample_noise_batch(batch_size)\n",
    "    loss = generator_loss(noise)\n",
    "    gen_opt.zero_grad()\n",
    "    loss.backward()\n",
    "    gen_opt.step()\n",
    "    \n",
    "    if epoch %100==0:\n",
    "        display.clear_output(wait=True)\n",
    "        sample_images(2,3,True)\n",
    "        sample_probas(1000)\n",
    "        "
   ]
  },
  {
   "cell_type": "code",
   "execution_count": null,
   "metadata": {
    "collapsed": true,
    "scrolled": false
   },
   "outputs": [],
   "source": [
    "plt.figure(figsize=[16, 24])\n",
    "sample_images(16, 8)\n",
    "\n",
    "# Note: a no-nonsense neural network should be able to produce reasonably good images after 15k iterations\n",
    "# By \"reasonably good\" we mean \"resembling a car crash victim\" or better"
   ]
  },
  {
   "cell_type": "markdown",
   "metadata": {},
   "source": [
    "### Evaluation\n",
    "__The code below__ dumps a batch of images so that you could use them for precision/recall evaluation.\n",
    "\n",
    "Please generate the same number of images as for autoencoders for a fair comparison."
   ]
  },
  {
   "cell_type": "code",
   "execution_count": null,
   "metadata": {},
   "outputs": [],
   "source": [
    "num_images = <YOUR CODE>\n",
    "batch_size = 100\n",
    "\n",
    "all_images = []\n",
    "\n",
    "for batch_i in range((num_images - 1) / batch_size + 1):\n",
    "    with torch.no_grad():\n",
    "        images = generator(sample_noise_batch(batch_size=batch_size))\n",
    "        images = images.data.cpu().numpy().transpose([0, 2, 3, 1])\n",
    "    if np.var(images)!=0:\n",
    "        images = images.clip(np.min(data), np.max(data))\n",
    "        \n",
    "    all_images.append(images)\n",
    "    \n",
    "all_images = np.concatenate(all_images, axis=0)[:num_images]\n",
    "\n",
    "np.savez(\"./gan.npz\", Pictures=all_images)"
   ]
  }
 ],
 "metadata": {
  "anaconda-cloud": {},
  "kernelspec": {
   "display_name": "Python 3",
   "language": "python",
   "name": "python3"
  },
  "language_info": {
   "codemirror_mode": {
    "name": "ipython",
    "version": 3
   },
   "file_extension": ".py",
   "mimetype": "text/x-python",
   "name": "python",
   "nbconvert_exporter": "python",
   "pygments_lexer": "ipython3",
   "version": "3.6.2"
  }
 },
 "nbformat": 4,
 "nbformat_minor": 1
}
