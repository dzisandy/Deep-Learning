{
 "cells": [
  {
   "cell_type": "markdown",
   "metadata": {
    "colab_type": "text",
    "id": "VBNHzOrf_eWj"
   },
   "source": [
    "### Denoising Autoencoders And Where To Find Them\n",
    "\n",
    "Today we're going to train deep autoencoders and deploy them to faces and search for similar images.\n",
    "\n",
    "Our new test subjects are human faces from the [lfw dataset](http://vis-www.cs.umass.edu/lfw/)."
   ]
  },
  {
   "cell_type": "markdown",
   "metadata": {
    "colab_type": "text",
    "id": "H4hWkdhe_eWl"
   },
   "source": [
    "**Collab setting**"
   ]
  },
  {
   "cell_type": "code",
   "execution_count": null,
   "metadata": {
    "colab": {
     "base_uri": "https://localhost:8080/",
     "height": 204
    },
    "colab_type": "code",
    "id": "C9GUvLcu_eWm",
    "outputId": "5494a482-ec66-4907-85f2-fe536b386a04"
   },
   "outputs": [],
   "source": [
    "# if you're running in colab,\n",
    "# 1. go to Runtime -> Change Runtimy Type -> GPU\n",
    "# 2. uncomment this:\n",
    "#!wget https://raw.githubusercontent.com/yandexdataschool/Practical_DL/hw3_19/homework03/lfw_dataset.py -O lfw_dataset.py"
   ]
  },
  {
   "cell_type": "code",
   "execution_count": null,
   "metadata": {
    "colab": {},
    "colab_type": "code",
    "id": "o7jFIMZd_eWp"
   },
   "outputs": [],
   "source": [
    "import torch\n",
    "import numpy as np\n",
    "\n",
    "from torch.utils.data import Dataset, DataLoader\n",
    "import torch.nn as nn\n",
    "import torch.nn.functional as F\n",
    "import torch.optim as optim\n",
    "\n",
    "\n",
    "EPOCHS = 100\n",
    "BATCH_SIZE = 32\n",
    "LEARNING_RATE = 1e-3\n",
    "\n",
    "LATENT_DIMENSION = 4\n",
    "BATCH_SIZE = 32\n",
    "\n",
    "device = torch.device(\"cuda\")"
   ]
  },
  {
   "cell_type": "code",
   "execution_count": null,
   "metadata": {
    "colab": {},
    "colab_type": "code",
    "id": "CRWV1ryH_eWv"
   },
   "outputs": [],
   "source": [
    "import numpy as np\n",
    "from lfw_dataset import fetch_lfw_dataset\n",
    "from sklearn.model_selection import train_test_split\n",
    "X, attr = fetch_lfw_dataset(use_raw=True,dimx=38,dimy=38)\n",
    "X = X.transpose([0,3,1,2]).astype('float32') / 256.0\n",
    "\n",
    "img_shape = X.shape[1:]\n",
    "\n",
    "X_train, X_test = train_test_split(X, test_size=0.1,random_state=42)"
   ]
  },
  {
   "cell_type": "code",
   "execution_count": null,
   "metadata": {
    "colab": {},
    "colab_type": "code",
    "id": "3fAdhPn2_eWy"
   },
   "outputs": [],
   "source": [
    "X_train_tensor = torch.from_numpy(X_train).type(torch.DoubleTensor)\n",
    "X_test_tensor = torch.Tensor(X_test).type(torch.DoubleTensor)"
   ]
  },
  {
   "cell_type": "code",
   "execution_count": null,
   "metadata": {
    "colab": {
     "base_uri": "https://localhost:8080/",
     "height": 34
    },
    "colab_type": "code",
    "id": "FV1efJSM_eW0",
    "outputId": "596483c3-ac4d-4cd1-8ba8-46bac2a6a5eb"
   },
   "outputs": [],
   "source": [
    "img_shape"
   ]
  },
  {
   "cell_type": "code",
   "execution_count": null,
   "metadata": {
    "colab": {
     "base_uri": "https://localhost:8080/",
     "height": 302
    },
    "colab_type": "code",
    "id": "MSVm1sIK_eW4",
    "outputId": "c6fad4ae-2cda-4f9e-b6dc-9d3088bef93f"
   },
   "outputs": [],
   "source": [
    "%matplotlib inline\n",
    "import matplotlib.pyplot as plt\n",
    "plt.title('sample image')\n",
    "for i in range(6):\n",
    "    plt.subplot(2,3,i+1)\n",
    "    plt.imshow(X[i].transpose([1,2,0]))\n",
    "\n",
    "print(\"X shape:\",X.shape)\n",
    "print(\"attr shape:\",attr.shape)"
   ]
  },
  {
   "cell_type": "markdown",
   "metadata": {
    "colab_type": "text",
    "id": "csBv6bf1_eW7"
   },
   "source": [
    "### Autoencoder architecture\n",
    "\n",
    "Let's design autoencoder as a single lasagne network, going from input image through bottleneck into the reconstructed image.\n",
    "\n",
    "<img src=\"http://nghiaho.com/wp-content/uploads/2012/12/autoencoder_network1.png\" width=640px>\n",
    "\n"
   ]
  },
  {
   "cell_type": "markdown",
   "metadata": {
    "colab_type": "text",
    "id": "O6fFezL-_eW8"
   },
   "source": [
    "## First step: PCA\n",
    "\n",
    "Principial Component Analysis is a popular dimensionality reduction method. \n",
    "\n",
    "Under the hood, PCA attempts to decompose object-feature matrix $X$ into two smaller matrices: $W$ and $\\hat W$ minimizing _mean squared error_:\n",
    "\n",
    "$$\\|(X W) \\hat{W} - X\\|^2_2 \\to_{W, \\hat{W}} \\min$$\n",
    "- $X \\in \\mathbb{R}^{n \\times m}$ - object matrix (**centered**);\n",
    "- $W \\in \\mathbb{R}^{m \\times d}$ - matrix of direct transformation;\n",
    "- $\\hat{W} \\in \\mathbb{R}^{d \\times m}$ - matrix of reverse transformation;\n",
    "- $n$ samples, $m$ original dimensions and $d$ target dimensions;\n",
    "\n",
    "In geometric terms, we want to find d axes along which most of variance occurs. The \"natural\" axes, if you wish.\n",
    "\n",
    "![](https://upload.wikimedia.org/wikipedia/commons/thumb/9/90/PCA_fish.png/256px-PCA_fish.png)\n",
    "\n",
    "\n",
    "PCA can also be seen as a special case of an autoencoder.\n",
    "\n",
    "* __Encoder__: X -> Dense(d units) -> code\n",
    "* __Decoder__: code -> Dense(m units) -> X\n",
    "\n",
    "Where Dense is a fully-connected layer with linear activaton:   $f(X) = W \\cdot X + \\vec b $\n",
    "\n",
    "\n",
    "Note: the bias term in those layers is responsible for \"centering\" the matrix i.e. substracting mean."
   ]
  },
  {
   "cell_type": "code",
   "execution_count": null,
   "metadata": {
    "colab": {},
    "colab_type": "code",
    "id": "2JTeWcCc_eW9"
   },
   "outputs": [],
   "source": [
    "# this class corresponds to view-function and may be used as a reshape layer \n",
    "\n",
    "class View(nn.Module):\n",
    "    def __init__(self, *shape):\n",
    "        super(View, self).__init__()\n",
    "        self.shape = shape\n",
    "    def forward(self, input):\n",
    "        return input.view(*self.shape)"
   ]
  },
  {
   "cell_type": "code",
   "execution_count": null,
   "metadata": {
    "colab": {},
    "colab_type": "code",
    "id": "gB5hwVLe_eW_"
   },
   "outputs": [],
   "source": [
    "class pca_autoencoder(nn.Module):\n",
    "    \"\"\"\n",
    "    Here we define a simple linear autoencoder as described above.\n",
    "    We also flatten and un-flatten data to be compatible with image shapes\n",
    "    \"\"\"\n",
    "    \n",
    "    def __init__(self, code_size=32):\n",
    "        super(pca_autoencoder, self).__init__()\n",
    "        self.enc = #<Your code: define encoder layer>\n",
    "        self.dec = #<Your code: define decoder layer>\n",
    "    \n",
    "    def batch_loss(self, batch):\n",
    "        reconstruction = #<Your code: define reconstruction object>\n",
    "        return torch.mean((batch - reconstruction)**2)\n",
    "    "
   ]
  },
  {
   "cell_type": "markdown",
   "metadata": {
    "colab_type": "text",
    "id": "69_Da_I7_eXB"
   },
   "source": [
    "### Train the model\n",
    "\n",
    "As usual, iterate minibatches of data and call train_step, then evaluate loss on validation data.\n",
    "\n",
    "__Note to py2 users:__ you can safely drop `flush=True` from any code below."
   ]
  },
  {
   "cell_type": "code",
   "execution_count": null,
   "metadata": {
    "colab": {},
    "colab_type": "code",
    "id": "7sbvg3Z__eXD"
   },
   "outputs": [],
   "source": [
    "def train(model, dataset, num_epoch=32):\n",
    "    model.double()\n",
    "    model.to(device)\n",
    "    gd = optim.Adamax(model.parameters(), lr=0.002)\n",
    "    dataloader = DataLoader(dataset, batch_size=BATCH_SIZE, shuffle=True)\n",
    "    losses = []\n",
    "    for epoch in range(num_epoch):\n",
    "        for i, (batch) in enumerate(dataloader):\n",
    "            gd.zero_grad()\n",
    "            loss = model.batch_loss(batch.cuda())\n",
    "            (loss).backward()\n",
    "            losses.append(loss.detach().cpu().numpy())\n",
    "            gd.step()\n",
    "            gd.zero_grad()\n",
    "        print(\"#%i, Train loss: %.7f\"%(epoch+1,np.mean(losses)),flush=True)"
   ]
  },
  {
   "cell_type": "code",
   "execution_count": null,
   "metadata": {
    "colab": {},
    "colab_type": "code",
    "id": "wj7YPamq_eXF"
   },
   "outputs": [],
   "source": [
    "def visualize(img, model):\n",
    "    \"\"\"Draws original, encoded and decoded images\"\"\"\n",
    "    code = model.enc(img[None].cuda())\n",
    "    reco = model.dec(code)\n",
    "\n",
    "    plt.subplot(1,3,1)\n",
    "    plt.title(\"Original\")\n",
    "    plt.imshow(img.cpu().numpy().transpose([1, 2, 0]).clip(0, 1))\n",
    "\n",
    "    plt.subplot(1,3,2)\n",
    "    plt.title(\"Code\")\n",
    "    plt.imshow(code.cpu().detach().numpy().reshape([code.shape[-1] // 2, -1]))\n",
    "\n",
    "    plt.subplot(1,3,3)\n",
    "    plt.title(\"Reconstructed\")\n",
    "    plt.imshow(reco[0].cpu().detach().numpy().transpose([1, 2, 0]).clip(0, 1))\n",
    "    plt.show()\n"
   ]
  },
  {
   "cell_type": "code",
   "execution_count": null,
   "metadata": {
    "colab": {
     "base_uri": "https://localhost:8080/",
     "height": 697
    },
    "colab_type": "code",
    "id": "4jkVqhLd_eXI",
    "outputId": "8dc6d9eb-3586-4c29-c0cb-7bee25e55d13"
   },
   "outputs": [],
   "source": [
    "aenc = pca_autoencoder()\n",
    "train(aenc, X_train_tensor, 40)"
   ]
  },
  {
   "cell_type": "code",
   "execution_count": null,
   "metadata": {
    "colab": {
     "base_uri": "https://localhost:8080/",
     "height": 34
    },
    "colab_type": "code",
    "id": "RqTUvLp8_eXM",
    "outputId": "1ab49844-7289-4d63-d6cc-78dbe1590985"
   },
   "outputs": [],
   "source": [
    "dataloader_test = DataLoader(X_test_tensor, batch_size=BATCH_SIZE, shuffle=True)\n",
    "scores = []\n",
    "for i, (batch) in enumerate(dataloader_test):\n",
    "    scores.append(aenc.batch_loss(batch.cuda()).data.cpu().numpy())\n",
    "print (np.mean(scores))"
   ]
  },
  {
   "cell_type": "code",
   "execution_count": null,
   "metadata": {
    "colab": {
     "base_uri": "https://localhost:8080/",
     "height": 1332
    },
    "colab_type": "code",
    "id": "cvljk13x_eXP",
    "outputId": "6567bcc1-4089-4d01-c05d-8fad2e885a35"
   },
   "outputs": [],
   "source": [
    "for i in range(5):\n",
    "    img = X_test_tensor[i]\n",
    "    visualize(img,aenc)\n"
   ]
  },
  {
   "cell_type": "markdown",
   "metadata": {
    "colab_type": "text",
    "id": "NIurZSFN_eXV"
   },
   "source": [
    "### Going deeper\n",
    "\n",
    "PCA is neat but surely we can do better. This time we want you to build a deep autoencoder by... stacking more layers.\n",
    "\n",
    "In particular, your encoder and decoder should be at least 3 layers deep each. You can use any nonlinearity you want and any number of hidden units in non-bottleneck layers provided you can actually afford training it.\n",
    "\n",
    "![layers](https://pbs.twimg.com/media/CYggEo-VAAACg_n.png:small)\n",
    "\n",
    "A few sanity checks:\n",
    "* There shouldn't be any hidden layer smaller than bottleneck (encoder output).\n",
    "* Don't forget to insert nonlinearities between intermediate dense layers.\n",
    "* Convolutional layers are good idea. To undo convolution use L.Deconv2D, pooling - L.UpSampling2D.\n",
    "* Adding activation after bottleneck is allowed, but not strictly necessary."
   ]
  },
  {
   "cell_type": "code",
   "execution_count": null,
   "metadata": {
    "colab": {},
    "colab_type": "code",
    "id": "IGP0HAr3_eXW"
   },
   "outputs": [],
   "source": [
    "class pca_autoencoder_deep(nn.Module):\n",
    "    def __init__(self, code_size=32):\n",
    "        super(pca_autoencoder_deep, self).__init__()\n",
    "        self.enc = #<Your code: define encoder as per instructions above>\n",
    "        self.dec = #<Your code: define decoder as per instructions above>\n",
    "    \n",
    "    def batch_loss(self, batch):\n",
    "        reconstruction = #<Your code: define reconstruction object>\n",
    "        return torch.mean((batch - reconstruction)**2)"
   ]
  },
  {
   "cell_type": "code",
   "execution_count": null,
   "metadata": {
    "colab": {
     "base_uri": "https://localhost:8080/",
     "height": 867
    },
    "colab_type": "code",
    "id": "vtSWYDsB_eXc",
    "outputId": "55caa8ab-7c68-46b8-9743-0f28b3311469"
   },
   "outputs": [],
   "source": [
    "aenc_deep = pca_autoencoder_deep()\n",
    "train(aenc_deep, X_train_tensor, 50)"
   ]
  },
  {
   "cell_type": "markdown",
   "metadata": {
    "colab_type": "text",
    "id": "tLkLF1hC_eXh"
   },
   "source": [
    "Training may take long, it's okay."
   ]
  },
  {
   "cell_type": "markdown",
   "metadata": {
    "colab_type": "text",
    "id": "twGO5gAa4n7Y"
   },
   "source": [
    "**Check autoencoder shapes along different code_sizes. Check architecture of you encoder-decoder network is correct**"
   ]
  },
  {
   "cell_type": "code",
   "execution_count": null,
   "metadata": {
    "colab": {
     "base_uri": "https://localhost:8080/",
     "height": 136
    },
    "colab_type": "code",
    "id": "HmR7ot5__eXi",
    "outputId": "46eaef3b-ab3d-4d55-8d51-0c2d35c90533"
   },
   "outputs": [],
   "source": [
    "get_dim = lambda layer: np.prod(layer.output_shape[1:])\n",
    "for code_size in [1,8,32,128,512,1024]:\n",
    "    help_tensor = next(iter(DataLoader(X_train_tensor, batch_size=BATCH_SIZE)))\n",
    "    model = pca_autoencoder_deep(code_size).to(device)\n",
    "    encoder_out = model.enc(help_tensor.type('torch.FloatTensor').cuda())\n",
    "    decoder_out = model.dec(encoder_out)\n",
    "    print(\"Testing code size %i\" % code_size)\n",
    "\n",
    "    assert encoder_out.shape[1:]==torch.Size([code_size]),\"encoder must output a code of required size\"\n",
    "    assert decoder_out.shape[1:]==img_shape,   \"decoder must output an image of valid shape\"\n",
    "\n",
    "    assert (len(list(model.dec.children())) >= 6),  \"decoder must contain at least 3 dense layers\"\n",
    "\n",
    "print(\"All tests passed!\")"
   ]
  },
  {
   "cell_type": "markdown",
   "metadata": {
    "colab_type": "text",
    "id": "GiNYsxJQ_eXk"
   },
   "source": [
    "__Hint:__ if you're getting \"Encoder layer is smaller than bottleneck\" error, use code_size when defining intermediate layers. \n",
    "\n",
    "For example, such layer may have code_size*2 units."
   ]
  },
  {
   "cell_type": "markdown",
   "metadata": {
    "colab_type": "text",
    "id": "tkJCskEvyixo"
   },
   "source": [
    "** Lets check you model's score. You should beat value of 0.005 **"
   ]
  },
  {
   "cell_type": "code",
   "execution_count": null,
   "metadata": {
    "colab": {
     "base_uri": "https://localhost:8080/",
     "height": 1349
    },
    "colab_type": "code",
    "id": "khcs90Yi_eXl",
    "outputId": "ec79444d-7be6-4a7d-9a87-3f7d60b8aa10"
   },
   "outputs": [],
   "source": [
    "dataloader_test = DataLoader(X_test_tensor, batch_size=BATCH_SIZE, shuffle=True)\n",
    "scores = []\n",
    "for i, (batch) in enumerate(dataloader_test):\n",
    "    scores.append(aenc_deep.batch_loss(batch.cuda(device = device)).data.cpu().numpy())\n",
    "    encoder_out = aenc_deep.enc(batch.cuda(device = device))\n",
    "reconstruction_mse  = np.mean(scores)\n",
    "\n",
    "assert reconstruction_mse <= 0.005, \"Compression is too lossy. See tips below.\"\n",
    "assert len(encoder_out.shape)==2 and encoder_out.shape[1]==32, \"Make sure encoder has code_size units\"\n",
    "print(\"Final MSE:\", reconstruction_mse)\n",
    "for i in range(5):\n",
    "    img = X_test_tensor[i]\n",
    "    visualize(img,aenc_deep)"
   ]
  },
  {
   "cell_type": "markdown",
   "metadata": {
    "colab_type": "text",
    "id": "KNlhwrtc_eXo"
   },
   "source": [
    "__Tips:__ If you keep getting \"Compression to lossy\" error, there's a few things you might try:\n",
    "\n",
    "* Make sure it converged. Some architectures need way more than 32 epochs to converge. They may fluctuate a lot, but eventually they're going to get good enough to pass. You may train your network for as long as you want.\n",
    "\n",
    "* Complexity. If you already have, like, 152 layers and still not passing threshold, you may wish to start from something simpler instead and go in small incremental steps.\n",
    "\n",
    "* Architecture. You can use any combination of layers (including convolutions, normalization, etc) as long as __encoder output only stores 32 numbers per training object__. \n",
    "\n",
    "A cunning learner can circumvent this last limitation by using some manual encoding strategy, but he is strongly recommended to avoid that."
   ]
  },
  {
   "cell_type": "markdown",
   "metadata": {
    "colab_type": "text",
    "id": "JQkFuzTz_eXp"
   },
   "source": [
    "## Denoising AutoEncoder\n",
    "\n",
    "Let's now make our model into a denoising autoencoder.\n",
    "\n",
    "We'll keep your model architecture, but change the way it trains. In particular, we'll corrupt it's input data randomly before each epoch.\n",
    "\n",
    "There are many strategies to apply noise. We'll implement two popular one: adding gaussian noise and using dropout."
   ]
  },
  {
   "cell_type": "code",
   "execution_count": null,
   "metadata": {
    "colab": {},
    "colab_type": "code",
    "id": "sQUS359N_eXq"
   },
   "outputs": [],
   "source": [
    "def apply_gaussian_noise(X,sigma=0.1):\n",
    "    \"\"\"\n",
    "    adds noise from normal distribution with standard deviation sigma\n",
    "    :param X: image tensor of shape [batch,height,width,3]\n",
    "    \"\"\"\n",
    "        \n",
    "    #<Your code: define noise>\n",
    "        \n",
    "    return X + noise\n",
    "    "
   ]
  },
  {
   "cell_type": "markdown",
   "metadata": {
    "colab_type": "text",
    "id": "xy71ZmuPz1il"
   },
   "source": [
    "**noise tests**"
   ]
  },
  {
   "cell_type": "code",
   "execution_count": null,
   "metadata": {
    "colab": {},
    "colab_type": "code",
    "id": "pslPEzXS_eXs"
   },
   "outputs": [],
   "source": [
    "\n",
    "theoretical_std = (X[:100].std()**2 + 0.5**2)**.5\n",
    "our_std = apply_gaussian_noise(X[:100],sigma=0.5).std()\n",
    "assert abs(theoretical_std - our_std) < 0.01, \"Standard deviation does not match it's required value. Make sure you use sigma as std.\"\n",
    "assert abs(apply_gaussian_noise(X[:100],sigma=0.5).mean() - X[:100].mean()) < 0.01, \"Mean has changed. Please add zero-mean noise\""
   ]
  },
  {
   "cell_type": "code",
   "execution_count": null,
   "metadata": {
    "colab": {
     "base_uri": "https://localhost:8080/",
     "height": 141
    },
    "colab_type": "code",
    "id": "unMfBi8q_eXu",
    "outputId": "0f0f446f-ae38-481d-d7dd-8e0b1290795e"
   },
   "outputs": [],
   "source": [
    "plt.subplot(1,4,1)\n",
    "plt.imshow(X[0].transpose([1,2,0]))\n",
    "plt.subplot(1,4,2)\n",
    "plt.imshow(apply_gaussian_noise(X[:1],sigma=0.01)[0].transpose([1,2,0]).clip(0, 1))\n",
    "plt.subplot(1,4,3)\n",
    "plt.imshow(apply_gaussian_noise(X[:1],sigma=0.1)[0].transpose([1,2,0]).clip(0, 1))\n",
    "plt.subplot(1,4,4)\n",
    "plt.imshow(apply_gaussian_noise(X[:1],sigma=0.5)[0].transpose([1,2,0]).clip(0, 1))"
   ]
  },
  {
   "cell_type": "code",
   "execution_count": null,
   "metadata": {
    "colab": {},
    "colab_type": "code",
    "id": "9hHGK_Wr_eXx"
   },
   "outputs": [],
   "source": [
    "def train_noise(model, dataset, num_epoch=50):\n",
    "    #<Your code: define train function for denoising autoencoder as train function above>"
   ]
  },
  {
   "cell_type": "code",
   "execution_count": null,
   "metadata": {
    "colab": {},
    "colab_type": "code",
    "id": "MKQK4HJL_eX2"
   },
   "outputs": [],
   "source": [
    "X_train_noise = apply_gaussian_noise(X_train)\n",
    "X_test_noise = apply_gaussian_noise(X_test)"
   ]
  },
  {
   "cell_type": "code",
   "execution_count": null,
   "metadata": {
    "colab": {},
    "colab_type": "code",
    "id": "8ClYTlpa_eX4"
   },
   "outputs": [],
   "source": [
    "X_train_tensor_n = torch.from_numpy(X_train_noise).type(torch.DoubleTensor)\n",
    "X_test_tensor_n = torch.Tensor(X_test_noise).type(torch.DoubleTensor)"
   ]
  },
  {
   "cell_type": "code",
   "execution_count": null,
   "metadata": {
    "colab": {
     "base_uri": "https://localhost:8080/",
     "height": 867
    },
    "colab_type": "code",
    "id": "fVD2-ujS_eX8",
    "outputId": "a7757a50-c871-449a-f664-4d719e44b4ae"
   },
   "outputs": [],
   "source": [
    "aenc = pca_autoencoder()\n",
    "train(aenc, X_train_tensor_n, 50)"
   ]
  },
  {
   "cell_type": "markdown",
   "metadata": {
    "colab_type": "text",
    "id": "mlekH4ww_eX_"
   },
   "source": [
    "__Note:__ if it hasn't yet converged, increase the number of iterations.\n",
    "\n",
    "__Bonus:__ replace gaussian noise with masking random rectangles on image."
   ]
  },
  {
   "cell_type": "markdown",
   "metadata": {
    "colab_type": "text",
    "id": "HVj0NPXV3liL"
   },
   "source": [
    "** Let's evaluate!!! **"
   ]
  },
  {
   "cell_type": "code",
   "execution_count": null,
   "metadata": {
    "colab": {
     "base_uri": "https://localhost:8080/",
     "height": 1349
    },
    "colab_type": "code",
    "id": "pr1Drxb1_eX_",
    "outputId": "daec01b0-18df-4547-c86e-a18ed4dcac60"
   },
   "outputs": [],
   "source": [
    "dataloader_test = DataLoader(X_test_tensor_n, batch_size=BATCH_SIZE, shuffle=True)\n",
    "scores = []\n",
    "for i, (batch) in enumerate(dataloader_test):\n",
    "    scores.append(aenc.batch_loss(batch.cuda(device = device)).data.cpu().numpy())\n",
    "    encoder_out = aenc.enc(batch.cuda(device = device))\n",
    "reconstruction_mse  = np.mean(scores)\n",
    "\n",
    "print(\"Final MSE:\", reconstruction_mse)\n",
    "for i in range(5):\n",
    "    img = X_test_tensor_n[i]\n",
    "    visualize(img,aenc)"
   ]
  },
  {
   "cell_type": "markdown",
   "metadata": {
    "colab_type": "text",
    "id": "weU6quCI_eYE"
   },
   "source": [
    "### Image retrieval with autoencoders\n",
    "\n",
    "So we've just trained a network that converts image into itself imperfectly. This task is not that useful in and of itself, but it has a number of awesome side-effects. Let's see it in action.\n",
    "\n",
    "First thing we can do is image retrieval aka image search. We we give it an image and find similar images in latent space. \n",
    "\n",
    "To speed up retrieval process, we shall use Locality-Sensitive Hashing on top of encoded vectors. We'll use scikit-learn's implementation for simplicity. In practical scenario, you may want to use [specialized libraries](https://erikbern.com/2015/07/04/benchmark-of-approximate-nearest-neighbor-libraries.html) for better performance and customization."
   ]
  },
  {
   "cell_type": "code",
   "execution_count": null,
   "metadata": {
    "colab": {},
    "colab_type": "code",
    "id": "afiR-pC3_eYG"
   },
   "outputs": [],
   "source": [
    "#encodes batch of images into a codes\n",
    "\n",
    "\n",
    "codes = #<Your code:encode all images in X_train_tensor>\n"
   ]
  },
  {
   "cell_type": "code",
   "execution_count": null,
   "metadata": {
    "colab": {},
    "colab_type": "code",
    "id": "nojmuKtb_eYI"
   },
   "outputs": [],
   "source": [
    "assert codes.shape[0] == X_train_tensor.shape[0]"
   ]
  },
  {
   "cell_type": "code",
   "execution_count": null,
   "metadata": {
    "colab": {
     "base_uri": "https://localhost:8080/",
     "height": 51
    },
    "colab_type": "code",
    "id": "GfGatyHi_eYK",
    "outputId": "155b0183-c7e4-4bd5-fb01-e0886a5eab52"
   },
   "outputs": [],
   "source": [
    "from sklearn.neighbors import LSHForest\n",
    "lshf = LSHForest(n_estimators=50).fit(codes.detach().cpu().numpy())"
   ]
  },
  {
   "cell_type": "code",
   "execution_count": null,
   "metadata": {
    "colab": {},
    "colab_type": "code",
    "id": "FYhbhxLz_eYN"
   },
   "outputs": [],
   "source": [
    "images = torch.from_numpy(X_train).type(torch.DoubleTensor)"
   ]
  },
  {
   "cell_type": "code",
   "execution_count": null,
   "metadata": {
    "colab": {},
    "colab_type": "code",
    "id": "shw1V6Zn_eYP"
   },
   "outputs": [],
   "source": [
    "def get_similar(image, n_neighbors=5):\n",
    "    assert len(image.shape)==3,\"image must be [batch,height,width,3]\"\n",
    "\n",
    "    code = aenc.enc(image.cuda(device)).detach().cpu().numpy()\n",
    "    \n",
    "    (distances,),(idx,) = #<Your code: using lshf.kneighbors find nearest neighbors>\n",
    "    \n",
    "    return distances,images[idx]"
   ]
  },
  {
   "cell_type": "code",
   "execution_count": null,
   "metadata": {
    "colab": {},
    "colab_type": "code",
    "id": "5JkabL1A_eYQ"
   },
   "outputs": [],
   "source": [
    "def show_similar(image):\n",
    "    \n",
    "    distances,neighbors = get_similar(image,n_neighbors=11)\n",
    "    \n",
    "    plt.figure(figsize=[8,6])\n",
    "    plt.subplot(3,4,1)\n",
    "    plt.imshow(image.cpu().numpy().transpose([1,2,0]))\n",
    "    plt.title(\"Original image\")\n",
    "    \n",
    "    for i in range(11):\n",
    "        plt.subplot(3,4,i+2)\n",
    "        plt.imshow(neighbors[i].cpu().numpy().transpose([1,2,0]))\n",
    "        plt.title(\"Dist=%.3f\"%distances[i])\n",
    "    plt.show()"
   ]
  },
  {
   "cell_type": "code",
   "execution_count": null,
   "metadata": {
    "colab": {
     "base_uri": "https://localhost:8080/",
     "height": 389
    },
    "colab_type": "code",
    "id": "VG_0tXSq_eYT",
    "outputId": "b47d1a24-4e97-4752-c5b3-e7a5f14cd304"
   },
   "outputs": [],
   "source": [
    "#smiles\n",
    "show_similar(X_test_tensor[2])"
   ]
  },
  {
   "cell_type": "code",
   "execution_count": null,
   "metadata": {
    "colab": {
     "base_uri": "https://localhost:8080/",
     "height": 389
    },
    "colab_type": "code",
    "id": "4Z25ZSQO_eYV",
    "outputId": "34a91c49-6cd7-4929-abc8-7734cadb0f55"
   },
   "outputs": [],
   "source": [
    "#ethnicity\n",
    "show_similar(X_test_tensor[500])"
   ]
  },
  {
   "cell_type": "code",
   "execution_count": null,
   "metadata": {
    "colab": {
     "base_uri": "https://localhost:8080/",
     "height": 389
    },
    "colab_type": "code",
    "id": "uPyK6-vk_eYf",
    "outputId": "b4b7c73d-aa52-477e-fd0b-d12944804a89"
   },
   "outputs": [],
   "source": [
    "#glasses\n",
    "show_similar(X_test_tensor[66])"
   ]
  },
  {
   "cell_type": "markdown",
   "metadata": {
    "colab_type": "text",
    "collapsed": true,
    "id": "piVrNWXZ_eYn"
   },
   "source": [
    "## Cheap image morphing\n"
   ]
  },
  {
   "cell_type": "markdown",
   "metadata": {
    "colab_type": "text",
    "id": "DYqDtg6K2z5e"
   },
   "source": [
    "Here you should take two full-sized objects, code it and obtain intermediate object by decoding an intermixture code.\n",
    "\n",
    "$Code_{mixt} = a1\\cdot code1 + a2\\cdot code2$"
   ]
  },
  {
   "cell_type": "code",
   "execution_count": null,
   "metadata": {
    "colab": {
     "base_uri": "https://localhost:8080/",
     "height": 706
    },
    "colab_type": "code",
    "id": "IFDk4E7N_eYr",
    "outputId": "f2213955-faa5-4e28-b851-b04e5286095d"
   },
   "outputs": [],
   "source": [
    "\n",
    "for _ in range(5):\n",
    "    image1,image2 =#<Your code:choose two image randomly>\n",
    "\n",
    "    code1, code2 = #<Your code:decode it>\n",
    "\n",
    "\n",
    "    plt.figure(figsize=[10,4])\n",
    "    for i,a in enumerate(np.linspace(0,1,num=7)):\n",
    "\n",
    "        output_code = #<Your code:define intermixture code>\n",
    "\n",
    "        output_image = aenc.dec(output_code[None])[0]\n",
    "        plt.subplot(1,7,i+1)\n",
    "        plt.imshow(output_image.cpu().detach().numpy().transpose([1,2,0]))\n",
    "        plt.title(\"a=%.2f\"%a)\n",
    "        \n",
    "    plt.show()"
   ]
  },
  {
   "cell_type": "markdown",
   "metadata": {
    "colab_type": "text",
    "collapsed": true,
    "id": "lKZTo47L_eYu"
   },
   "source": [
    "Of course there's a lot more you can do with autoencoders.\n",
    "\n",
    "If you want to generate images from scratch, however, we recommend you our honor track seminar about generative adversarial networks."
   ]
  }
 ],
 "metadata": {
  "accelerator": "GPU",
  "colab": {
   "collapsed_sections": [],
   "name": "autoencoders_collab.ipynb",
   "provenance": [],
   "version": "0.3.2"
  },
  "kernelspec": {
   "display_name": "Python 3",
   "language": "python",
   "name": "python3"
  },
  "language_info": {
   "codemirror_mode": {
    "name": "ipython",
    "version": 3
   },
   "file_extension": ".py",
   "mimetype": "text/x-python",
   "name": "python",
   "nbconvert_exporter": "python",
   "pygments_lexer": "ipython3",
   "version": "3.6.2"
  }
 },
 "nbformat": 4,
 "nbformat_minor": 1
}
