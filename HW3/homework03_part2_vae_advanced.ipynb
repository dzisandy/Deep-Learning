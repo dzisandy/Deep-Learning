{
  "nbformat": 4,
  "nbformat_minor": 0,
  "metadata": {
    "colab": {
      "name": "homework03_part2_vae_advanced.ipynb",
      "version": "0.3.2",
      "provenance": []
    },
    "language_info": {
      "codemirror_mode": {
        "name": "ipython",
        "version": 3
      },
      "file_extension": ".py",
      "mimetype": "text/x-python",
      "name": "python",
      "nbconvert_exporter": "python",
      "pygments_lexer": "ipython3",
      "version": "3.6.6"
    },
    "kernelspec": {
      "name": "python3",
      "display_name": "Python 3"
    },
    "accelerator": "GPU"
  },
  "cells": [
    {
      "metadata": {
        "id": "JSMXimj9f8e9",
        "colab_type": "text"
      },
      "cell_type": "markdown",
      "source": [
        "# Variational Autoencoder (VAE)"
      ]
    },
    {
      "metadata": {
        "id": "iWwFJ7mJf8fC",
        "colab_type": "text"
      },
      "cell_type": "markdown",
      "source": [
        "Useful links: \n",
        "* Original paper http://arxiv.org/abs/1312.6114\n",
        "* Helpful videos explaining the topic \n",
        "   * https://www.youtube.com/watch?v=P78QYjWh5sM     \n",
        "   * http://videolectures.net/deeplearning2015_courville_autoencoder_extension/?q=aaron%20courville"
      ]
    },
    {
      "metadata": {
        "id": "1QL_D2IAf8fE",
        "colab_type": "text"
      },
      "cell_type": "markdown",
      "source": [
        "In this homework we will train an autoencoder to model images of faces. For this we take \"Labeled Faces in the Wild\" dataset (LFW) (http://vis-www.cs.umass.edu/lfw/), deep funneled version of it. (frontal view of all faces)\n"
      ]
    },
    {
      "metadata": {
        "id": "-8ACXUC4f8fG",
        "colab_type": "text"
      },
      "cell_type": "markdown",
      "source": [
        "## Prepare the data"
      ]
    },
    {
      "metadata": {
        "id": "CqAUvyBuf8fH",
        "colab_type": "code",
        "colab": {}
      },
      "cell_type": "code",
      "source": [
        "import numpy as np\n",
        "from torch.autograd import Variable\n",
        "import torch.nn as nn\n",
        "import torch.nn.functional as F\n",
        "import torch.optim as optim\n",
        "import torch.utils.data as data_utils\n",
        "import torch\n",
        "import matplotlib.pyplot as plt\n",
        "%matplotlib inline\n",
        "from tqdm import trange\n",
        "from IPython import display"
      ],
      "execution_count": 0,
      "outputs": []
    },
    {
      "metadata": {
        "id": "4eiI8ks-f8fQ",
        "colab_type": "text"
      },
      "cell_type": "markdown",
      "source": [
        "**Collab setting**"
      ]
    },
    {
      "metadata": {
        "id": "ZD2uYu3Qf8fS",
        "colab_type": "code",
        "outputId": "bd5de4c6-fba8-4371-d96a-8440741a3224",
        "colab": {
          "base_uri": "https://localhost:8080/",
          "height": 233
        }
      },
      "cell_type": "code",
      "source": [
        "# if you're running in colab,\n",
        "# 1. go to Runtime -> Change Runtimy Type -> GPU\n",
        "# 2. uncomment this:\n",
        "!wget https://raw.githubusercontent.com/yandexdataschool/Practical_DL/hw3_19/homework03/lfw_dataset.py -O lfw_dataset.py"
      ],
      "execution_count": 2,
      "outputs": [
        {
          "output_type": "stream",
          "text": [
            "--2019-04-28 20:09:57--  https://raw.githubusercontent.com/yandexdataschool/Practical_DL/hw3_19/homework03/lfw_dataset.py\n",
            "Resolving raw.githubusercontent.com (raw.githubusercontent.com)... 151.101.0.133, 151.101.64.133, 151.101.128.133, ...\n",
            "Connecting to raw.githubusercontent.com (raw.githubusercontent.com)|151.101.0.133|:443... connected.\n",
            "HTTP request sent, awaiting response... 200 OK\n",
            "Length: 2734 (2.7K) [text/plain]\n",
            "Saving to: ‘lfw_dataset.py’\n",
            "\n",
            "\rlfw_dataset.py        0%[                    ]       0  --.-KB/s               \rlfw_dataset.py      100%[===================>]   2.67K  --.-KB/s    in 0s      \n",
            "\n",
            "2019-04-28 20:09:57 (58.6 MB/s) - ‘lfw_dataset.py’ saved [2734/2734]\n",
            "\n"
          ],
          "name": "stdout"
        }
      ]
    },
    {
      "metadata": {
        "id": "f0iBLT9of8fY",
        "colab_type": "code",
        "colab": {}
      },
      "cell_type": "code",
      "source": [
        "# The following line fetches you two datasets: images, usable for autoencoder training and attributes.\n",
        "# Those attributes will be required for the final part of the assignment (applying smiles), so please keep them in mind\n",
        "from lfw_dataset import fetch_lfw_dataset\n",
        "data,attrs = fetch_lfw_dataset(dimx=36,dimy=36)\n"
      ],
      "execution_count": 0,
      "outputs": []
    },
    {
      "metadata": {
        "id": "RdTacJAuf8fd",
        "colab_type": "code",
        "colab": {}
      },
      "cell_type": "code",
      "source": [
        "data = data/255\n",
        "np.savez(\"real.npz\", Pictures=data.reshape(data.shape[0], 36*36*3))"
      ],
      "execution_count": 0,
      "outputs": []
    },
    {
      "metadata": {
        "scrolled": true,
        "id": "oF50dwUGf8fk",
        "colab_type": "code",
        "colab": {}
      },
      "cell_type": "code",
      "source": [
        "X_train = data[:10000].reshape((10000, -1))\n",
        "print(X_train.shape)\n",
        "X_val = data[10000:].reshape((-1, X_train.shape[1]))\n",
        "print(X_val.shape)\n",
        "\n",
        "image_h = data.shape[1]\n",
        "image_w = data.shape[2]"
      ],
      "execution_count": 0,
      "outputs": []
    },
    {
      "metadata": {
        "id": "tEbZkyfmf8fp",
        "colab_type": "text"
      },
      "cell_type": "markdown",
      "source": [
        "For simplicity we want all values of the data to lie in the interval $[0,1]$:"
      ]
    },
    {
      "metadata": {
        "id": "u2PhoDBcf8fr",
        "colab_type": "code",
        "colab": {}
      },
      "cell_type": "code",
      "source": [
        "X_train = np.float32(X_train)\n",
        "X_val = np.float32(X_val)"
      ],
      "execution_count": 0,
      "outputs": []
    },
    {
      "metadata": {
        "id": "Py9uYVhKf8fw",
        "colab_type": "code",
        "colab": {}
      },
      "cell_type": "code",
      "source": [
        "def plot_gallery(images, h, w, n_row=3, n_col=6):\n",
        "    \"\"\"Helper function to plot a gallery of portraits\"\"\"\n",
        "    plt.figure(figsize=(1.5 * n_col, 1.7 * n_row))\n",
        "    plt.subplots_adjust(bottom=0, left=.01, right=.99, top=.90, hspace=.35)\n",
        "    for i in range(n_row * n_col):\n",
        "        plt.subplot(n_row, n_col, i + 1)\n",
        "        plt.imshow(images[i].reshape((h, w, 3)), cmap=plt.cm.gray, vmin=-1, vmax=1, interpolation='nearest')\n",
        "        plt.xticks(())\n",
        "        plt.yticks(())"
      ],
      "execution_count": 0,
      "outputs": []
    },
    {
      "metadata": {
        "id": "-CrLXoutf8f1",
        "colab_type": "code",
        "colab": {}
      },
      "cell_type": "code",
      "source": [
        "plot_gallery(X_train, image_h, image_w)"
      ],
      "execution_count": 0,
      "outputs": []
    },
    {
      "metadata": {
        "id": "5vBFu-Xtf8f8",
        "colab_type": "code",
        "colab": {}
      },
      "cell_type": "code",
      "source": [
        "train = data_utils.TensorDataset(torch.Tensor(X_train), torch.zeros(X_train.shape[0],)) # pseudo labels needed to define TensorDataset\n",
        "train_loader = data_utils.DataLoader(train, batch_size=100, shuffle=True)\n",
        "\n",
        "val = data_utils.TensorDataset(torch.Tensor(X_val), torch.zeros(X_val.shape[0],))\n",
        "val_loader = data_utils.DataLoader(val, batch_size=1, shuffle=False)"
      ],
      "execution_count": 0,
      "outputs": []
    },
    {
      "metadata": {
        "id": "65mYDKb3f8gC",
        "colab_type": "text"
      },
      "cell_type": "markdown",
      "source": [
        "# Autoencoder\n",
        "\n",
        "Why to use all this complicated formulaes and regularizations, what is the need for variational inference? To analyze the difference, let's first train just an autoencoder on the data:\n",
        "\n",
        "<img src=\"https://github.com/dzisandy/Deep-Learning/blob/master/HW3/Autoencoder_structure.png?raw=1\" alt=\"Autoencoder\">"
      ]
    },
    {
      "metadata": {
        "id": "_KrY3L-Ef8gE",
        "colab_type": "code",
        "colab": {}
      },
      "cell_type": "code",
      "source": [
        "dimZ = 128 # Considering face reconstruction task, which size of representation seems reasonable?\n",
        "\n",
        "# Define the decoder and encoder as networks with one hidden fc-layer\n",
        "# (that means you will have 2 fc layers in each net)\n",
        "# Use ReLU for hidden layers' activations\n",
        "# GlorotUniform initialization for W\n",
        "# Zero initialization for biases\n",
        "# It's also convenient to put sigmoid activation on output layer to get nice normalized pics\n",
        "\n",
        "class Autoencoder(nn.Module):\n",
        "    def __init__(self):\n",
        "        super(Autoencoder, self).__init__()\n",
        "        \n",
        "        #TODO \n",
        "        '''https://stackoverflow.com/questions/49433936/how-to-initialize-weights-in-pytorch'''\n",
        "        def initialization(layer):\n",
        "            if type(layer) == nn.Linear:\n",
        "                torch.nn.init.xavier_uniform(layer.weight)\n",
        "                layer.bias.data.fill_(0.)\n",
        "\n",
        "\n",
        "        \n",
        "        self.encoder = nn.Sequential()\n",
        "        self.encoder.add_module('enc_fc_layer_1', nn.Linear(3888, 1024))\n",
        "        self.encoder.add_module('bn_1', nn.BatchNorm1d(1024))\n",
        "        self.encoder.add_module('relu_1', nn.ReLU())\n",
        "        self.encoder.add_module('enc_fc_layer_2', nn.Linear(1024, dimZ))\n",
        "        self.encoder.add_module('bn_2', nn.BatchNorm1d(dimZ))\n",
        "        self.encoder.apply(initialization)\n",
        "        \n",
        "        \n",
        "        self.decoder = nn.Sequential()\n",
        "        self.decoder.add_module('dec_fc_layer_1', nn.Linear(dimZ, 1024))\n",
        "        self.decoder.add_module('bn_1', nn.BatchNorm1d(1024))\n",
        "        self.decoder.add_module('relu_1', nn.ReLU())\n",
        "        self.decoder.add_module('dec_fc_layer_2', nn.Linear(1024, 3888))\n",
        "        self.decoder.add_module('sigmoid', nn.Sigmoid())\n",
        "        self.decoder.apply(initialization)\n",
        "\n",
        "        \n",
        "        \n",
        "    def forward(self, x):\n",
        "        \n",
        "        #TODO\n",
        "        \n",
        "        latent_code = self.encoder(x)\n",
        "        reconstruction = self.decoder(latent_code)\n",
        "        \n",
        "        return reconstruction, latent_code"
      ],
      "execution_count": 0,
      "outputs": []
    },
    {
      "metadata": {
        "id": "rYfbPkgBf8gJ",
        "colab_type": "code",
        "colab": {}
      },
      "cell_type": "code",
      "source": [
        "# Create MSE loss function\n",
        "criterion = torch.nn.MSELoss()\n",
        "\n",
        "autoencoder = Autoencoder().cuda()\n",
        "\n",
        "# Use Adam optimizer\n",
        "optimizer = optim.Adam(autoencoder.parameters())"
      ],
      "execution_count": 0,
      "outputs": []
    },
    {
      "metadata": {
        "scrolled": true,
        "id": "Ibp0vifVf8gO",
        "colab_type": "code",
        "colab": {}
      },
      "cell_type": "code",
      "source": [
        "# Train your autoencoder\n",
        "# Visualize progress in reconstruction and loss decay\n",
        "\n",
        "def loss_cuda(model, criterion, X):\n",
        "    X = Variable(X).cuda()\n",
        "    encode, _ = model(X)\n",
        "    return criterion(encode, X)\n",
        "  \n",
        "def train(model, n_epoch, criterion, optimizer, train_loader, val_loader, image_h, image_w):\n",
        "    train_loss = []\n",
        "    image_progress = []\n",
        "    for epoch in trange(n_epoch):\n",
        "        model.train()\n",
        "        for X in train_loader:\n",
        "            loss = loss_cuda(model, criterion, X[0])\n",
        "            loss.backward()\n",
        "            optimizer.step()\n",
        "            optimizer.zero_grad()\n",
        "            train_loss.append(loss.data.cpu().numpy())\n",
        "        model.eval()\n",
        "        for X in val_loader:\n",
        "            encode, _ = model(Variable(X[0]).cuda())\n",
        "        image_progress.append(encode[0])\n",
        "        display.clear_output(wait = True)\n",
        "        \n",
        "        #reconstruction\n",
        "        plt.figure(figsize = (10,5))\n",
        "        plt.subplot(1,2,1)\n",
        "        plt.imshow(X[0].cpu().numpy().reshape((image_h, image_w, 3)))\n",
        "        plt.title('Original image')\n",
        "        plt.subplot(1,2,2)\n",
        "        plt.imshow(encode.data.cpu().numpy().reshape((image_h, image_w, 3)))\n",
        "        plt.title('Encoded image')\n",
        "        plt.show()\n",
        "        \n",
        "        #loss decay\n",
        "        plt.figure(figsize = (10,5))\n",
        "        plt.plot(train_loss)\n",
        "        plt.title('Train loss')\n",
        "        plt.xlabel('Iteration')\n",
        "        plt.ylabel('Loss')\n",
        "        plt.show()\n",
        "    return image_progress\n",
        "\n",
        "        "
      ],
      "execution_count": 0,
      "outputs": []
    },
    {
      "metadata": {
        "id": "4bfi_YkOvADq",
        "colab_type": "code",
        "colab": {}
      },
      "cell_type": "code",
      "source": [
        "image_progress = train(autoencoder, 2, criterion, optimizer, train_loader, val_loader, image_h, image_w)"
      ],
      "execution_count": 0,
      "outputs": []
    },
    {
      "metadata": {
        "scrolled": true,
        "id": "MfIuVYXKf8gS",
        "colab_type": "code",
        "colab": {}
      },
      "cell_type": "code",
      "source": [
        "# Examine the reconstructions\n",
        "for j, data in enumerate(val_loader, 0):\n",
        "    inp = Variable(data[0].cuda())\n",
        "    pred, _ = autoencoder(inp)\n",
        "    plot_gallery([data[0].numpy(), pred.data.cpu().numpy()], image_h, image_w, n_row=1, n_col=2)\n",
        "    if (j >= 9):\n",
        "        break"
      ],
      "execution_count": 0,
      "outputs": []
    },
    {
      "metadata": {
        "id": "E7R-gTrPf8gZ",
        "colab_type": "text"
      },
      "cell_type": "markdown",
      "source": [
        "Reconstruction is not bad, right? "
      ]
    },
    {
      "metadata": {
        "id": "_Bn3piSff8ga",
        "colab_type": "text"
      },
      "cell_type": "markdown",
      "source": [
        "# Sampling"
      ]
    },
    {
      "metadata": {
        "id": "9v0SW-Xyf8gc",
        "colab_type": "code",
        "colab": {}
      },
      "cell_type": "code",
      "source": [
        "for i, (putin, y) in enumerate(val_loader):\n",
        "    if i == 2754:\n",
        "        break\n",
        "plt.imshow(putin.numpy().reshape((image_w, image_w, 3)))"
      ],
      "execution_count": 0,
      "outputs": []
    },
    {
      "metadata": {
        "scrolled": true,
        "id": "T8qsWAh6f8gg",
        "colab_type": "code",
        "colab": {}
      },
      "cell_type": "code",
      "source": [
        "plt.figure(figsize=(10, 12))\n",
        "plt.suptitle('Twin farm')\n",
        "for i in range(len(image_progress[:2])):\n",
        "    plt.subplots_adjust(bottom=0.0, left=.1, right=.9, top=.50, hspace=.15)\n",
        "    plt.subplot(6, 5, 5*(i//5) + i % 5 + 1)\n",
        "    plt.imshow(image_progress[i].clamp(0,1).data.cpu().numpy().reshape(image_w, image_h, 3))\n",
        "    plt.title('Epoch = {}'.format(i * 5 + 1))\n",
        "    plt.axis('off')\n",
        "plt.tight_layout()\n",
        "plt.show()"
      ],
      "execution_count": 0,
      "outputs": []
    },
    {
      "metadata": {
        "id": "fcFAKOUvf8gl",
        "colab_type": "text"
      },
      "cell_type": "markdown",
      "source": [
        "Let's now sample several latent vectors and perform inference from $z$, reconstruct an image given some random $z$ representations."
      ]
    },
    {
      "metadata": {
        "id": "NLaR-Qc-f8gm",
        "colab_type": "code",
        "colab": {}
      },
      "cell_type": "code",
      "source": [
        "z = (np.random.randn(25, dimZ)*0.5).astype('float32')\n",
        "output = autoencoder.decoder(Variable(torch.from_numpy(z)).cuda()).clamp(0, 1)\n",
        "plot_gallery(output.data.cpu().numpy(), image_h, image_w, n_row=5, n_col=5)"
      ],
      "execution_count": 0,
      "outputs": []
    },
    {
      "metadata": {
        "id": "K2AwT9TTf8gw",
        "colab_type": "text"
      },
      "cell_type": "markdown",
      "source": [
        "So, if we sample $z$ from normal, whould we eventually generate all possible faces? What do you think?"
      ]
    },
    {
      "metadata": {
        "id": "u_WNjjBMf8gy",
        "colab_type": "text"
      },
      "cell_type": "markdown",
      "source": [
        "# Variational Autoencoder"
      ]
    },
    {
      "metadata": {
        "id": "CBQZJ1w-f8g2",
        "colab_type": "text"
      },
      "cell_type": "markdown",
      "source": [
        "Bayesian approach in deep learning considers everything in terms of distributions. Now our encoder generates not just a vector $z$ but posterior ditribution $q(z|x)$. In our case distribution $q$ is Gaussian distibution $N(\\mu, \\sigma)$ with parameters $\\mu$, $\\sigma$. Technically, the first difference is that you need to split bottleneck layer in two. One dense layer will generate vector $\\mu$, and another will generate vector $\\sigma$. Reparametrization trick should be implemented using the **gaussian_sampler** layer, that generates random vetor $\\epsilon$ and returns $\\mu+\\sigma\\epsilon \\sim N(\\mu, \\sigma)$ ."
      ]
    },
    {
      "metadata": {
        "id": "OJVubiMIf8g5",
        "colab_type": "text"
      },
      "cell_type": "markdown",
      "source": [
        "Since our decoder is also a function that generates distribution, we need to do the same splitting for output layer. When testing the model we will look only on mean values, so one of the output will be actual autoencoder output."
      ]
    },
    {
      "metadata": {
        "id": "H-atG481f8g_",
        "colab_type": "text"
      },
      "cell_type": "markdown",
      "source": [
        "In this homework we only ask for implementation of the simplest version of VAE - one $z$ sample per input. You can consider to sample several outputs from one input and average them."
      ]
    },
    {
      "metadata": {
        "id": "p4GkOgK3O_ml",
        "colab_type": "code",
        "colab": {}
      },
      "cell_type": "code",
      "source": [
        "dimZ = 128\n",
        "\n",
        "class VAE(nn.Module):\n",
        "    def __init__(self):\n",
        "        super(VAE, self).__init__()\n",
        "\n",
        "        self.pre_enc = nn.Sequential()\n",
        "        self.pre_enc.add_module('enc_fc_layer_1', nn.Linear(3888, 1024))\n",
        "        self.pre_enc.add_module('bn_1', nn.BatchNorm1d(1024))\n",
        "        self.pre_enc.add_module('relu_1', nn.ReLU())\n",
        "\n",
        "        self.encoder_mu = nn.Sequential()\n",
        "        self.encoder_mu.add_module('enc_fc_layer_2', nn.Linear(1024, dimZ))\n",
        "        self.encoder_mu.add_module('bn_2', nn.BatchNorm1d(dimZ))\n",
        "\n",
        "        self.encoder_logsigma = nn.Sequential()\n",
        "        self.encoder_logsigma.add_module('enc_fc_layer_3', nn.Linear(1024, dimZ))\n",
        "        self.encoder_logsigma.add_module('bn_3', nn.BatchNorm1d(dimZ))\n",
        "\n",
        "        self.pre_dec = nn.Sequential()\n",
        "        self.pre_dec.add_module('bn_4', nn.BatchNorm1d(dimZ))\n",
        "        self.pre_dec.add_module('dec_fc_layer_1', nn.Linear(dimZ, 1024))\n",
        "        self.pre_dec.add_module('relu_2', nn.ReLU())\n",
        "\n",
        "        self.dec_mu = nn.Linear(1024, 3888)\n",
        "        self.dec_sigma = nn.Linear(1024, 3888)\n",
        "\n",
        "\n",
        "\n",
        "    def gaussian_sampler(self, mu, logsigma):\n",
        "        if self.training:\n",
        "            std = logsigma.exp_()\n",
        "            eps = Variable(std.data.new(std.size()).normal_())\n",
        "            return eps.mul(std).add_(mu)\n",
        "        else:\n",
        "            return mu\n",
        "        \n",
        "    def encode(self, x):\n",
        "        x1 = self.pre_enc(x)\n",
        "        latent_mu = self.encoder_mu(x1)\n",
        "        latent_logsigma = self.encoder_logsigma(x1)/10\n",
        "        return latent_mu, latent_logsigma\n",
        "    \n",
        "    def decode(self, z):\n",
        "        z1 = self.pre_dec(z)\n",
        "        reconstruction_mu = self.dec_mu(z1)\n",
        "        reconstruction_logsigma = self.dec_sigma(z1)\n",
        "        return reconstruction_mu, reconstruction_logsigma\n",
        "\n",
        "    def forward(self, x):\n",
        "        latent_mu, latent_logsigma = self.encode(x)\n",
        "        reconstruction_mu, reconstruction_logsigma = self.decode(self.gaussian_sampler(latent_mu, latent_logsigma))\n",
        "        return reconstruction_mu, reconstruction_logsigma, latent_mu, latent_logsigma"
      ],
      "execution_count": 0,
      "outputs": []
    },
    {
      "metadata": {
        "id": "_gyuzjUAf8hF",
        "colab_type": "text"
      },
      "cell_type": "markdown",
      "source": [
        "And the last, but not least! Place in the code where the most of the formulaes goes to - optimization objective. The objective for VAE has it's own name - variational lowerbound. And as for any lowerbound our intention is to maximize it. Here it is (for one sample $z$ per input $x$):\n",
        "\n",
        "$$\\mathcal{L} = -D_{KL}(q_{\\phi}(z|x)||p_{\\theta}(z)) + \\log p_{\\theta}(x|z)$$\n",
        "\n",
        "Your next task is to implement two functions that compute KL-divergence and the second term - log-likelihood of an output. Here is some necessary math for your convenience:\n",
        "\n",
        "$$D_{KL} = -\\frac{1}{2}\\sum_{i=1}^{dimZ}(1+log(\\sigma_i^2)-\\mu_i^2-\\sigma_i^2)$$\n",
        "$$\\log p_{\\theta}(x|z) = \\sum_{i=1}^{dimX}\\log p_{\\theta}(x_i|z)=\\sum_{i=1}^{dimX} \\log \\Big( \\frac{1}{\\sigma_i\\sqrt{2\\pi}}e^{-\\frac{(\\mu_I-x)^2}{2\\sigma_i^2}} \\Big)=...$$\n",
        "\n",
        "Don't forget in the code that you are using $\\log\\sigma$ as variable. Explain, why not $\\sigma$?"
      ]
    },
    {
      "metadata": {
        "id": "cK-hformOjly",
        "colab_type": "code",
        "colab": {}
      },
      "cell_type": "code",
      "source": [
        "def KL_divergence(mu, logsigma):\n",
        "    return -(1 + 2 * logsigma - mu**2 - torch.exp(2 * logsigma)).sum(dim=1).mean(dim=0) / 2\n",
        "\n",
        "def log_likelihood(x, mu, logsigma):\n",
        "    return (-logsigma - np.log(2 * np.pi) / 2 - (mu - x)**2 / (2 * torch.exp(2 * logsigma))).sum(dim=1).mean(dim=0)\n",
        "\n",
        "def loss_vae(x, mu_gen, logsigma_gen, mu_z, logsigma_z):\n",
        "    return 0.5 * KL_divergence(mu_z, logsigma_z) - log_likelihood(x, mu_gen, logsigma_gen)"
      ],
      "execution_count": 0,
      "outputs": []
    },
    {
      "metadata": {
        "id": "UsFtLFnjf8hJ",
        "colab_type": "text"
      },
      "cell_type": "markdown",
      "source": [
        "And train the model:"
      ]
    },
    {
      "metadata": {
        "id": "jM5Y8FfRf8hK",
        "colab_type": "code",
        "colab": {}
      },
      "cell_type": "code",
      "source": [
        "# train your autoencoder\n",
        "# visualize progress in reconstruction and loss decay\n",
        "def train_vae(model, n_epoch, optimizer, train_loader, val_loader, image_h, image_w):\n",
        "    train_loss = []\n",
        "    for epoch in trange(n_epoch):\n",
        "        val\n",
        "        model.train()\n",
        "        for X in train_loader:\n",
        "            if epoch > 0:\n",
        "                rec_mu, rec_logsigma, lat_mu, lat_logsigma = model(Variable(X[0]).cuda())\n",
        "                loss = loss_vae(Variable(X[0]).cuda(), rec_mu, rec_logsigma, lat_mu, lat_logsigma)\n",
        "                loss.backward()\n",
        "                optimizer.step()\n",
        "                optimizer.zero_grad()\n",
        "                train_loss.append(loss.data.cpu().numpy())\n",
        "            else:\n",
        "                for param in model.parameters():\n",
        "                    param.data.clamp_(-1/2, 1/2)\n",
        "        model.eval()\n",
        "        for X in val_loader:\n",
        "            encode, _, _, _ = model(Variable(X[0]).cuda())\n",
        "        display.clear_output(wait = True)\n",
        "        \n",
        "        plt.figure(figsize = (10,5))\n",
        "        plt.subplot(1,2,1)\n",
        "        plt.imshow(X[0].cpu().numpy().reshape((image_h, image_w, 3)))\n",
        "        plt.title('Original image')\n",
        "        plt.subplot(1,2,2)\n",
        "        plt.imshow(encode.data.cpu().numpy().reshape((image_h, image_w, 3)))\n",
        "        plt.title('Encoded image')\n",
        "        plt.show()\n",
        "        \n",
        "        plt.figure(figsize = (10,5))\n",
        "        plt.plot(train_loss)\n",
        "        plt.title('Train loss')\n",
        "        plt.xlabel('Iteration')\n",
        "        plt.ylabel('Loss')\n",
        "        plt.show()\n",
        "        "
      ],
      "execution_count": 0,
      "outputs": []
    },
    {
      "metadata": {
        "id": "AKLAFp_WATO6",
        "colab_type": "code",
        "colab": {}
      },
      "cell_type": "code",
      "source": [
        "vae_model = VAE().cuda()\n",
        "optimizer_vae = optim.Adam(vae_model.parameters())\n",
        "train_vae(vae_model, 100, optimizer_vae, train_loader, val_loader, image_h, image_w)"
      ],
      "execution_count": 0,
      "outputs": []
    },
    {
      "metadata": {
        "id": "gU-Dls16f8hN",
        "colab_type": "code",
        "colab": {}
      },
      "cell_type": "code",
      "source": [
        "val_loader = data_utils.DataLoader(val, batch_size=1, shuffle=True)\n",
        "vae_model.eval()\n",
        "for j, data in enumerate(val_loader, 0):\n",
        "    input = Variable(data[0].cuda())\n",
        "    reconstruction_mu, _, _, _ = vae_model(input)\n",
        "    plot_gallery([data[0].numpy(), reconstruction_mu.data.cpu().numpy()], image_h, image_w, n_row=1, n_col=2)\n",
        "    if (j >= 9):\n",
        "        break"
      ],
      "execution_count": 0,
      "outputs": []
    },
    {
      "metadata": {
        "id": "xW-TIlfof8hP",
        "colab_type": "text"
      },
      "cell_type": "markdown",
      "source": [
        "And finally sample from VAE."
      ]
    },
    {
      "metadata": {
        "id": "LdU85G7Lf8hP",
        "colab_type": "code",
        "colab": {}
      },
      "cell_type": "code",
      "source": [
        "# TODO\n",
        "# Sample some images from the learned distribution\n",
        "# 1) Sample z ~ N(0,1)\n",
        "# 2) Sample from N(decoder_mu(z), decoder_sigma(z))\n",
        "z = torch.from_numpy(np.random.standard_normal((25, dimZ))).float()\n",
        "vae_out, _ = vae_model.decode(Variable(z.cuda()))\n",
        "plot_gallery(vae_out.data.cpu().numpy(), image_h, image_w, n_row = 5, n_col = 5)"
      ],
      "execution_count": 0,
      "outputs": []
    },
    {
      "metadata": {
        "id": "DLmc9wLBf8hR",
        "colab_type": "text"
      },
      "cell_type": "markdown",
      "source": [
        "Even if in practice you do not see the much difference between AE and VAE, or VAE is even worse, the little bayesian inside you should be jumping for joy right now. \n",
        "\n",
        "In VAE you can truly sample from image distribution $p(x)$, while in AE there is no easy and correct way to do it. "
      ]
    },
    {
      "metadata": {
        "id": "hW7UrWCDf8hS",
        "colab_type": "text"
      },
      "cell_type": "markdown",
      "source": [
        "## If you are going to do part 4 (presicion-recall score): "
      ]
    },
    {
      "metadata": {
        "id": "9T1vAXt5f8hS",
        "colab_type": "code",
        "colab": {}
      },
      "cell_type": "code",
      "source": [
        "# using your model, generate face set with len = len(data)\n",
        "z = torch.from_numpy(np.random.standard_normal((13143, dimZ))).float()\n",
        "answ, _ = vae_model.decode(Variable(z.cuda()))\n",
        "answ = answ.cpu().detach().numpy()\n",
        "\n",
        "# answ = <generated dataset>"
      ],
      "execution_count": 0,
      "outputs": []
    },
    {
      "metadata": {
        "id": "m8aAVxmNf8hV",
        "colab_type": "text"
      },
      "cell_type": "markdown",
      "source": [
        "## Save it ot npz"
      ]
    },
    {
      "metadata": {
        "id": "U0El0ggvf8hW",
        "colab_type": "code",
        "colab": {}
      },
      "cell_type": "code",
      "source": [
        "np.savez(\"vae.npz\", Pictures=answ)"
      ],
      "execution_count": 0,
      "outputs": []
    },
    {
      "metadata": {
        "collapsed": true,
        "id": "Be15FyCkf8hZ",
        "colab_type": "text"
      },
      "cell_type": "markdown",
      "source": [
        "# Congrats! and Bonus\n",
        "\n",
        "If you managed to tune your autoencoders to converge and learn something about the world, now it's time to make fun out of it. As you may have noticed, there are face attributes in dataset. We're interesting in \"Smiling\" column, but feel free to try others as well! Here is the first task:\n",
        "\n",
        "1) Extract the \"Smilling\" attribute and create a two sets of images: 10 smiling faces and 10 non-smiling ones.\n",
        "\n",
        "2) Compute latent representations for each image in \"smiling\" set and average those latent vectors. Do the same for \"non-smiling\" set. You have found **\"vector representation\"** of the \"smile\" and \"no smile\" attribute.\n",
        "\n",
        "3) Compute the difference: \"smile\" vector minus \"non-smile\" vector.\n",
        "\n",
        "3) Now check if **\"feature arithmetics\"** works. Sample a face without smile, encode it and add the diff from p. 3. Check if it works with both AE and VAE. "
      ]
    },
    {
      "metadata": {
        "id": "T4lngPlzD8Ob",
        "colab_type": "code",
        "colab": {}
      },
      "cell_type": "code",
      "source": [
        "from lfw_dataset import fetch_lfw_dataset\n",
        "data,attrs = fetch_lfw_dataset(dimx=36,dimy=36)"
      ],
      "execution_count": 0,
      "outputs": []
    },
    {
      "metadata": {
        "id": "6XqLGsMOEAiO",
        "colab_type": "code",
        "colab": {}
      },
      "cell_type": "code",
      "source": [
        "def array(data,size):\n",
        "    out = np.array(data)\n",
        "    out = out.reshape((size,-1))\n",
        "    out = out.astype('float32')\n",
        "    out = out /255\n",
        "    return out\n",
        "  \n",
        "def set_gen(data, attrs, length, sign, value):\n",
        "    out = []\n",
        "    for i in range(len(attrs['Smiling'])):\n",
        "        if sign == 0:\n",
        "            if attrs['Smiling'][i] > value:\n",
        "                out.append(data[i])\n",
        "            if len(out) == length:\n",
        "                return out\n",
        "        else:\n",
        "            if attrs['Smiling'][i] < value:\n",
        "                out.append(data[i])\n",
        "            if len(out) == length:\n",
        "                return out"
      ],
      "execution_count": 0,
      "outputs": []
    },
    {
      "metadata": {
        "id": "4SPApeddCdet",
        "colab_type": "text"
      },
      "cell_type": "markdown",
      "source": [
        "## 1. Data generation"
      ]
    },
    {
      "metadata": {
        "id": "x4ZhNANhTXt2",
        "colab_type": "code",
        "colab": {}
      },
      "cell_type": "code",
      "source": [
        "smiling = set_gen(data, attrs, length = 10, sign = 0, value =  2.5)\n",
        "nonsmiling = set_gen(data,attrs, length = 10, sign = 1, value = -2.5)\n",
        "\n",
        "x_sm = array(smiling,10)\n",
        "x_nsm = array(nonsmiling,10)"
      ],
      "execution_count": 0,
      "outputs": []
    },
    {
      "metadata": {
        "id": "iPny9x1qCsfU",
        "colab_type": "text"
      },
      "cell_type": "markdown",
      "source": [
        "## 2. Finding diff for VAE"
      ]
    },
    {
      "metadata": {
        "id": "NBu_wwxdUqNW",
        "colab_type": "code",
        "colab": {}
      },
      "cell_type": "code",
      "source": [
        "vae_model.eval()\n",
        "\n",
        "zsm, _ = vae_model.encode(Variable(torch.from_numpy(x_sm).float().cuda()))\n",
        "znsm, _ = vae_model.encode(Variable(torch.from_numpy(x_nsm).float().cuda()))\n",
        "diff_vae = torch.mean(zsm,dim=0) - torch.mean(znsm,dim=0)"
      ],
      "execution_count": 0,
      "outputs": []
    },
    {
      "metadata": {
        "id": "VjIffksNCzQX",
        "colab_type": "text"
      },
      "cell_type": "markdown",
      "source": [
        "## 3. Generating test set"
      ]
    },
    {
      "metadata": {
        "id": "M_DHUZzlcJ8s",
        "colab_type": "code",
        "colab": {}
      },
      "cell_type": "code",
      "source": [
        "nsm_test = set_gen(data,attrs, length = 20, sign = 1, value = -2.)\n",
        "x_nsm_test = array(nsm_test,20)"
      ],
      "execution_count": 0,
      "outputs": []
    },
    {
      "metadata": {
        "id": "6l0k7bDzC4Nu",
        "colab_type": "text"
      },
      "cell_type": "markdown",
      "source": [
        "## 4. Testing VAE"
      ]
    },
    {
      "metadata": {
        "id": "Vs1oJoCscNw7",
        "colab_type": "code",
        "colab": {}
      },
      "cell_type": "code",
      "source": [
        "plot_gallery(x_nsm_test, image_h, image_w, n_row=4, n_col=5)"
      ],
      "execution_count": 0,
      "outputs": []
    },
    {
      "metadata": {
        "id": "HjdoyBdocXWI",
        "colab_type": "code",
        "colab": {}
      },
      "cell_type": "code",
      "source": [
        "znsm_vae_test, _ = vae_model.encode(Variable(torch.from_numpy(x_nsm_test).float().cuda()))\n",
        "smile_reconst_vae, _ = vae_model.decode(znsm_vae_test + diff_vae)\n",
        "plot_gallery(smile_reconst_vae.data.cpu().numpy(), image_h, image_w, n_row=4, n_col=5)"
      ],
      "execution_count": 0,
      "outputs": []
    },
    {
      "metadata": {
        "id": "WMmYE7CLC75H",
        "colab_type": "text"
      },
      "cell_type": "markdown",
      "source": [
        "## 5. Finding diff for AE"
      ]
    },
    {
      "metadata": {
        "id": "5qOlARWYceXZ",
        "colab_type": "code",
        "colab": {}
      },
      "cell_type": "code",
      "source": [
        "autoencoder.eval()\n",
        "\n",
        "zsm_ae = autoencoder.encoder(Variable(torch.from_numpy(x_sm).float().cuda()));\n",
        "znsm_ae = autoencoder.encoder(Variable(torch.from_numpy(x_nsm).float().cuda()));\n",
        "diff_ae = torch.mean(zsm_ae,dim=0)-torch.mean(znsm_ae,dim=0);"
      ],
      "execution_count": 0,
      "outputs": []
    },
    {
      "metadata": {
        "id": "6wsLWMsmDEx6",
        "colab_type": "text"
      },
      "cell_type": "markdown",
      "source": [
        "## 6. Testing AE"
      ]
    },
    {
      "metadata": {
        "id": "LlK6G5eockLR",
        "colab_type": "code",
        "colab": {}
      },
      "cell_type": "code",
      "source": [
        "plot_gallery(x_nsm_test, image_h, image_w, n_row=4, n_col=5)"
      ],
      "execution_count": 0,
      "outputs": []
    },
    {
      "metadata": {
        "id": "jVIDr7R6clrX",
        "colab_type": "code",
        "colab": {}
      },
      "cell_type": "code",
      "source": [
        "znsm_ae_test = autoencoder.encoder(Variable(torch.from_numpy(x_nsm_test).float().cuda()));"
      ],
      "execution_count": 0,
      "outputs": []
    },
    {
      "metadata": {
        "id": "WHBeaKRbcn1r",
        "colab_type": "code",
        "colab": {}
      },
      "cell_type": "code",
      "source": [
        "smile_reconst_ae = autoencoder.decoder(znsm_ae_test + diff_ae)"
      ],
      "execution_count": 0,
      "outputs": []
    },
    {
      "metadata": {
        "id": "uOo0etmhcphV",
        "colab_type": "code",
        "colab": {}
      },
      "cell_type": "code",
      "source": [
        "plot_gallery(smile_reconst_ae.data.cpu().numpy(), image_h, image_w, n_row=4, n_col=5)"
      ],
      "execution_count": 0,
      "outputs": []
    }
  ]
}